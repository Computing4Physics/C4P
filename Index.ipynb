{
 "metadata": {
  "name": "",
  "signature": "sha256:a1352f4c285b73227af2406c686add10acbf3ecb66d046eb1b85118485b69510"
 },
 "nbformat": 3,
 "nbformat_minor": 0,
 "worksheets": [
  {
   "cells": [
    {
     "cell_type": "heading",
     "level": 1,
     "metadata": {},
     "source": [
      "<img src=\"C4PLogo.png\" width=300 style=\"display: inline;\"> Computing for Physics"
     ]
    },
    {
     "cell_type": "markdown",
     "metadata": {},
     "source": [
      "Welcome to the homepage of **Computing for Physics**, a 10-week course for physics students to learn programming and apply their skills to solving interesting problems in physics.  This course was developed by [Jennifer Klay](http://physics.calpoly.edu/node/77) in collaboration with [Brian Granger](http://physics.calpoly.edu/node/54), at [Cal Poly San Luis Obispo](http://physics.calpoly.edu/) over the course of several years (2012-2014)."
     ]
    },
    {
     "cell_type": "markdown",
     "metadata": {},
     "source": [
      "Our aim was to prepare a framework that would allow us to develop materials and practices collaboratively to be shared openly online with anyone interested in either taking or instructing such a course.  Although the present software platform is the [iPython notebook](http://ipython.org/), we may in the future adapt it for different languages or environments.  If you are interested in contributing to this project, [fork the repository](https://help.github.com/articles/fork-a-repo) and code away.  We will gladly entertain pull requests.\n",
      "\n",
      "An overview of the course was presented at the [SciPy2014](https://conference.scipy.org/scipy2014/) conference in Austin, TX.  The [conference proceeding](http://scipy-conference.github.io/proceedings/2014/) provides a written summary of the course experience.  You can also view the video of my talk [here](https://www.youtube.com/watch?v=eJhmMf6bHDU&list=PLYx7XA2nY5GfuhCvStxgbynFNrxr3VFog&index=6)."
     ]
    },
    {
     "cell_type": "markdown",
     "metadata": {},
     "source": [
      "---"
     ]
    },
    {
     "cell_type": "heading",
     "level": 2,
     "metadata": {},
     "source": [
      "Overview"
     ]
    },
    {
     "cell_type": "markdown",
     "metadata": {},
     "source": [
      "The materials are organized by category as either [content](Content) or [resources](Resources).  Content includes a variety of lessons on specific topics and associated exercises, while Resources provide background materials, course schedule and syllabus, notes and information for assessment of learning, etc."
     ]
    },
    {
     "cell_type": "markdown",
     "metadata": {},
     "source": [
      "* [**Course Schedule**](Resources/Schedule/Schedule.ipynb) - main entry point to the course materials."
     ]
    },
    {
     "cell_type": "markdown",
     "metadata": {},
     "source": [
      "* [**Syllabus**](Resources/Syllabus/Syllabus-2014.ipynb) - an example syllabus from 2014\n",
      "  * [**Learning Objectives**](Resources/Syllabus/Syllabus-2014.ipynb#Course-Objectives)"
     ]
    },
    {
     "cell_type": "markdown",
     "metadata": {},
     "source": [
      "---"
     ]
    },
    {
     "cell_type": "heading",
     "level": 2,
     "metadata": {},
     "source": [
      "Contact us"
     ]
    },
    {
     "cell_type": "markdown",
     "metadata": {},
     "source": [
      "Feel free to contact us: [Jennifer Klay](mailto:jklay@calpoly.edu), [Brian Granger](mailto:bgranger@calpoly.edu) if you have any questions, feedback, or want to contribute."
     ]
    },
    {
     "cell_type": "markdown",
     "metadata": {},
     "source": [
      "---"
     ]
    },
    {
     "cell_type": "markdown",
     "metadata": {},
     "source": [
      "<img src=\"C4PLogo.png\" width=200 style=\"display: inline;\"> All content is under a modified MIT License, and can be freely used and adapted.  See the full license text [here](LICENSE)."
     ]
    }
   ],
   "metadata": {}
  }
 ]
}