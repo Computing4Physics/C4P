{
 "metadata": {
  "name": "",
  "signature": "sha256:b50bdb31a82455434a6499e5d9516f9ea4c8bf66542c1c8fb3fc90910b2e473b"
 },
 "nbformat": 3,
 "nbformat_minor": 0,
 "worksheets": [
  {
   "cells": [
    {
     "cell_type": "heading",
     "level": 1,
     "metadata": {},
     "source": [
      "Peer Evaluation Form"
     ]
    },
    {
     "cell_type": "markdown",
     "metadata": {},
     "source": [
      "This rubric will be used by the students to assess the project demos during the final exam period."
     ]
    },
    {
     "cell_type": "markdown",
     "metadata": {},
     "source": [
      "---"
     ]
    },
    {
     "cell_type": "markdown",
     "metadata": {},
     "source": [
      "<table><tr><th>Category/Score</th>\n",
      "  <th>4 - Exemplary</th>\n",
      "  <th>3 - Accomplished</th>\n",
      "  <th>2 - Fair</th>\n",
      "  <th>1 - Poor</th></tr>\n",
      "<tr><th>Organization</th>\n",
      "  <td>The demo is well organized and has a clear logical progression from beginning to end. \n",
      "Clearly states the research question to be answered.</td>\n",
      "  <td>Demo is reasonably well organized, but has occasional jumps that are hard to follow. \n",
      "Research question is stated.</td>\n",
      "  <td>Organization is weak. The demo is rather hard to follow.  Research question is not stated clearly.</td>\n",
      "  <td>The demo is very disorganized and hard to follow. \n",
      "Research question not stated at all.</td></tr>\n",
      "<tr><th>Media</th>\n",
      "  <td>Graphics or output are all clear, well designed, appropriate, and support the demo.  \n",
      "Plot labels are legible, understandable.</td>\n",
      "  <td>Graphics or output are OK but some could be better designed.</td>\n",
      "  <td>Graphics or output need work. May be lacking some appropriate materials to clearly elucidate results (e.g. missing animation or plot where needed).</td>\n",
      "  <td>Graphics or output are poor. Hard to read, poorly designed.  Important graphical results are missing.</td></tr>\n",
      "<tr><th>Delivery</th>\n",
      "  <td>Looks professional. Is relaxed, confident and enthusiastic. Speaks clearly at all times, with good volume, good pace, and smooth delivery.</td>\n",
      "  <td>Enthusiasm doesn\u2019t come through. Volume and/or pace have occasional problems. Too many pauses and \u201cumms.\u201d</td>\n",
      "  <td>Isn\u2019t confident or relaxed. Understandable, but serious difficulties with volume, pace, and/or pauses.</td>\n",
      "  <td>Attitude is problematic. Hard to understand. Mumbles or speaks much too softly.</td></tr>\n",
      "<tr><th>Content</th>\n",
      "  <td>Speaker shows mastery of the topic. Project details and analysis are very clear. Research question is answered completely and appears correct.</td>\n",
      "  <td>Speaker shows a decent understanding of the topic. Project details and analysis could have been clearer. Research question mostly answered.</td>\n",
      "  <td>Understanding is weak; there are errors in the demo and/or significant pieces of the analysis were missing.</td>\n",
      "  <td>Does not seem to understand the project much at all. Many errors. No serious attempt to answer research question.</td></tr>\n",
      "</table>"
     ]
    },
    {
     "cell_type": "markdown",
     "metadata": {},
     "source": [
      "---\n",
      "\n",
      "Please assign a numerical score from 1 to 4 for each element of the student's presentation.  Include your name on the form and be sure to evaluate yourself.\n",
      "\n",
      "<table><tr><th>Name</th><th>Organization</th><th>Media</th><th>Delivery</th><th>Content</th></tr>\n",
      "<tr><th>Student 1</th><td></td><td></td><td></td><td></td></tr>\n",
      "<tr><th>Student 1</th><td></td><td></td><td></td><td></td></tr>\n",
      "<tr><th>Student 1</th><td></td><td></td><td></td><td></td></tr>\n",
      "<tr><th>Student 1</th><td></td><td></td><td></td><td></td></tr>\n",
      "<tr><th>Etc. ...</th><td></td><td></td><td></td><td></td></tr>\n",
      "</table>"
     ]
    },
    {
     "cell_type": "markdown",
     "metadata": {},
     "source": [
      "---"
     ]
    }
   ],
   "metadata": {}
  }
 ]
}