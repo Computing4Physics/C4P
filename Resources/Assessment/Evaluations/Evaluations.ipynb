{
 "metadata": {
  "name": "",
  "signature": "sha256:8b3e3156938a2db8452ac6fa1f34f322402164c6a9157fa407c73a43f94651fc"
 },
 "nbformat": 3,
 "nbformat_minor": 0,
 "worksheets": [
  {
   "cells": [
    {
     "cell_type": "heading",
     "level": 1,
     "metadata": {},
     "source": [
      "<img src=\"../../../C4PLogo.png\" width=300 style=\"display: inline;\"> Course Evaluations"
     ]
    },
    {
     "cell_type": "markdown",
     "metadata": {},
     "source": [
      "These are questions that were implemented in 2014 Cal Poly PHYS 202 Course Evaluations."
     ]
    },
    {
     "cell_type": "markdown",
     "metadata": {},
     "source": [
      "---"
     ]
    },
    {
     "cell_type": "markdown",
     "metadata": {},
     "source": [
      "**Course catalog description:**  Introduction to using computers for solving problems in physics: differential equations, matrix manipulations, simulations and numerical techniques, nonlinear dynamics."
     ]
    },
    {
     "cell_type": "markdown",
     "metadata": {},
     "source": [
      "**The first eleven questions on this survey will allow you to evaluate how well this course met the learning objectives from the syllabus.**\n",
      "\n",
      "---"
     ]
    },
    {
     "cell_type": "heading",
     "level": 3,
     "metadata": {},
     "source": [
      "1. Upon completion of the course you should be able to use basic coding concepts such as loops, control statements, variable types, arrays, array operations, and boolean logic."
     ]
    },
    {
     "cell_type": "markdown",
     "metadata": {},
     "source": [
      "   * Completely met the objective\n",
      "   * Mostly met the objective\n",
      "   * Neutral\n",
      "   * Partially met the objective\n",
      "   * Did not meet the objective"
     ]
    },
    {
     "cell_type": "heading",
     "level": 3,
     "metadata": {},
     "source": [
      "2. Upon completion of the course you should be able to write, run and debug programs in a high level language."
     ]
    },
    {
     "cell_type": "markdown",
     "metadata": {},
     "source": [
      "   * Completely met the objective\n",
      "   * Mostly met the objective\n",
      "   * Neutral\n",
      "   * Partially met the objective\n",
      "   * Did not meet the objective"
     ]
    },
    {
     "cell_type": "heading",
     "level": 3,
     "metadata": {},
     "source": [
      "3. Upon completion of the course you should be able to carry out basic operations (e.g. cd, ls, dir, mkdir, ssh) at the command line. "
     ]
    },
    {
     "cell_type": "markdown",
     "metadata": {},
     "source": [
      "   * Completely met the objective\n",
      "   * Mostly met the objective\n",
      "   * Neutral\n",
      "   * Partially met the objective\n",
      "   * Did not meet the objective"
     ]
    },
    {
     "cell_type": "heading",
     "level": 3,
     "metadata": {},
     "source": [
      "4. Upon completion of the course you should be able to maintain a version controlled repository of your files and programs."
     ]
    },
    {
     "cell_type": "markdown",
     "metadata": {},
     "source": [
      "   * Completely met the objective\n",
      "   * Mostly met the objective\n",
      "   * Neutral\n",
      "   * Partially met the objective\n",
      "   * Did not meet the objective"
     ]
    },
    {
     "cell_type": "heading",
     "level": 3,
     "metadata": {},
     "source": [
      "5. Upon completion of the course you should be able to create publication/presentation quality graphics, equations. "
     ]
    },
    {
     "cell_type": "markdown",
     "metadata": {},
     "source": [
      "   * Completely met the objective\n",
      "   * Mostly met the objective\n",
      "   * Neutral\n",
      "   * Partially met the objective\n",
      "   * Did not meet the objective"
     ]
    },
    {
     "cell_type": "heading",
     "level": 3,
     "metadata": {},
     "source": [
      "6. Upon completion of the course you should be able to visualize symbolic analytic expressions - plot functions and evaluate their behavior for varying parameters."
     ]
    },
    {
     "cell_type": "markdown",
     "metadata": {},
     "source": [
      "   * Completely met the objective\n",
      "   * Mostly met the objective\n",
      "   * Neutral\n",
      "   * Partially met the objective\n",
      "   * Did not meet the objective"
     ]
    },
    {
     "cell_type": "heading",
     "level": 3,
     "metadata": {},
     "source": [
      "7. Upon completion of the course you should be able to use numerical algorithms (e.g. ODE solvers, FFT, Monte Carlo) and be able to identify their limitations."
     ]
    },
    {
     "cell_type": "markdown",
     "metadata": {},
     "source": [
      "   * Completely met the objective\n",
      "   * Mostly met the objective\n",
      "   * Neutral\n",
      "   * Partially met the objective\n",
      "   * Did not meet the objective "
     ]
    },
    {
     "cell_type": "heading",
     "level": 3,
     "metadata": {},
     "source": [
      "8. Upon completion of the course you should be able to code numerical algorithms from scratch and compare with existing implementations. "
     ]
    },
    {
     "cell_type": "markdown",
     "metadata": {},
     "source": [
      "   * Completely met the objective\n",
      "   * Mostly met the objective\n",
      "   * Neutral\n",
      "   * Partially met the objective\n",
      "   * Did not meet the objective"
     ]
    },
    {
     "cell_type": "heading",
     "level": 3,
     "metadata": {},
     "source": [
      "9. Upon completion of the course you should be able to read from and write to local or remote files."
     ]
    },
    {
     "cell_type": "markdown",
     "metadata": {},
     "source": [
      "   * Completely met the objective\n",
      "   * Mostly met the objective\n",
      "   * Neutral\n",
      "   * Partially met the objective\n",
      "   * Did not meet the objective"
     ]
    },
    {
     "cell_type": "heading",
     "level": 3,
     "metadata": {},
     "source": [
      "10. Upon completion of the course you should be able to analyze data using curve fitting and optimization. "
     ]
    },
    {
     "cell_type": "markdown",
     "metadata": {},
     "source": [
      "   * Completely met the objective\n",
      "   * Mostly met the objective\n",
      "   * Neutral\n",
      "   * Partially met the objective\n",
      "   * Did not meet the objective"
     ]
    },
    {
     "cell_type": "heading",
     "level": 3,
     "metadata": {},
     "source": [
      "11. Upon completion of the course you should be able to create appropriate visualizations of data, e.g. multidimensional plots, animations, etc."
     ]
    },
    {
     "cell_type": "markdown",
     "metadata": {},
     "source": [
      "   * Completely met the objective\n",
      "   * Mostly met the objective\n",
      "   * Neutral\n",
      "   * Partially met the objective\n",
      "   * Did not meet the objective"
     ]
    },
    {
     "cell_type": "markdown",
     "metadata": {},
     "source": [
      "---"
     ]
    },
    {
     "cell_type": "heading",
     "level": 3,
     "metadata": {},
     "source": [
      "12. Do you have any suggestions for how the course or the instructor could better help you meet the learning objectives?"
     ]
    },
    {
     "cell_type": "markdown",
     "metadata": {},
     "source": [
      "* Free response field"
     ]
    },
    {
     "cell_type": "heading",
     "level": 3,
     "metadata": {},
     "source": [
      "13. Are there any learning objectives that you feel should NOT be included in the course?"
     ]
    },
    {
     "cell_type": "markdown",
     "metadata": {},
     "source": [
      "* Free response field"
     ]
    },
    {
     "cell_type": "heading",
     "level": 3,
     "metadata": {},
     "source": [
      "14. Are there any learning objectives for this course that you think should be included but were not?"
     ]
    },
    {
     "cell_type": "markdown",
     "metadata": {},
     "source": [
      "* Free response field"
     ]
    },
    {
     "cell_type": "heading",
     "level": 3,
     "metadata": {},
     "source": [
      "15. Rate the relevance of the learning objectives for your subsequent coursework at Cal Poly.\n"
     ]
    },
    {
     "cell_type": "markdown",
     "metadata": {},
     "source": [
      "* Extremely useful, essential to my success\n",
      "* Useful but not essential\n",
      "* Not useful or essential\n",
      "* I don't know"
     ]
    },
    {
     "cell_type": "heading",
     "level": 3,
     "metadata": {},
     "source": [
      "16. Rate the relevance of the learning objectives to your career goals after Cal Poly."
     ]
    },
    {
     "cell_type": "markdown",
     "metadata": {},
     "source": [
      "* Extremely useful, essential to my success\n",
      "* Useful but not essential\n",
      "* Not useful or essential\n",
      "* I don't know"
     ]
    },
    {
     "cell_type": "heading",
     "level": 3,
     "metadata": {},
     "source": [
      "17. How likely are you to use what you learned in this course beyond this quarter?"
     ]
    },
    {
     "cell_type": "markdown",
     "metadata": {},
     "source": [
      "* Very likely\n",
      "* Somewhat likely\n",
      "* Very unlikely\n",
      "* I don't know"
     ]
    },
    {
     "cell_type": "markdown",
     "metadata": {},
     "source": [
      "**The next few questions appeared on the pre-learner survey at the beginning of the quarter.  This is a follow-up to determine whether your answers might have changed.**"
     ]
    },
    {
     "cell_type": "heading",
     "level": 3,
     "metadata": {},
     "source": [
      "18. With which programming languages could you write a program from scratch that reads a column of numbers from a text file and calculates mean and standard deviation of that data? (Check all that apply)"
     ]
    },
    {
     "cell_type": "markdown",
     "metadata": {},
     "source": [
      "* Fortran\n",
      "* C\n",
      "* C++\n",
      "* Perl\n",
      "* MATLAB\n",
      "* Python\n",
      "* R\n",
      "* Java\n",
      "* Other\n",
      "* None"
     ]
    },
    {
     "cell_type": "heading",
     "level": 3,
     "metadata": {},
     "source": [
      "19. In the following scenario, please select the answer that best applies to you. A tab-delimited file has two columns showing the date and the highest temperature on that day. Write a program to produce a graph showing the average highest temperature for each month."
     ]
    },
    {
     "cell_type": "markdown",
     "metadata": {},
     "source": [
      "* I could not complete this task.\n",
      "* I could complete the task with documentation or search engine help.\n",
      "* I could complete the task with little or no documentation or search engine help."
     ]
    },
    {
     "cell_type": "heading",
     "level": 3,
     "metadata": {},
     "source": [
      "20. In the following scenario, please select the answer that best applies to you. Given the URL for a project's version control repository, check out a working copy of that project, add a file called notes.txt, and commit the change."
     ]
    },
    {
     "cell_type": "markdown",
     "metadata": {},
     "source": [
      "* I could not complete this task.\n",
      "* I could complete the task with documentation or search help.\n",
      "* I could complete the task with little or no documentation or search help."
     ]
    },
    {
     "cell_type": "heading",
     "level": 3,
     "metadata": {},
     "source": [
      "21. How would you solve this problem? A directory contains 1000 text files. Create a list of all files that contain the word \"Drosophila\" and save the result to a file called results.txt."
     ]
    },
    {
     "cell_type": "markdown",
     "metadata": {},
     "source": [
      "* I could not create this list\n",
      "* I would create this list using \"Find in Files\" and \"copy and paste\"\n",
      "* I would create this list using basic command line programs\n",
      "* I would create this list using a pipeline of command line programs\n",
      "* I would create this list using some Python code and the ! escape\n",
      "* I would create this list with code using the Python 'os' and 'sys' libraries\n"
     ]
    },
    {
     "cell_type": "heading",
     "level": 3,
     "metadata": {},
     "source": [
      "22. On average, I have spent __ hours per week doing work outside of class for this course."
     ]
    },
    {
     "cell_type": "markdown",
     "metadata": {},
     "source": [
      "* 0-2 hours\n",
      "* 3-4 hours\n",
      "* 5-6 hours\n",
      "* 7-9 hours\n",
      "* 10+ hours"
     ]
    },
    {
     "cell_type": "heading",
     "level": 3,
     "metadata": {},
     "source": [
      "23. The assignments in this course have enhanced my learning."
     ]
    },
    {
     "cell_type": "markdown",
     "metadata": {},
     "source": [
      "* Strongly agree\n",
      "* Agree\n",
      "* Neutral\n",
      "* Disagree\n",
      "* Strongly disagree"
     ]
    },
    {
     "cell_type": "heading",
     "level": 3,
     "metadata": {},
     "source": [
      "24. The amount of work I was asked to do was appropriate."
     ]
    },
    {
     "cell_type": "markdown",
     "metadata": {},
     "source": [
      "* Strongly agree\n",
      "* Agree\n",
      "* Neutral\n",
      "* Disagree\n",
      "* Strongly disagree"
     ]
    },
    {
     "cell_type": "heading",
     "level": 3,
     "metadata": {},
     "source": [
      "25. The instructor communicated course objectives clearly."
     ]
    },
    {
     "cell_type": "markdown",
     "metadata": {},
     "source": [
      "* Strongly agree\n",
      "* Agree\n",
      "* Neutral\n",
      "* Disagree\n",
      "* Strongly disagree"
     ]
    },
    {
     "cell_type": "heading",
     "level": 3,
     "metadata": {},
     "source": [
      "26. The instructor communicated his/her expectations of students clearly."
     ]
    },
    {
     "cell_type": "markdown",
     "metadata": {},
     "source": [
      "* Strongly agree\n",
      "* Agree\n",
      "* Neutral\n",
      "* Disagree\n",
      "* Strongly disagree"
     ]
    },
    {
     "cell_type": "heading",
     "level": 3,
     "metadata": {},
     "source": [
      "27. The instructor was respectful toward students."
     ]
    },
    {
     "cell_type": "markdown",
     "metadata": {},
     "source": [
      "* Always\n",
      "* Usually\n",
      "* Sometimes\n",
      "* Rarely\n",
      "* Never"
     ]
    },
    {
     "cell_type": "heading",
     "level": 3,
     "metadata": {},
     "source": [
      "28. The instructor was well prepared for class."
     ]
    },
    {
     "cell_type": "markdown",
     "metadata": {},
     "source": [
      "* Always\n",
      "* Usually\n",
      "* Sometimes\n",
      "* Rarely\n",
      "* Never"
     ]
    },
    {
     "cell_type": "heading",
     "level": 3,
     "metadata": {},
     "source": [
      "29. The instructor clearly explained difficult material and concepts."
     ]
    },
    {
     "cell_type": "markdown",
     "metadata": {},
     "source": [
      "* Always\n",
      "* Usually\n",
      "* Sometimes\n",
      "* Rarely\n",
      "* Never"
     ]
    },
    {
     "cell_type": "heading",
     "level": 3,
     "metadata": {},
     "source": [
      "30. The instructor encouraged students to ask questions."
     ]
    },
    {
     "cell_type": "markdown",
     "metadata": {},
     "source": [
      "* Always\n",
      "* Usually\n",
      "* Sometimes\n",
      "* Rarely\n",
      "* Never"
     ]
    },
    {
     "cell_type": "heading",
     "level": 3,
     "metadata": {},
     "source": [
      "31. The instructor answered questions clearly and completely."
     ]
    },
    {
     "cell_type": "markdown",
     "metadata": {},
     "source": [
      "* Always\n",
      "* Usually\n",
      "* Sometimes\n",
      "* Rarely\n",
      "* Never"
     ]
    },
    {
     "cell_type": "heading",
     "level": 3,
     "metadata": {},
     "source": [
      "32. The course syllabus and schedule were clear and well organized."
     ]
    },
    {
     "cell_type": "markdown",
     "metadata": {},
     "source": [
      "* Very clear and organized\n",
      "* Reasonably clear and organized\n",
      "* Somewhat clear and organized\n",
      "* Not clear or organized\n",
      "* Unclear and disorganized"
     ]
    },
    {
     "cell_type": "heading",
     "level": 3,
     "metadata": {},
     "source": [
      "33. The exams were fair assessments of student learning."
     ]
    },
    {
     "cell_type": "markdown",
     "metadata": {},
     "source": [
      "* Very fair\n",
      "* Mostly fair\n",
      "* Somewhat fair\n",
      "* Somewhat unfair\n",
      "* Very unfair"
     ]
    },
    {
     "cell_type": "heading",
     "level": 3,
     "metadata": {},
     "source": [
      "34. Exams and assignments were graded fairly and consistently."
     ]
    },
    {
     "cell_type": "markdown",
     "metadata": {},
     "source": [
      "* Always\n",
      "* Usually\n",
      "* Sometimes\n",
      "* Rarely\n",
      "* Never"
     ]
    },
    {
     "cell_type": "heading",
     "level": 3,
     "metadata": {},
     "source": [
      "35. Overall, I would recommend the instructor to other students."
     ]
    },
    {
     "cell_type": "markdown",
     "metadata": {},
     "source": [
      "* Absolutely; a great instructor\n",
      "* Yes; a very good instructor\n",
      "* Generally yes; with a few reservations\n",
      "* Probably not\n",
      "* Definitely not"
     ]
    },
    {
     "cell_type": "heading",
     "level": 3,
     "metadata": {},
     "source": [
      "36. What could the instructor have done to better facilitate your learning and skill development?"
     ]
    },
    {
     "cell_type": "markdown",
     "metadata": {},
     "source": [
      "* Free response field"
     ]
    },
    {
     "cell_type": "heading",
     "level": 3,
     "metadata": {},
     "source": [
      "37. What could *you* have done differently to better facilitate your learning and skill development?"
     ]
    },
    {
     "cell_type": "markdown",
     "metadata": {},
     "source": [
      "* Free response field"
     ]
    },
    {
     "cell_type": "markdown",
     "metadata": {},
     "source": [
      "---"
     ]
    },
    {
     "cell_type": "markdown",
     "metadata": {},
     "source": [
      "** The preceding questions will be used by your instructor to improve the quality of the course for future students.  The remaining questions are the manadatory ones required by the University.**\n",
      "\n",
      "---"
     ]
    },
    {
     "cell_type": "heading",
     "level": 3,
     "metadata": {},
     "source": [
      "1. The ability of the instructor to present the course material clearly is"
     ]
    },
    {
     "cell_type": "markdown",
     "metadata": {},
     "source": [
      "* Well above average\n",
      "* Above average\n",
      "* Average\n",
      "* Below average\n",
      "* Well below average"
     ]
    },
    {
     "cell_type": "heading",
     "level": 3,
     "metadata": {},
     "source": [
      "2. The ability of the instructor to recognize and clarify student difficulties is (in class or during office hours)"
     ]
    },
    {
     "cell_type": "markdown",
     "metadata": {},
     "source": [
      "* Well above average\n",
      "* Above average\n",
      "* Average\n",
      "* Below average\n",
      "* Well below average"
     ]
    },
    {
     "cell_type": "heading",
     "level": 3,
     "metadata": {},
     "source": [
      "3. What is your class standing?"
     ]
    },
    {
     "cell_type": "markdown",
     "metadata": {},
     "source": [
      "* Freshman\n",
      "* Sophomore\n",
      "* Junior\n",
      "* Senior\n",
      "* Graduate"
     ]
    },
    {
     "cell_type": "heading",
     "level": 3,
     "metadata": {},
     "source": [
      "4. What is your reason for taking this class?"
     ]
    },
    {
     "cell_type": "markdown",
     "metadata": {},
     "source": [
      "* Elective\n",
      "* Required"
     ]
    },
    {
     "cell_type": "heading",
     "level": 3,
     "metadata": {},
     "source": [
      "5. Overall, how do you rate this course?"
     ]
    },
    {
     "cell_type": "markdown",
     "metadata": {},
     "source": [
      "* A(excellent)\n",
      "* B\n",
      "* C\n",
      "* D\n",
      "* F(unacceptable)"
     ]
    },
    {
     "cell_type": "heading",
     "level": 3,
     "metadata": {},
     "source": [
      "6. Overall, how do you rate this instructor?"
     ]
    },
    {
     "cell_type": "markdown",
     "metadata": {},
     "source": [
      "* A(excellent)\n",
      "* B\n",
      "* C\n",
      "* D\n",
      "* F(unacceptable)"
     ]
    },
    {
     "cell_type": "heading",
     "level": 3,
     "metadata": {},
     "source": [
      "7. If you have any further comments, type them here."
     ]
    },
    {
     "cell_type": "markdown",
     "metadata": {},
     "source": [
      "* Free response field"
     ]
    },
    {
     "cell_type": "markdown",
     "metadata": {},
     "source": [
      "---"
     ]
    },
    {
     "cell_type": "markdown",
     "metadata": {},
     "source": [
      "<img src=\"../../../C4PLogo.png\" width=200 style=\"display: inline;\"> All content is under a modified MIT License, and can be freely used and adapted.  See the full license text [here](../../../LICENSE)."
     ]
    }
   ],
   "metadata": {}
  }
 ]
}