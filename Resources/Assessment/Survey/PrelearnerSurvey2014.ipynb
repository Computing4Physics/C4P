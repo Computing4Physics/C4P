{
 "metadata": {
  "name": "",
  "signature": "sha256:7b29a19189ae8eb577799d14a7bd2e1093d00ffedc435dc6c6fb60e6f1f47ae1"
 },
 "nbformat": 3,
 "nbformat_minor": 0,
 "worksheets": [
  {
   "cells": [
    {
     "cell_type": "heading",
     "level": 1,
     "metadata": {},
     "source": [
      "<img src=\"../../../C4PLogo.png\" width=300 style=\"display: inline;\"> Pre-learner Survey"
     ]
    },
    {
     "cell_type": "markdown",
     "metadata": {},
     "source": [
      "This survey, based on a similar [Software Carpentry](http://www.software-carpentry.org) survey can be given to students on the first day of class.  The responses from 2014 at Cal Poly have been added for each question."
     ]
    },
    {
     "cell_type": "markdown",
     "metadata": {},
     "source": [
      "---"
     ]
    },
    {
     "cell_type": "heading",
     "level": 3,
     "metadata": {},
     "source": [
      "1. What kind of computer do you have?"
     ]
    },
    {
     "cell_type": "markdown",
     "metadata": {},
     "source": [
      "    a. Desktop\n",
      "    b. Laptop\n",
      "    c. Tablet\n",
      "    d. Other (describe)\n",
      "    e. None"
     ]
    },
    {
     "cell_type": "markdown",
     "metadata": {},
     "source": [
      "Responses:\n",
      "\n",
      "    a only (1)\n",
      "    b only (31)\n",
      "    a and b (7)\n",
      "    b and c (2)\n",
      "    \"Everything\" (1)"
     ]
    },
    {
     "cell_type": "heading",
     "level": 3,
     "metadata": {},
     "source": [
      "2. What operating system do you use on your computer?"
     ]
    },
    {
     "cell_type": "markdown",
     "metadata": {},
     "source": [
      "    a. Linux (3)\n",
      "    b. Apple OS X (14)\n",
      "    c. Windows (26)\n",
      "    d. I do not know what operating system I use. (0)\n",
      "    e. I do not have a computer. (0)\n",
      "    f. Other (describe)"
     ]
    },
    {
     "cell_type": "heading",
     "level": 3,
     "metadata": {},
     "source": [
      "3. With which programming languages could you write a program from scratch that reads a column of numbers from a text file and calculates mean and standard deviation of that data?"
     ]
    },
    {
     "cell_type": "markdown",
     "metadata": {},
     "source": [
      "    a. Fortran (0)\n",
      "    b. C\n",
      "    c. C++\n",
      "    d. Perl\n",
      "    e. MATLAB\n",
      "    f. Python\n",
      "    g. R\n",
      "    h. Java\n",
      "    i. Others (list)\n",
      "    j. I do not use any programming languages (20)"
     ]
    },
    {
     "cell_type": "markdown",
     "metadata": {},
     "source": [
      "Other responses: \n",
      "\n",
      "    b only (1)\n",
      "    c only (1)\n",
      "    e only (2)\n",
      "    f only (2)\n",
      "    h only (3)\n",
      "    Labview only (7)\n",
      "    c and h (2)\n",
      "    b, c, and e (1)\n",
      "    b, c, and f (1)\n",
      "    b, c, e, and h (1)\n",
      "    b, c, e, g, and h (1)"
     ]
    },
    {
     "cell_type": "heading",
     "level": 3,
     "metadata": {},
     "source": [
      "4. What best describes how often you currently program?"
     ]
    },
    {
     "cell_type": "markdown",
     "metadata": {},
     "source": [
      "    a. I have never programmed. (16 - including one who circled Labview)\n",
      "    b. I program less than one a year. (6)\n",
      "    c. I program once a year. (7)\n",
      "    d. I program several times a year. (8)\n",
      "    e. I program once a month. (2)\n",
      "    f. I program once a week or more. (3)"
     ]
    },
    {
     "cell_type": "heading",
     "level": 3,
     "metadata": {},
     "source": [
      "5. What best describes the complexity of your programming? (Choose all that apply.)"
     ]
    },
    {
     "cell_type": "markdown",
     "metadata": {},
     "source": [
      "    a. I have never programmed. (17)\n",
      "    b. I write scripts that are a few lines long to analyze data. (13)\n",
      "    c. I write programs that are a page or two long for my own use. (9)\n",
      "    d. I write programs that are many pages long for my own use and for others to use. (3)\n",
      "    e. I am primarily a programmer. (1)"
     ]
    },
    {
     "cell_type": "heading",
     "level": 2,
     "metadata": {},
     "source": [
      "In each of the following scenarios, please select the answer that best applies to you."
     ]
    },
    {
     "cell_type": "heading",
     "level": 3,
     "metadata": {},
     "source": [
      "6. A tab-delimited file has two columns showing the date and the highest temperature on that day. Write a program to produce a graph showing the average highest temperature for each month."
     ]
    },
    {
     "cell_type": "markdown",
     "metadata": {},
     "source": [
      "    a. I could not complete this task. (19)\n",
      "    b. I could complete the task with documentation or search engine help. (22)\n",
      "    c. I could complete the task with little or no documentation or search engine help. (1)"
     ]
    },
    {
     "cell_type": "heading",
     "level": 3,
     "metadata": {},
     "source": [
      "7a. How familiar do you think you are with version control?"
     ]
    },
    {
     "cell_type": "markdown",
     "metadata": {},
     "source": [
      "    a. I am not familiar with version control. (37)\n",
      "    b. I am familiar only with the name. (2)\n",
      "    c. I am familiar with version control but have never used it. (3)\n",
      "    d. I am familiar with version control because I have used it or am using it. (0)\n",
      "\n",
      "    Version control system I am familiar with (if any): Two who answered (c) said Github"
     ]
    },
    {
     "cell_type": "heading",
     "level": 3,
     "metadata": {},
     "source": [
      "7b. Answer only if you answered (d) on the previous question."
     ]
    },
    {
     "cell_type": "heading",
     "level": 3,
     "metadata": {},
     "source": [
      "Given the URL for a project's version control repository, check out a working copy of that project, add a file called notes.txt, and commit the change."
     ]
    },
    {
     "cell_type": "markdown",
     "metadata": {},
     "source": [
      "    a. I could not complete this task.\n",
      "    b. I could complete the task with documentation or search help.\n",
      "    c. I could complete the task with little or no documentation or search help."
     ]
    },
    {
     "cell_type": "heading",
     "level": 3,
     "metadata": {},
     "source": [
      "8a. How familiar do you think you are with unit testing and code coverage?"
     ]
    },
    {
     "cell_type": "markdown",
     "metadata": {},
     "source": [
      "    a. I am not familiar with unit testing or code coverage. (34)\n",
      "    b. I am familiar only with the names unit testing and code coverage. (5)\n",
      "    c. I am familiar with unit testing or code coverage but have never used it. (2)\n",
      "    d. I am familiar with unit testing or code coverage because I have or am using it. (1)"
     ]
    },
    {
     "cell_type": "heading",
     "level": 3,
     "metadata": {},
     "source": [
      "8b. Answer only if you answered (d) on the previous question."
     ]
    },
    {
     "cell_type": "heading",
     "level": 3,
     "metadata": {},
     "source": [
      "Given a 200-line function to test, write half a dozen tests using a unit testing framework and use code coverage to check that they exercise every line of the function."
     ]
    },
    {
     "cell_type": "markdown",
     "metadata": {},
     "source": [
      "    a. I could not complete this task. (0)\n",
      "    b. I could complete the task with documentation or search engine help. (1)\n",
      "    c. I could complete the task with little or no documentation or search engine help. (0)"
     ]
    },
    {
     "cell_type": "heading",
     "level": 3,
     "metadata": {},
     "source": [
      "9a. How familiar do you think you are with the command line?"
     ]
    },
    {
     "cell_type": "markdown",
     "metadata": {},
     "source": [
      "    a. I am not familiar at all with the command line. (18)\n",
      "    b. I am familiar only with the name command line. (6)\n",
      "    c. I am familiar with the command line but have never used it. (9)\n",
      "    d. I am familiar with the command line because I have or am using it. (9)"
     ]
    },
    {
     "cell_type": "heading",
     "level": 3,
     "metadata": {},
     "source": [
      "9b. Answer only if you answered (d) on the previous question."
     ]
    },
    {
     "cell_type": "heading",
     "level": 3,
     "metadata": {},
     "source": [
      "How would you solve this problem? A directory contains 1000 text files. Create a list of all files that contain the word \"Drosophila\" and save the result to a file called `results.txt`."
     ]
    },
    {
     "cell_type": "markdown",
     "metadata": {},
     "source": [
      "    a. I could not create this list. (2)\n",
      "    b. I would create this list using \"Find in Files\" and \"copy and paste\". (2)\n",
      "    c. I would create this list using basic command line programs. (4)\n",
      "    d. I would create this list using a pipeline of command line programs. (1)"
     ]
    },
    {
     "cell_type": "heading",
     "level": 3,
     "metadata": {},
     "source": [
      "10. What do you hope to learn from/get out of this class?"
     ]
    },
    {
     "cell_type": "markdown",
     "metadata": {},
     "source": [
      "Variety of responses, including programming skills, physics, skills for resume/job"
     ]
    },
    {
     "cell_type": "heading",
     "level": 3,
     "metadata": {},
     "source": [
      "11. Do you have any idea what you plan to do after you graduate from Cal Poly? (it\u2019s okay if you don\u2019t yet, just list some career paths you\u2019ve considered)"
     ]
    },
    {
     "cell_type": "markdown",
     "metadata": {},
     "source": [
      "Variety of responses, including engineer, grad school, programmer"
     ]
    },
    {
     "cell_type": "markdown",
     "metadata": {},
     "source": [
      "---"
     ]
    },
    {
     "cell_type": "heading",
     "level": 3,
     "metadata": {},
     "source": [
      "2014 Demographics:"
     ]
    },
    {
     "cell_type": "markdown",
     "metadata": {},
     "source": [
      "**Class standing:** \n",
      "    Senior 22,\n",
      "    Junior 16,\n",
      "    Sophomore 4,\n",
      "    Freshman 0"
     ]
    },
    {
     "cell_type": "markdown",
     "metadata": {},
     "source": [
      "**Major:**\n",
      "    PHYS 34,\n",
      "    CHEM 2,\n",
      "    MATH 2,\n",
      "    GENE 1,\n",
      "    CPE  1,\n",
      "    PHIL 1,\n",
      "    AERO 1"
     ]
    },
    {
     "cell_type": "markdown",
     "metadata": {},
     "source": [
      "---"
     ]
    },
    {
     "cell_type": "markdown",
     "metadata": {},
     "source": [
      "<img src=\"../../../C4PLogo.png\" width=200 style=\"display: inline;\"> All content is under a modified MIT License, and can be freely used and adapted.  See the full license text [here](../../../LICENSE)."
     ]
    }
   ],
   "metadata": {}
  }
 ]
}