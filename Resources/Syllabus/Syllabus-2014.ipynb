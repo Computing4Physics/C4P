{
 "metadata": {
  "celltoolbar": "Raw Cell Format",
  "name": "",
  "signature": "sha256:671a841453098eec5af73c6e4eb48deb4315edf587b1585b28b61b3e6b623d1b"
 },
 "nbformat": 3,
 "nbformat_minor": 0,
 "worksheets": [
  {
   "cells": [
    {
     "cell_type": "heading",
     "level": 1,
     "metadata": {},
     "source": [
      "<img src=\"../../C4PLogo.png\" width=300 style=\"display: inline;\">PHYSICS 202: Physics on the Computer - Spring 2014"
     ]
    },
    {
     "cell_type": "markdown",
     "metadata": {},
     "source": [
      "<table>\n",
      "<tr>\n",
      "<td><b>Instructor:</b> Jennifer Klay</td>\n",
      "<td><b>Sections:</b> PHYS 202-02,03</td>\n",
      "</tr>\n",
      "<tr>\n",
      "<td><b>Email:</b> jklay@calpoly.edu</td>\n",
      "<td><b>Time:</b> TR 12:10-14:00, 14:10-16:00</td>\n",
      "</tr>\n",
      "<tr>\n",
      "<td><b>Phone:</b> 756-1250</td>\n",
      "<td><b>Location:</b> 180-272 (Baker Center)</td>\n",
      "</tr>\n",
      "<tr>\n",
      "<td><b>Office:</b> 180-620</td>\n",
      "<td><b>Office hours:</b> W 10:10-11:00, 14:10-15:00 (in 180-272)</td>\n",
      "</tr>\n",
      "</table>"
     ]
    },
    {
     "cell_type": "markdown",
     "metadata": {},
     "source": [
      "<center>**Note:** Handouts and announcements will be posted on Polylearn"
     ]
    },
    {
     "cell_type": "heading",
     "level": 2,
     "metadata": {},
     "source": [
      "Catalog Description"
     ]
    },
    {
     "cell_type": "markdown",
     "metadata": {},
     "source": [
      "Introduction to using computers for solving problems in physics: differential equations, matrix manipulations, simulations and numerical techniques, nonlinear dynamics."
     ]
    },
    {
     "cell_type": "heading",
     "level": 2,
     "metadata": {},
     "source": [
      "Course Objectives"
     ]
    },
    {
     "cell_type": "markdown",
     "metadata": {},
     "source": [
      "Upon completion of the course you should be able to:\n",
      "\n",
      "* Use basic coding concepts such as loops, control statements, variable types, arrays, array operations, and boolean logic. (LO1)\n",
      "\n",
      "* Write, run and debug programs in a high level language. (LO2)\n",
      "\n",
      "* Carry out basic operations (e.g. cd, ls, dir, mkdir, ssh) at the command line. (LO3)\n",
      "\n",
      "* Maintain a version controlled repository of your files and programs. (LO4)\n",
      "\n",
      "* Create publication/presentation quality graphics, equations. (LO5)\n",
      "\n",
      "* Visualize symbolic analytic expressions - plot functions and evaluate their behavior for varying parameters. (LO6)\n",
      "\n",
      "* Use numerical algorithms (e.g. ODE solvers, FFT, Monte Carlo) and be able to identify their limitations. (LO7)\n",
      "\n",
      "* Code numerical algorithms from scratch and compare with existing implementations. (LO8)\n",
      "\n",
      "* Read from and write to local or remote files. (LO9)\n",
      "\n",
      "* Analyze data using curve fitting and optimization. (LO10)\n",
      "\n",
      "* Create appropriate visualizations of data, e.g. multidimensional plots, animations, etc. (LO11)"
     ]
    },
    {
     "cell_type": "heading",
     "level": 2,
     "metadata": {},
     "source": [
      "Text and Materials"
     ]
    },
    {
     "cell_type": "markdown",
     "metadata": {},
     "source": [
      "* **[IPython](http://ipython.org)** - an interactive computing environment for the Python programming language\n",
      "\n",
      "* **[Git and github](http://github.com)** - version control system and public web-based repository for your work.  This is how you will turn in your assignments\n",
      "\n",
      "* **[Codecademy](http://www.codecademy.com)** - a free online series of interactive programming courses\n",
      "\n",
      "* **[Project Euler](http://projecteuler.net)** - a series of challenging mathematical/computer programming problems that will help you practice your new computing skills\n"
     ]
    },
    {
     "cell_type": "heading",
     "level": 3,
     "metadata": {},
     "source": [
      "Selected References"
     ]
    },
    {
     "cell_type": "markdown",
     "metadata": {},
     "source": [
      "* **[ThinkPython](http://www.greenteapress.com/thinkpython/)** - a free online Python textbook\n",
      "\n",
      "* **[Python Scientific Lecture Notes](http://scipy-lectures.github.com/index.html)** - Useful tutorials on using the scientific libraries\n",
      "\n",
      "* **[Software Carpentry](http://softwarecarpentry.org)** - tutorials on scientific computing"
     ]
    },
    {
     "cell_type": "heading",
     "level": 2,
     "metadata": {},
     "source": [
      "Class time and assignments"
     ]
    },
    {
     "cell_type": "markdown",
     "metadata": {},
     "source": [
      "We will be spending our class time learning to code and solve physics problems numerically by doing hands-on activities at the computer.  Sometimes you will participate in pair programming exercises where you are the *driver* and your partner is the *navigator* and vice versa.  Studies show that this is a very effective way to learn programming.  You can expect assignments that build on the skills we develop in class, so make sure to attend every class!"
     ]
    },
    {
     "cell_type": "markdown",
     "metadata": {},
     "source": [
      "As with any skill, the only way to become proficient is to practice.  A LOT.  Think about your experiences learning a musical instrument or playing a sport.  A little bit of practice every day is crucial.  You will probably be spending **8 to 12 hours per week** *outside of class* writing and debugging code.  There will be coding exercises from Project Euler as well as assignments related to the various types of physics problems that we discuss in class.  If you have trouble with the homework, come to my office hours or seek help from your peers.  Don't wait until you are in trouble to take action."
     ]
    },
    {
     "cell_type": "heading",
     "level": 2,
     "metadata": {},
     "source": [
      "Grading"
     ]
    },
    {
     "cell_type": "markdown",
     "metadata": {},
     "source": [
      "Your final grade in the course will be based on the following:\n",
      "\n",
      "<table>\n",
      "<tr>\n",
      "<td><b>Project Euler Exercises:</b></td>\n",
      "<td>10%</td>\n",
      "</tr>\n",
      "<tr>\n",
      "<td><b>Assignments:</b></td>\n",
      "<td>30%</td>\n",
      "</tr>\n",
      "<tr>\n",
      "<td><b>Midterm Exam:</b></td>\n",
      "<td>20%</td>\n",
      "</tr>\n",
      "<tr>\n",
      "<td><b>Project:</b></td>\n",
      "<td>30%</td>\n",
      "</tr>\n",
      "<tr>\n",
      "<td><b>Project Demo:</b></td>\n",
      "<td>10%</td>\n",
      "</tr>\n",
      "</table>"
     ]
    },
    {
     "cell_type": "markdown",
     "metadata": {},
     "source": [
      "This class is about building skills.  The only way to build your skills is to practice them.  Therefore, in order to receive a passing grade (C- or better) in this class you must pass/complete a minimum of 50% of the material in each grading category.  How well you do in each of the categories will be used to determine your final letter grade.  *Do not ignore any of the exercises or assignments.*"
     ]
    },
    {
     "cell_type": "heading",
     "level": 3,
     "metadata": {},
     "source": [
      "Project Euler Exercises"
     ]
    },
    {
     "cell_type": "markdown",
     "metadata": {},
     "source": [
      "Each week you will solve a problem from Project Euler.  You will check your solution notebook into your PHYS 202 github repository directory for the given week.  The file should be named\n",
      "\n",
      "`ProjectEuler<NUM>.ipynb`\n",
      "\n",
      "where `<NUM>` is the exercise number from the Project Euler site.  The notebook should have a Heading cell with the title of the week's problem and a markdown cell with the problem description.  Your solution should *verify the test case* that is usually provided and *produce an answer to the question* posed in the problem statement.\n",
      "\n",
      "**Exercise solutions are due by 11:59pm on Sundays.**  Late submissions will not be graded.\n",
      "\n",
      "Many people have posted their solutions to Project Euler problems on the web.  Do not give in to the temptation to view or copy these.  *Code plagiarism software can detect copied code.*  Refer to the academic honesty guidelines below for more information."
     ]
    },
    {
     "cell_type": "heading",
     "level": 3,
     "metadata": {},
     "source": [
      "Assignments"
     ]
    },
    {
     "cell_type": "markdown",
     "metadata": {},
     "source": [
      "Assignments will be distributed each week on PolyLearn based on the material covered in class that week.  These will be handed in by **checking your code into your PHYS 202 github repository by 11:59pm on the following Wednesday**, to give you time to ask questions at office hours after you have worked on the assignment yourself.  Instructions for naming your files will be included in the assignment handouts."
     ]
    },
    {
     "cell_type": "heading",
     "level": 3,
     "metadata": {},
     "source": [
      "Midterm Exam"
     ]
    },
    {
     "cell_type": "markdown",
     "metadata": {},
     "source": [
      "There will be one in-class midterm exam on **Tuesday, April 29**.  It will cover programming basics and simple problem solving.  There will be \"open computer\" extensions of previous exercises and assignments. You need to have your own working programs that can be modified/extended to answer the exam questions.  As long as you keep up with the material in the first few weeks you should be able to pass it with no problems. "
     ]
    },
    {
     "cell_type": "heading",
     "level": 3,
     "metadata": {},
     "source": [
      "Project"
     ]
    },
    {
     "cell_type": "markdown",
     "metadata": {},
     "source": [
      "During week 5, you will be assigned an open-ended programming project provided by me.  You will have until **11:59pm Friday of the tenth week of instruction** to complete your project and submit the code to your PHYS 202 github repository.  We will spend some class time working on the projects but most of the work will be completed outside of class.  Part of the project will be collaborative with other students assigned the same project, but you will be responsible for completing the coding, documentation and analysis assigned to you.  Detailed instructions for completing the projects will be included in the project descriptions."
     ]
    },
    {
     "cell_type": "heading",
     "level": 3,
     "metadata": {},
     "source": [
      "Grading Rubric"
     ]
    },
    {
     "cell_type": "markdown",
     "metadata": {},
     "source": [
      "All code, assignments and exam questions will be graded on the following five-point scale:"
     ]
    },
    {
     "cell_type": "markdown",
     "metadata": {},
     "source": [
      "<table>\n",
      "<tr>\n",
      "<th>Points</th>\n",
      "<th>Description</th>\n",
      "</tr>\n",
      "<tr>\n",
      "<td>5</td>\n",
      "<td>Goes above and beyond. Extra neat, concise, well-commented code, and \n",
      "explores concepts in depth.</td>\n",
      "</tr>\n",
      "<tr>\n",
      "<td>4</td>\n",
      "<td>Complete and correct.  Includes an analysis of the problem, the program, \n",
      "verification of at least one test case, and answers to questions, including plots.</td>\n",
      "</tr>\n",
      "<tr>\n",
      "<td>3</td>\n",
      "<td>Contains a few minor errors.</td>\n",
      "</tr>\n",
      "<tr>\n",
      "<td>2</td>\n",
      "<td>Only partially complete or has major errors.</td>\n",
      "</tr>\n",
      "<tr>\n",
      "<td>1</td>\n",
      "<td>Far from complete.</td>\n",
      "</tr>\n",
      "<tr>\n",
      "<td>0</td>\n",
      "<td>No attempt.</td>\n",
      "</tr>\n",
      "</table>\n",
      "\n"
     ]
    },
    {
     "cell_type": "heading",
     "level": 3,
     "metadata": {},
     "source": [
      "Project Grading"
     ]
    },
    {
     "cell_type": "markdown",
     "metadata": {},
     "source": [
      "The grading for the projects will be based on the following categories.  You will receive a number between 0 and 5 for each category, following the same rubric as for other graded course elements (see above).\n",
      "\n",
      "<table>\n",
      "<tr>\n",
      "<th>Category</th>\n",
      "<th>Description</th>\n",
      "</tr>\n",
      "<tr>\n",
      "<td>Design</td>\n",
      "<td>Project is well-organized, easy to follow and clearly states the problem being solved.</td>\n",
      "</tr>\n",
      "<tr>\n",
      "<td>Documentation</td>\n",
      "<td>Instructions for how to run the code are included.  Variable and function names are descriptive.  Code includes comments that aid the reader in following the algorithm. Algorithms/functions include test cases that clearly show they successfully accomplish their stated goals.</td>\n",
      "</tr>\n",
      "<tr>\n",
      "<td>Completeness</td>\n",
      "<td>All of the major elements of the project have been included.</td>\n",
      "</tr>\n",
      "<tr>\n",
      "<td>Correctness</td>\n",
      "<td>The logic of the code is correct and it produces meaningful results.</td>\n",
      "</tr>\n",
      "<tr>\n",
      "<td>Analysis</td>\n",
      "<td>All of the analysis questions in the project description have been answered/addressed. Interpretation of the results is included.</td>\n",
      "</tr>\n",
      "</table>"
     ]
    },
    {
     "cell_type": "heading",
     "level": 3,
     "metadata": {},
     "source": [
      "Final Demo"
     ]
    },
    {
     "cell_type": "markdown",
     "metadata": {},
     "source": [
      "During the final exam period you will present a 5-7 minute demonstration of your project and its results to the rest of the class.  The demonstration will be graded by me and your peers using an oral presentation rubric.  These assessments will be used to assign your grade on the demonstration.\n",
      "\n",
      "* **Section 02:** Tuesday, June 10, 13:10-16:00\n",
      "\n",
      "* **Section 03:** Tuesday, June 10, 16:10-19:00"
     ]
    },
    {
     "cell_type": "heading",
     "level": 2,
     "metadata": {},
     "source": [
      "Guidelines for Academic Honesty"
     ]
    },
    {
     "cell_type": "markdown",
     "metadata": {},
     "source": [
      "*(adapted from Grand Valley State University and George Washington University computer science departments)*"
     ]
    },
    {
     "cell_type": "heading",
     "level": 4,
     "metadata": {},
     "source": [
      "You are expected to..."
     ]
    },
    {
     "cell_type": "markdown",
     "metadata": {},
     "source": [
      "* create / develop your own assignments (including source code)\n",
      "\n",
      "* understand your solutions\n",
      "\n",
      "* acknowledge the help of others in writing\n",
      "\n",
      "* cite its source on assignments for which inclusion of code other than your own has been explicitly permitted\n",
      "\n",
      "\n",
      "* protect yourself from being suspected of misconduct by not allowing others to see your assignment before it is submitted\n",
      "\n",
      "* contact your instructor for clarification about assignment requirements"
     ]
    },
    {
     "cell_type": "heading",
     "level": 4,
     "metadata": {},
     "source": [
      "You are encouraged to..."
     ]
    },
    {
     "cell_type": "markdown",
     "metadata": {},
     "source": [
      "* discuss general approaches to a solution\n",
      "\n",
      "* share knowledge with other students about syntax errors, coding tricks, or other language-specific information that makes programming easier\n",
      "\n",
      "* provide and receive help with simple execution errors\n",
      "\n",
      "* provide and receive help with using the computing environment\n",
      "\n",
      "* engage, with other students, in a general discussion of the nature of an assignment, the requirements for an assignment, or general implementation strategies\n",
      "\n",
      "* engage, with other students, in discussion of course concepts or programming strategies in preparation for an assignment or examination"
     ]
    },
    {
     "cell_type": "heading",
     "level": 4,
     "metadata": {},
     "source": [
      "You are guilty of academic misconduct if you..."
     ]
    },
    {
     "cell_type": "markdown",
     "metadata": {},
     "source": [
      "* give your source code to anyone in hardcopy or electronic form\n",
      "\n",
      "* receive another student's solution in hardcopy or electronic form\n",
      "\n",
      "* submit as your own work the files, solutions, or documents prepared by others\n",
      "\n",
      "* submit assignments as your own without attribution if they were created in collaboration with someone\n",
      "\n",
      "* make modifications to someone else's solution in an effort to disguise misconduct\n",
      "\n",
      "* use unauthorized materials during an examination, or communicate during an examination in an unauthorized way with another person\n",
      "\n",
      "* knowingly permit another person to turn in your work as his or her own work"
     ]
    },
    {
     "cell_type": "markdown",
     "metadata": {},
     "source": [
      "---\n",
      "You will be contacted by me if I suspect academic misconduct.  Appropriate actions might include but are not limited to a failing grade on the assignment, a grade reduction in the course, or a failing grade in the course.  See the Office of Student Rights and Responsibilities website for further information."
     ]
    },
    {
     "cell_type": "markdown",
     "metadata": {},
     "source": [
      "To help you remember to follow these guidelines, we will create a pledge file (called `pledge.txt`) with the following text that will reside in the main directory of your PHYS 202 github repository.  It is your signed contract stating that you have read and understand the rules regarding academic honesty and agree to abide by them."
     ]
    },
    {
     "cell_type": "markdown",
     "metadata": {},
     "source": [
      "---"
     ]
    },
    {
     "cell_type": "heading",
     "level": 2,
     "metadata": {},
     "source": [
      "Academic Honesty Pledge"
     ]
    },
    {
     "cell_type": "markdown",
     "metadata": {},
     "source": [
      "**Cal Poly PHYS 202 - Spring 2014**"
     ]
    },
    {
     "cell_type": "markdown",
     "metadata": {},
     "source": [
      "I have read and understand the rules regarding academic honesty and I agree to abide by them."
     ]
    },
    {
     "cell_type": "markdown",
     "metadata": {},
     "source": [
      "I pledge on my honor that I have not given or received any unauthorized assistance on assignments or examinations in this course."
     ]
    },
    {
     "cell_type": "markdown",
     "metadata": {},
     "source": [
      "Signed: `<YOUR NAME HERE>`"
     ]
    },
    {
     "cell_type": "markdown",
     "metadata": {},
     "source": [
      "Dated: `<DATE HERE>`"
     ]
    },
    {
     "cell_type": "markdown",
     "metadata": {},
     "source": [
      "---"
     ]
    },
    {
     "cell_type": "heading",
     "level": 2,
     "metadata": {},
     "source": [
      "Miscellaneous"
     ]
    },
    {
     "cell_type": "markdown",
     "metadata": {},
     "source": [
      "* In general, there will be no make-up exams.  However, in certain circumstances (illness, schedule conflict, etc.), special arrangements may be possible if you come see me about it.\n",
      "\n",
      "* I encourage you to work with other students (form groups?); however, you must do and turn in your own work.  Review the guidelines for academic honesty for guidance on appropriate collaboration.\n",
      "\n",
      "* Check the appropriate university documents for details and deadlines concerning academic honesty, adding, dropping, grading, withdrawal, incomplete, etc.\n",
      "\n",
      "* Unforeseen circumstances may necessitate changes in this information.  Changes will be announced in class and posted on PolyLearn."
     ]
    },
    {
     "cell_type": "heading",
     "level": 2,
     "metadata": {},
     "source": [
      "[xkcd](https://xkcd.com/627/)"
     ]
    },
    {
     "cell_type": "markdown",
     "metadata": {},
     "source": [
      "The story of my life with computers and what I will probably do with you when you ask me complicated questions in office hours:\n",
      "\n",
      "<img src=\"http://imgs.xkcd.com/comics/tech_support_cheat_sheet.png\">"
     ]
    },
    {
     "cell_type": "markdown",
     "metadata": {},
     "source": [
      "If you don't already know about [xkcd](http://xkcd.com), check it out.  One of my favorite places on the web."
     ]
    },
    {
     "cell_type": "markdown",
     "metadata": {},
     "source": [
      "---"
     ]
    },
    {
     "cell_type": "markdown",
     "metadata": {},
     "source": [
      "<img src=\"../../C4PLogo.png\" width=200 style=\"display: inline;\"> All content is under a modified MIT License, and can be freely used and adapted.  See the full license text [here](../../LICENSE)."
     ]
    }
   ],
   "metadata": {}
  }
 ]
}