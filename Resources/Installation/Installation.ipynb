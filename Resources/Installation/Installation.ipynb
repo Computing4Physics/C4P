{
 "metadata": {
  "name": "",
  "signature": "sha256:302673b13f86902475ed3813e1d978abc933098b1fa20f5c69cbb8ffdf2c8ce0"
 },
 "nbformat": 3,
 "nbformat_minor": 0,
 "worksheets": [
  {
   "cells": [
    {
     "cell_type": "heading",
     "level": 1,
     "metadata": {},
     "source": [
      "<img src=\"../../C4PLogo.png\" width=300 style=\"display: inline;\"> Installation"
     ]
    },
    {
     "cell_type": "markdown",
     "metadata": {},
     "source": [
      "In order to be able to work on your code outside of the lab, you might want to have iPython and git installed on your personal machine.  These instructions will help you accomplish that."
     ]
    },
    {
     "cell_type": "markdown",
     "metadata": {},
     "source": [
      "---"
     ]
    },
    {
     "cell_type": "heading",
     "level": 2,
     "metadata": {},
     "source": [
      "Windows"
     ]
    },
    {
     "cell_type": "markdown",
     "metadata": {},
     "source": [
      "At a minimum, you need iPython and Git, but it will help if you have a text editor that is designed to work with code, so we suggest Notepad++.  All of these programs are free and open source.  When you download the Anaconda installer from Continuum Analytics, they will ask for an email address but will not spam you unless you want to receive their updates."
     ]
    },
    {
     "cell_type": "markdown",
     "metadata": {},
     "source": [
      "* iPython et al.: [http://continuum.io/](http://continuum.io/)\n",
      "* Git: [http://msysgit.github.io/](http://msysgit.github.io/)\n",
      "* Notepad++: [http://notepad-plus-plus.org/](http://notepad-plus-plus.org/)"
     ]
    },
    {
     "cell_type": "heading",
     "level": 3,
     "metadata": {},
     "source": [
      "Installing/Configuring Notepad++"
     ]
    },
    {
     "cell_type": "markdown",
     "metadata": {},
     "source": [
      "Not much to say for Notepad++ except install this one first so you know how to configure Git to use it.  You can select all of the defaults for it during the wizard process."
     ]
    },
    {
     "cell_type": "heading",
     "level": 3,
     "metadata": {},
     "source": [
      "Installing/Configuring Git"
     ]
    },
    {
     "cell_type": "markdown",
     "metadata": {},
     "source": [
      "msysgit's Git for Windows provides a bash emulation used to run Git from the command line. The bash emulation behaves just like the \"git\" command in Linux/UNIX/MacOSX environments.  "
     ]
    },
    {
     "cell_type": "markdown",
     "metadata": {},
     "source": [
      "**Note:** To run git commands through the Windows `cmd` prompt, be sure to check the option during the install that allows running git commands from the `cmd` prompt.  (In the Start Menu, search for `cmd` and you will see an icon for it.)  \n",
      "\n",
      "Also, make sure that the check box for Windows style checkouts but UNIX style commits is checked, to deal with the line break differences between windows and UNIX text files."
     ]
    },
    {
     "cell_type": "markdown",
     "metadata": {},
     "source": [
      "Once you have it installed, you will need to configure Git to use Notepad++ as your editor.  Pay attention to where the installer put Notepadd++.  In some cases it will be at `C:/Program Files/Notepad++` and in others it will be at `C:/Program Files (x86)/Notepad++`.  Enter these commands at the `cmd` prompt:\n",
      "\n",
      "```    \n",
      "$ git config --global user.name \"YOUR NAME\"\n",
      "$ git config --global user.email \"YOUR EMAIL\"\n",
      "```\n",
      "\n",
      "Then, depending on where Notepad++ is installed, run one of the following:\n",
      "```\n",
      "$ git config --global core.editor \"'C:/Program Files/Notepad++/notepad++.exe' -multiInst -nosession -noPlugin -notabbar\"\n",
      "$ git config --global core.editor \"'C:/Program Files (x86)/Notepad++/notepad++.exe' -multiInst -nosession -noPlugin -notabbar\"\n",
      "```\n"
     ]
    },
    {
     "cell_type": "markdown",
     "metadata": {},
     "source": [
      "Once you have it all set up, clone your git repository locally by opening the gitbash command prompt and typing:\n",
      "\n",
      "```\n",
      "$ git clone https://github.com/<username>/<repo>.git\n",
      "```\n",
      "\n",
      "replacing `<username>` and `<repo>` with your username and repo name."
     ]
    },
    {
     "cell_type": "heading",
     "level": 3,
     "metadata": {},
     "source": [
      "Installing/Configuring Anaconda"
     ]
    },
    {
     "cell_type": "markdown",
     "metadata": {},
     "source": [
      "You should get the Anaconda installer 1.9.2 from Continuum Analytics.  We have to make sure that the one we download has the most up to date iPython in it.\n",
      "\n",
      "After you run the installation wizard, open up a `cmd` window and check which version of ipython you have by typing:\n",
      "\n",
      "```\n",
      "$ ipython --version\n",
      "```\n",
      "\n",
      "If it does not say `2.0.0`, we need to update it with the following commands:"
     ]
    },
    {
     "cell_type": "markdown",
     "metadata": {},
     "source": [
      "```\n",
      "$ conda update conda\n",
      "$ conda update ipython\n",
      "```"
     ]
    },
    {
     "cell_type": "markdown",
     "metadata": {},
     "source": [
      "After that, the version command should report 2.0.0.\n",
      "\n",
      "To use the ipythonblocks module we need to install it.  It will also be useful to install the mpld3 module so you can display 3D graphics in the notebook.  At the `cmd` prompt type:\n",
      "\n",
      "```\n",
      "$ pip install ipythonblocks\n",
      "$ pip install mpld3\n",
      "```"
     ]
    },
    {
     "cell_type": "markdown",
     "metadata": {},
     "source": [
      "Now you should be all set!  Start the notebook server in the `cmd` window with the command:\n",
      "    \n",
      "```\n",
      "$ ipython notebook\n",
      "```"
     ]
    },
    {
     "cell_type": "markdown",
     "metadata": {},
     "source": [
      "---"
     ]
    },
    {
     "cell_type": "heading",
     "level": 2,
     "metadata": {},
     "source": [
      "Mac OSX"
     ]
    },
    {
     "cell_type": "markdown",
     "metadata": {},
     "source": [
      "For the Mac, you need the Anaconda program and Git.  The exact method of installation depends on the version of the operating system you are running.  You can check which version you are running by selecting the apple in the top left corner and choosing ``About This Mac''."
     ]
    },
    {
     "cell_type": "markdown",
     "metadata": {},
     "source": [
      "* Anaconda: [http://continuum.io/downloads](http://continuum.io/downloads)\n",
      "* Git: [http://git-scm.com/](http://git-scm.com/)"
     ]
    },
    {
     "cell_type": "markdown",
     "metadata": {},
     "source": [
      "After the installation is complete, open a Terminal window and set up your bash environment to use the ipython notebook:\n",
      "\n",
      "```\n",
      "nano .bash_profile\n",
      "```\n",
      "Put into this file the following lines to set up your environment:\n",
      "\n",
      "```bash\n",
      "#Script for setting up ipython\n",
      "alias ipynb='ipython notebook'\n",
      "export PATH=\"/Applications/Anaconda/bin:$PATH\"\n",
      "```"
     ]
    },
    {
     "cell_type": "markdown",
     "metadata": {},
     "source": [
      "After you have saved it, you can close the Terminal and start a new one or source the file with:\n",
      "\n",
      "```bash\n",
      "$ source .bash_profile\n",
      "```\n"
     ]
    },
    {
     "cell_type": "markdown",
     "metadata": {},
     "source": [
      "To use the ipythonblocks module we need to install it.  You should be able to open the Terminal and enter the following:\n",
      "\n",
      "```\n",
      "$ pip install ipythonblocks\n",
      "$ pip install mpld3\n",
      "```"
     ]
    },
    {
     "cell_type": "markdown",
     "metadata": {},
     "source": [
      "Once you have it all set up, clone your git repository locally by opening a terminal window and typing:\n",
      "\n",
      "```\n",
      "$ git clone https://github.com/<username>/<repo>.git\n",
      "```\n",
      "\n",
      "replacing `<username>` and `<repo>` with your username and repo name."
     ]
    },
    {
     "cell_type": "markdown",
     "metadata": {},
     "source": [
      "If after installing git and trying to run a command, such as `git clone ...`, if you get a variation on the following output:\n",
      "\n",
      "```\n",
      "Illegal instruction 4\n",
      "```\n",
      "\n",
      "You will need to download an earlier version of the git installer, such as 1.7.12.3 from the [http://code.google.com/p/git-osx-installer](http://code.google.com/p/git-osx-installer).\n"
     ]
    },
    {
     "cell_type": "markdown",
     "metadata": {},
     "source": [
      "Now `cd` into the repository directory and source your configuration script for git global settings:\n",
      "\n",
      "```\n",
      "$ cd <repo>\n",
      "$ source ConfigureGit.sh\n",
      "```"
     ]
    },
    {
     "cell_type": "markdown",
     "metadata": {},
     "source": [
      "Now start the notebook server in the Terminal window with the alias we created:\n",
      "\n",
      "```\n",
      "$ cd\n",
      "$ ipynb\n",
      "```"
     ]
    },
    {
     "cell_type": "markdown",
     "metadata": {},
     "source": [
      "---"
     ]
    },
    {
     "cell_type": "markdown",
     "metadata": {},
     "source": [
      "<img src=\"../../C4PLogo.png\" width=200 style=\"display: inline;\"> All content is under a modified MIT License, and can be freely used and adapted.  See the full license text [here](../../LICENSE)."
     ]
    }
   ],
   "metadata": {}
  }
 ]
}