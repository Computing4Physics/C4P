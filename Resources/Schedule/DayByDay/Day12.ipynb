{
 "metadata": {
  "name": "",
  "signature": "sha256:c2e4dcb13b9887fdf09af984e21bef597a87c90b6ced6b10d8e214ed041eed3c"
 },
 "nbformat": 3,
 "nbformat_minor": 0,
 "worksheets": [
  {
   "cells": [
    {
     "cell_type": "heading",
     "level": 1,
     "metadata": {},
     "source": [
      "<img src=\"../../../C4PLogo.png\" width=300 style=\"display: inline;\"> Day 12 - Thursday, May 8, 2014"
     ]
    },
    {
     "cell_type": "markdown",
     "metadata": {},
     "source": [
      "**Summary:** Differentiation"
     ]
    },
    {
     "cell_type": "markdown",
     "metadata": {},
     "source": [
      "---"
     ]
    },
    {
     "cell_type": "markdown",
     "metadata": {},
     "source": [
      "Today was the first day after I posted a tour in advance on PolyLearn and announced it was available for students to work on before class.  I noticed that many people came to class and immediately started working on exercises, so I assumed that meant they had already completed the tour.  However, after about a half an hour of answering trivial questions, I stopped the class and we had a pep talk.  I reminded them that the tours are not something to \"get through\" quickly.  They need to be done slowly, carefully, thoughtfully, so they get the training they need to do the exercises.  I told them that many of their questions were easily answered in the tour and I started referring them to it for guidance.  "
     ]
    },
    {
     "cell_type": "markdown",
     "metadata": {},
     "source": [
      "**1.**  Open terminal, practice workflow:\n",
      "\n",
      "```bash\n",
      "$ cd PHYS202-S14\n",
      "$ git pull origin master\n",
      "$ git status\n",
      "$ mkdir Differentiation\n",
      "$ ipynb\n",
      "```"
     ]
    },
    {
     "cell_type": "markdown",
     "metadata": {},
     "source": [
      "**2.** Navigate to the `Differentiation` directory and create a new notebook called `DifferentiationTour` with title cell (Heading 1) **Differentiation Tour**."
     ]
    },
    {
     "cell_type": "markdown",
     "metadata": {},
     "source": [
      "**3.** Open the \"Differentiation\" webpage on PolyLearn in one Browser Window.  Follow the self-guided tour, entering code into your `DifferentiationTour` notebook as you go.  Add markdown cells with your notes, if you like.  \n",
      "\n",
      "<b><font color=\"red\">No copy/paste!</font></b>\n",
      "\n",
      "Type the commands yourself to get the practice doing it.  This will also slow you down so you can think about the commands and what they are doing as you type them."
     ]
    },
    {
     "cell_type": "markdown",
     "metadata": {},
     "source": [
      "**4.** At the end of the self-guided tour open the \"Differentiation Exercises\" page on PolyLearn and start working on them.\n",
      "```\n",
      "```\n",
      "<font color=\"red\"><b>They will be due as HW by Wednesday, May 14, 2014 at 11:59pm.</b></font>"
     ]
    },
    {
     "cell_type": "markdown",
     "metadata": {},
     "source": [
      "**5.** Before leaving, save your work in the notebook, then practice your workflow:\n",
      "\n",
      "```bash\n",
      "$ git status\n",
      "$ git add .\n",
      "$ git commit -m \"<summary message goes here>\"\n",
      "$ git push origin master\n",
      "$ git status\n",
      "```\n",
      "\n",
      "Check github to be sure the work got there so you have it for the weekend."
     ]
    },
    {
     "cell_type": "markdown",
     "metadata": {},
     "source": [
      "---"
     ]
    },
    {
     "cell_type": "markdown",
     "metadata": {},
     "source": [
      "<img src=\"../../../C4PLogo.png\" width=200 style=\"display: inline;\"> All content is under a modified MIT License, and can be freely used and adapted.  See the full license text [here](../../../LICENSE)."
     ]
    }
   ],
   "metadata": {}
  }
 ]
}