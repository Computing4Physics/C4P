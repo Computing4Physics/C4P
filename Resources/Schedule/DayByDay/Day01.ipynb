{
 "metadata": {
  "name": "",
  "signature": "sha256:676a437d7d598ac6d0e449777994826a45208796c5f7fdac669b18fcb2684cad"
 },
 "nbformat": 3,
 "nbformat_minor": 0,
 "worksheets": [
  {
   "cells": [
    {
     "cell_type": "heading",
     "level": 1,
     "metadata": {},
     "source": [
      "<img src=\"../../../C4PLogo.png\" width=300 style=\"display: inline;\"> Day 1 - Tuesday, April 1, 2014"
     ]
    },
    {
     "cell_type": "markdown",
     "metadata": {},
     "source": [
      "**Note:** These Day-by-Day pages give a detailed overview of how the time was used in each class meeting.  This is meant primarily as an archive for me (J. Klay) for when I teach the course again, but can also be used to stimulate ideas for other instructors."
     ]
    },
    {
     "cell_type": "markdown",
     "metadata": {},
     "source": [
      "---"
     ]
    },
    {
     "cell_type": "markdown",
     "metadata": {},
     "source": [
      "**Summary:** Welcome, overview, Pre-learner Survey, UNIX Shell introduction, Codecademy sign-up"
     ]
    },
    {
     "cell_type": "markdown",
     "metadata": {},
     "source": [
      "---"
     ]
    },
    {
     "cell_type": "markdown",
     "metadata": {},
     "source": [
      "1. Introduction/April Fool's Joke\n",
      "  * \"Fortran 42\" - so much science software written in it\n",
      "  * Need to buy a compiler license, only $242\n",
      "  * :-)\n",
      "2. Enrollment\n",
      "3. Pre-learner Survey\n",
      "4. Course syllabus\n",
      "5. Overview of tools\n",
      "  * Python (why? vs. Matlab, Mathematica, C/C++, etc.)\n",
      "  * UNIX Shell\n",
      "  * Git/github\n",
      "6. UNIX Shell introduction\n",
      "  * `pwd`, `ls`, `cd`, `mkdir`, `nano`\n",
      "  * Case sensitivity of filenames\n",
      "  * What files/directories look like\n",
      "  * File system hierarchy\n",
      "  * Have them make a directory `PHYS202-S14` (will become a github repo on Thursday)\n",
      "  * In their new directory, have them use `nano` to create the pledge file for the repository\n",
      "7. Codecademy signup with `<CPUID>` or `<CPUID>202`\n",
      "  * Assignment by Thursday is the first seven modules of the Python track\n",
      "    * Python syntax\n",
      "       * `1.` Python syntax\n",
      "       * `2.` Tip calculator\n",
      "    * Strings and Console Output\n",
      "       * `3.` Strings and Console Output\n",
      "       * `4.` Date and time\n",
      "    * Conditionals and Control Flow (so they'll be ready for PE1)\n",
      "       * `5.` Conditionals and Control Flow\n",
      "       * `6.` Pyglatin\n",
      "  * Let them work on Codecademy in class for a bit"
     ]
    },
    {
     "cell_type": "markdown",
     "metadata": {},
     "source": [
      "---"
     ]
    },
    {
     "cell_type": "markdown",
     "metadata": {},
     "source": [
      "<img src=\"../../../C4PLogo.png\" width=200 style=\"display: inline;\"> All content is under a modified MIT License, and can be freely used and adapted.  See the full license text [here](../../../LICENSE)."
     ]
    }
   ],
   "metadata": {}
  }
 ]
}