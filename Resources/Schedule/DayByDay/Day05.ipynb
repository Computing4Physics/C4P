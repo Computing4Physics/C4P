{
 "metadata": {
  "name": "",
  "signature": "sha256:3a6112cec22a0f1ce8b7d1c69f187f70f664a1fc02fd918548f0c55e2b2bea7c"
 },
 "nbformat": 3,
 "nbformat_minor": 0,
 "worksheets": [
  {
   "cells": [
    {
     "cell_type": "heading",
     "level": 1,
     "metadata": {},
     "source": [
      "<img src=\"../../../C4PLogo.png\" width=300 style=\"display: inline;\"> Day 5 - Tuesday, April 15, 2014"
     ]
    },
    {
     "cell_type": "markdown",
     "metadata": {},
     "source": [
      "**Summary:** Self-guided tour of NumPy with exercises while I check CodeCademy completeness."
     ]
    },
    {
     "cell_type": "markdown",
     "metadata": {},
     "source": [
      "---"
     ]
    },
    {
     "cell_type": "markdown",
     "metadata": {},
     "source": [
      "`0.` Have them open a browser window to CodeCademy progress report that I will walk around and check while they do the following."
     ]
    },
    {
     "cell_type": "markdown",
     "metadata": {},
     "source": [
      "`1.`  Open terminal, create new directory for NumPy work, practice workflow:\n",
      "\n",
      "```bash\n",
      "$ cd PHYS202-S14\n",
      "$ git pull origin master\n",
      "$ git status\n",
      "$ mkdir NumPy\n",
      "$ ipynb\n",
      "```"
     ]
    },
    {
     "cell_type": "markdown",
     "metadata": {},
     "source": [
      "`2.` Navigate to the `NumPy` directory and create a new notebook called `NumPyTour` with title cell (Heading 1) \"NumPy Tour\"."
     ]
    },
    {
     "cell_type": "markdown",
     "metadata": {},
     "source": [
      "`3.` Open \"NumPy Intro\" webpage on PolyLearn in one Browser Window.  Follow the self-guided tour, entering code into your `NumPyTour` notebook as you go.  Add markdown cells with your notes, if you like.  \n",
      "\n",
      "<b><font color=\"red\">No copy/paste!</font></b>\n",
      "\n",
      "Type the commands yourself to get the practice doing it.  This will also slow you down so you can think about the commands and what they are doing as you type them."
     ]
    },
    {
     "cell_type": "markdown",
     "metadata": {},
     "source": [
      "`4.` At the end of the self-guided tour open a new notebook called `NumPyExercises` and use it to complete the set of exercises on the \"NumPy Exercises\" webpage.  Start working on the exercises.  \n",
      "```\n",
      "```\n",
      "<font color=\"red\"><b>They will be due as HW by Wednesday, April 23, 2014 at 11:59pm.</b></font>"
     ]
    },
    {
     "cell_type": "markdown",
     "metadata": {},
     "source": [
      "---"
     ]
    },
    {
     "cell_type": "markdown",
     "metadata": {},
     "source": [
      "<img src=\"../../../C4PLogo.png\" width=200 style=\"display: inline;\"> All content is under a modified MIT License, and can be freely used and adapted.  See the full license text [here](../../../LICENSE)."
     ]
    }
   ],
   "metadata": {}
  }
 ]
}