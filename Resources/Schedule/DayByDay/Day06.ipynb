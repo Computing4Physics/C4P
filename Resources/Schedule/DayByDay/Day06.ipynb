{
 "metadata": {
  "name": "",
  "signature": "sha256:e1bf40ce931238f649a7748bf642cc0b7c5c63608c2488278ef9598ae6ebf279"
 },
 "nbformat": 3,
 "nbformat_minor": 0,
 "worksheets": [
  {
   "cells": [
    {
     "cell_type": "heading",
     "level": 1,
     "metadata": {},
     "source": [
      "<img src=\"../../../C4PLogo.png\" width=300 style=\"display: inline;\"> Day 6 - Thursday, April 17, 2014"
     ]
    },
    {
     "cell_type": "markdown",
     "metadata": {},
     "source": [
      "**Summary:** Self-guided tour of Data I/O followed by self-guided tour of Counting Stars lesson from Software Carpentry."
     ]
    },
    {
     "cell_type": "markdown",
     "metadata": {},
     "source": [
      "---"
     ]
    },
    {
     "cell_type": "markdown",
     "metadata": {},
     "source": [
      "`1.`  Open terminal, create new directories for DataIO and CountingStars work, practice workflow:\n",
      "\n",
      "```bash\n",
      "$ cd PHYS202-S14\n",
      "$ git pull origin master\n",
      "$ git status\n",
      "$ mkdir DataIO\n",
      "$ mkdir CountingStars\n",
      "$ ipynb\n",
      "```"
     ]
    },
    {
     "cell_type": "markdown",
     "metadata": {},
     "source": [
      "`2.` Navigate to the `DataIO` directory and create a new notebook called `DataIOTour` with title cell (Heading 1) **Data I/O Tour**."
     ]
    },
    {
     "cell_type": "markdown",
     "metadata": {},
     "source": [
      "`3.` Open \"DataIO Intro\" webpage on PolyLearn in one Browser Window.  Follow the self-guided tour, entering code into your `DataIOTour` notebook as you go.  Add markdown cells with your notes, if you like.  \n",
      "\n",
      "<b><font color=\"red\">No copy/paste!</font></b>\n",
      "\n",
      "Type the commands yourself to get the practice doing it.  This will also slow you down so you can think about the commands and what they are doing as you type them."
     ]
    },
    {
     "cell_type": "markdown",
     "metadata": {},
     "source": [
      "`4.` Before starting the exercise for the Data I/O notebook, switch to the \"Counting Stars\" lesson on PolyLearn.  It is a separate notebook on data I/O with image files that builds on the \"Data I/O Tour\".  \n",
      "\n",
      "   * Navigate to the `CountingStars` directory and create a new notebook called `CountingStarsTour` for the self-guided tour.  Enter code into the notebook as you go, adding markdown cells with your notes, if you like."
     ]
    },
    {
     "cell_type": "markdown",
     "metadata": {},
     "source": [
      "`5.` At the end of the two self-guided tours create new notebooks for the exercises.  Open those pages on PolyLearn and complete them in the appropriate notebooks. \n",
      "\n",
      "\n",
      "```\n",
      "```\n",
      "<font color=\"red\"><b>They will be due as HW by Wednesday, April 23, 2014 at 11:59pm.</b></font>"
     ]
    },
    {
     "cell_type": "markdown",
     "metadata": {},
     "source": [
      "`6.` Before leaving, save your work in the notebook, then practice your workflow:\n",
      "\n",
      "```bash\n",
      "$ git status\n",
      "$ git add .\n",
      "$ git commit -m \"<summary message goes here>\"\n",
      "$ git push origin master\n",
      "$ git status\n",
      "```\n",
      "\n",
      "Check github to be sure the work got there so you have it for the weekend."
     ]
    },
    {
     "cell_type": "markdown",
     "metadata": {},
     "source": [
      "---"
     ]
    },
    {
     "cell_type": "markdown",
     "metadata": {},
     "source": [
      "<img src=\"../../../C4PLogo.png\" width=200 style=\"display: inline;\"> All content is under a modified MIT License, and can be freely used and adapted.  See the full license text [here](../../../LICENSE)."
     ]
    }
   ],
   "metadata": {}
  }
 ]
}