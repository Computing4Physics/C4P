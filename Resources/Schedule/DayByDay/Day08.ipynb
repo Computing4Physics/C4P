{
 "metadata": {
  "name": "",
  "signature": "sha256:c2b7f05f01d4cbcf681c5270409171f0a416ccccfd06f92d329e6ca03fc7b304"
 },
 "nbformat": 3,
 "nbformat_minor": 0,
 "worksheets": [
  {
   "cells": [
    {
     "cell_type": "heading",
     "level": 1,
     "metadata": {},
     "source": [
      "<img src=\"../../../C4PLogo.png\" width=300 style=\"display: inline;\"> Day 8 - Thursday, April 24, 2014"
     ]
    },
    {
     "cell_type": "markdown",
     "metadata": {},
     "source": [
      "**Summary:** Widgets and animations, Error handling"
     ]
    },
    {
     "cell_type": "markdown",
     "metadata": {},
     "source": [
      "---"
     ]
    },
    {
     "cell_type": "markdown",
     "metadata": {},
     "source": [
      "**1.**  Open terminal, create new directory for Widgets and ErrorHandling work, practice workflow:\n",
      "\n",
      "```bash\n",
      "$ cd PHYS202-S14\n",
      "$ git pull origin master\n",
      "$ git status\n",
      "$ mkdir Widgets\n",
      "$ mkdir ErrorHandling\n",
      "$ ipynb\n",
      "```"
     ]
    },
    {
     "cell_type": "markdown",
     "metadata": {},
     "source": [
      "**2.** Navigate to the `Widgets` directory and create a new notebook called `WidgetsTour` with title cell (Heading 1) **Widgets and Interactive Data Analysis**."
     ]
    },
    {
     "cell_type": "markdown",
     "metadata": {},
     "source": [
      "**3.** Open \"Widgets and Interactive Data Analysis\" webpage on PolyLearn in one Browser Window.  Follow the self-guided tour, entering code into your `WidgetsTour` notebook as you go.  Add markdown cells with your notes, if you like.  \n",
      "\n",
      "<b><font color=\"red\">No copy/paste!</font></b>\n",
      "\n",
      "Type the commands yourself to get the practice doing it.  This will also slow you down so you can think about the commands and what they are doing as you type them."
     ]
    },
    {
     "cell_type": "markdown",
     "metadata": {},
     "source": [
      "**4.** Navigate to the  `ErrorHandling` directort and create a new notebook called `ErrorHandlingTour` with title cell (Heading 1) **Error handling**."
     ]
    },
    {
     "cell_type": "markdown",
     "metadata": {},
     "source": [
      "**5.** Open \"Error handling\" webpage on PolyLearn in one Browser Window.  Follow the self-guided tour, entering code into your `ErrorHandlingTour` notebook as you go.  Add markdown cells with your notes, if you like.  \n",
      "\n",
      "<b><font color=\"red\">No copy/paste!</font></b>\n",
      "\n",
      "Type the commands yourself to get the practice doing it.  This will also slow you down so you can think about the commands and what they are doing as you type them."
     ]
    },
    {
     "cell_type": "markdown",
     "metadata": {},
     "source": [
      "**6.** At the end of the self-guided tour open the \"Error Handling Exercises\" page on PolyLearn and create new notebook `ErrorHandlingExercises`.  Start working on the exercises.  \n",
      "```\n",
      "```\n",
      "<font color=\"red\"><b>They will be due as HW by Wednesday, May 7, 2014 at 11:59pm.</b></font>"
     ]
    },
    {
     "cell_type": "markdown",
     "metadata": {},
     "source": [
      "**7.** Before leaving, save your work in the notebook, then practice your workflow:\n",
      "\n",
      "```bash\n",
      "$ git status\n",
      "$ git add .\n",
      "$ git commit -m \"<summary message goes here>\"\n",
      "$ git push origin master\n",
      "$ git status\n",
      "```\n",
      "\n",
      "Check github to be sure the work got there so you have it for the weekend."
     ]
    },
    {
     "cell_type": "markdown",
     "metadata": {},
     "source": [
      "---"
     ]
    },
    {
     "cell_type": "markdown",
     "metadata": {},
     "source": [
      "<img src=\"../../../C4PLogo.png\" width=200 style=\"display: inline;\"> All content is under a modified MIT License, and can be freely used and adapted.  See the full license text [here](../../../LICENSE)."
     ]
    }
   ],
   "metadata": {}
  }
 ]
}