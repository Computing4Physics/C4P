{
 "metadata": {
  "name": "",
  "signature": "sha256:67f1b3c32295ec44c47e1d09aa5d4f943e8c373df73d0b733df25d1cf613cd56"
 },
 "nbformat": 3,
 "nbformat_minor": 0,
 "worksheets": [
  {
   "cells": [
    {
     "cell_type": "heading",
     "level": 1,
     "metadata": {},
     "source": [
      "<img src=\"../../../C4PLogo.png\" width=300 style=\"display: inline;\"> Day 3 - Tuesday, April 8, 2014"
     ]
    },
    {
     "cell_type": "markdown",
     "metadata": {},
     "source": [
      "**Summary:** Review UNIX shell and version control, introduction to iPython Notebook, first Project Euler problem."
     ]
    },
    {
     "cell_type": "markdown",
     "metadata": {},
     "source": [
      "---"
     ]
    },
    {
     "cell_type": "markdown",
     "metadata": {},
     "source": [
      "1. Review UNIX Shell\n",
      "  * `nano .bash_profile`\n",
      "    * `# My bash shell configuration`\n",
      "    * `alias ipynb='ipython notebook'`\n",
      "    * `export PATH=\"/Applications/Anaconda/bin:$PATH\"`\n",
      "  * Save and close terminal, open a new one\n",
      "  * `cd PHYS202-S14`\n",
      "  * `git pull origin master`\n",
      "  * `rmdir Week1`\n",
      "  * `mkdir iPython`\n",
      "  * `mkdir ProjectEuler`\n",
      "  * `cd`\n",
      "  * `pwd`\n",
      "1. Intro to ipython notebook\n",
      "  * How to open it\n",
      "  * Basic navigation, help, etc.\n",
      "  * Create a new notebook in the `iPython` directory and type a few python commands into a cell\n",
      "    * `print \"Hello\"`\n",
      "    * `a = 10`\n",
      "    * `print a`\n",
      "    * `for i in range(0,10): print i`\n",
      "    * etc.\n",
      "  * Have them give it a name: `NotebookPractice` (pay attention to case)\n",
      "  * Show them markdown vs. code cells and have them create a title cell at the top of the notebook\n",
      "2. Intro to Project Euler, their first pair programming experience\n",
      "  * Show them the problem, have them create the first PE notebook with name `ProjectEuler1` in the `ProjectEuler` directory (pay attention to spaces, case)\n",
      "  * Have them use Markdown to create a Header cell for the title of the PE problem and another for the problem description.\n",
      "  * Add a markdown cell with `Navigator: <name>` and `Driver: <name>` in each notebook.  \n",
      "  * Let them work on the solution together as pairs.  \n",
      "  * Once they have a solution, close the first notebook and switch roles so the other has the code in their directory.  Try to do it without looking.\n",
      "  * Check that their code runs after restarting the kernel.  If it does, close the notebook and work on Codecademy til everyone is finished.\n",
      "3. Have them save the changes to their repo with\n",
      "  * `git status`\n",
      "  * `git add <files in status>`\n",
      "  * `git commit -m 'saving Tuesday practice and Project Euler 1'`\n",
      "  * `git push origin master`\n",
      "  * `git status`\n",
      "  * Check github to see that the results are there\n",
      "4. Keep working on Codecademy\n"
     ]
    },
    {
     "cell_type": "markdown",
     "metadata": {},
     "source": [
      "---"
     ]
    },
    {
     "cell_type": "markdown",
     "metadata": {},
     "source": [
      "<img src=\"../../../C4PLogo.png\" width=200 style=\"display: inline;\"> All content is under a modified MIT License, and can be freely used and adapted.  See the full license text [here](../../../LICENSE)."
     ]
    }
   ],
   "metadata": {}
  }
 ]
}