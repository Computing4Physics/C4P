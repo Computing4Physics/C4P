{
 "metadata": {
  "name": "",
  "signature": "sha256:e05a067cdb1f88756c23bda18dd86ab1ba3178cd4bc0d18a89adf5b36111ca15"
 },
 "nbformat": 3,
 "nbformat_minor": 0,
 "worksheets": [
  {
   "cells": [
    {
     "cell_type": "heading",
     "level": 1,
     "metadata": {},
     "source": [
      "<img src=\"../../../C4PLogo.png\" width=300 style=\"display: inline;\"> Day 2 - Thursday, April 3, 2014"
     ]
    },
    {
     "cell_type": "markdown",
     "metadata": {},
     "source": [
      "**Summary:** Review of UNIX shell, introduction to version control"
     ]
    },
    {
     "cell_type": "markdown",
     "metadata": {},
     "source": [
      "---"
     ]
    },
    {
     "cell_type": "markdown",
     "metadata": {},
     "source": [
      "1. Review UNIX shell\n",
      "  * Look for directory/files we created last time. (Change the date in the pledge to not be April 1)\n",
      "  * Create a new directory, `Week1` (pay attention to spaces, case)\n",
      "  * Practice `cp`, `mv`, `rm`\n",
      "2. Intro to git/github\n",
      "  * Follow intro to version control notebook with them.\n",
      "  * Github signup with `<CPUID>` or `<CPUID>202`\n",
      "  * Version control our `PHYS202-S14` repository locally, then push to github\n",
      "  * View repo on github\n",
      "3. Assignment for the weekend: do next eight modules of the python track at Codecademy, a maximum of 2 per day (this will be checked on Tuesday).\n",
      "  * Functions\n",
      "     * `7.` Functions\n",
      "     * `8.` Taking a Vacation\n",
      "  * Lists and Dictionaries\n",
      "     * `9.` Python Lists and Dictionaries\n",
      "     * `10.` A Day at the Supermarket\n",
      "  * Student becomes the teacher\n",
      "     * `11.` Student becomes the teacher\n",
      "  * Lists and Functions\n",
      "     * `12.` Lists and Functions\n",
      "     * `13.` Battleship!\n",
      "  * Loops\n",
      "     * `14.` Loops\n",
      "     * `15.` Practice makes perfect"
     ]
    },
    {
     "cell_type": "markdown",
     "metadata": {},
     "source": [
      "---"
     ]
    },
    {
     "cell_type": "markdown",
     "metadata": {},
     "source": [
      "<img src=\"../../../C4PLogo.png\" width=200 style=\"display: inline;\"> All content is under a modified MIT License, and can be freely used and adapted.  See the full license text [here](../../../LICENSE)."
     ]
    }
   ],
   "metadata": {}
  }
 ]
}