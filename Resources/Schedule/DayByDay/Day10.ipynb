{
 "metadata": {
  "name": "",
  "signature": "sha256:27a9a8ab93ccb4f73395e7a13e76978b7e4c3449f35e1999b6601c995b3f0487"
 },
 "nbformat": 3,
 "nbformat_minor": 0,
 "worksheets": [
  {
   "cells": [
    {
     "cell_type": "heading",
     "level": 1,
     "metadata": {},
     "source": [
      "<img src=\"../../../C4PLogo.png\" width=300 style=\"display: inline;\">  Day 10 - Thursday, May 1, 2014"
     ]
    },
    {
     "cell_type": "markdown",
     "metadata": {},
     "source": [
      "**Summary:** Project Overviews"
     ]
    },
    {
     "cell_type": "markdown",
     "metadata": {},
     "source": [
      "---"
     ]
    },
    {
     "cell_type": "markdown",
     "metadata": {},
     "source": [
      "**1.**  Use overhead projector and go through each project description with the whole class, explaining some of the background, why the project is interesting and what programming skills it will entail."
     ]
    },
    {
     "cell_type": "markdown",
     "metadata": {},
     "source": [
      "**2.** After presenting projects, they will be assigned.  Each class has a fixed number of each project.   Pass out randomly to each student color-coded cards with the project names on them.  Allow them to exchange cards with each other until they are happy with their assigned project. (Note: there was very little exchanging.  Most people were happy with what they got.)"
     ]
    },
    {
     "cell_type": "markdown",
     "metadata": {},
     "source": [
      "**3.** Have each group of students working on a project get together and talk about how they can collaborate and support each other.  Encourage the groups to discuss strategies and general approaches but remind them of the rules for academic honesty as written in the syllabus."
     ]
    },
    {
     "cell_type": "markdown",
     "metadata": {},
     "source": [
      "**4.** I initiated a verbal discussion of Program Design strategies with the remaining class period, but next time I will probably prepare a document with guidance to distribute on PolyLearn for their reference.  One could present an entire course on program design, so I stuck to some general advice:\n",
      "   * **Design** - Identify the problem that you need to solve and/or questions that you need to answer, then create a list of steps for how to get to the solution/answer.\n",
      "   * **Modularization** - break a complex problem into easy-to-implement building blocks that can be independently tested.\n",
      "   * **Scaffolding** - like an outline of a software program in which skeletons of the main functions for the program are developed that take in the necessary inputs and just pass default information back until you are ready to implement the \"guts\"\n",
      "   * **Documentation** - comment your code as you go, include docstrings in all major functions\n",
      "   * **Testing** - include test cases for each function that demonstrate they work as expected.\n",
      "   * **Debugging** - where the bulk of the work takes place.\n",
      "   "
     ]
    },
    {
     "cell_type": "markdown",
     "metadata": {},
     "source": [
      "---"
     ]
    },
    {
     "cell_type": "markdown",
     "metadata": {},
     "source": [
      "<img src=\"../../../C4PLogo.png\" width=200 style=\"display: inline;\"> All content is under a modified MIT License, and can be freely used and adapted.  See the full license text [here](../../../LICENSE)."
     ]
    }
   ],
   "metadata": {}
  }
 ]
}