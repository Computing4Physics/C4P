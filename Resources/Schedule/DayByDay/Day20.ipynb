{
 "metadata": {
  "name": "",
  "signature": "sha256:3fdcd7f27a2cbe30ca2d0c968e29fe5dfe1b83ae552a17262adfb9367bf348a7"
 },
 "nbformat": 3,
 "nbformat_minor": 0,
 "worksheets": [
  {
   "cells": [
    {
     "cell_type": "heading",
     "level": 1,
     "metadata": {},
     "source": [
      "<img src=\"../../../C4PLogo.png\" width=300 style=\"display: inline;\"> Day 20 - Thursday, June 5, 2014"
     ]
    },
    {
     "cell_type": "markdown",
     "metadata": {},
     "source": [
      "**Summary:** Project Hack-a-thon!"
     ]
    },
    {
     "cell_type": "markdown",
     "metadata": {},
     "source": [
      "---"
     ]
    },
    {
     "cell_type": "markdown",
     "metadata": {},
     "source": [
      "**0. Course evaluations** will be conducted at the start of class if the participation rate is still below 90%.  Students will be asked to log on to http://sail.calpoly.edu and complete the evaluations.  If we get >90% participation, I will bring treats to the final exam demos."
     ]
    },
    {
     "cell_type": "markdown",
     "metadata": {},
     "source": [
      "**1.**  The rest of class time will be devoted to helping students work on their final project programs, which are due by 11:59pm on Friday, June 6, 2014."
     ]
    },
    {
     "cell_type": "markdown",
     "metadata": {},
     "source": [
      "---"
     ]
    },
    {
     "cell_type": "markdown",
     "metadata": {},
     "source": [
      "<img src=\"../../../C4PLogo.png\" width=200 style=\"display: inline;\"> All content is under a modified MIT License, and can be freely used and adapted.  See the full license text [here](../../../LICENSE)."
     ]
    }
   ],
   "metadata": {}
  }
 ]
}