{
 "metadata": {
  "name": "",
  "signature": "sha256:3a56bda5825fccc99f826f272d484a9bbe92aa91730ca522d41b81cdaabefaf2"
 },
 "nbformat": 3,
 "nbformat_minor": 0,
 "worksheets": [
  {
   "cells": [
    {
     "cell_type": "heading",
     "level": 1,
     "metadata": {},
     "source": [
      "<img src=\"../../../C4PLogo.png\" width=300 style=\"display: inline;\"> Day 19 - Tuesday, June 3, 2014"
     ]
    },
    {
     "cell_type": "markdown",
     "metadata": {},
     "source": [
      "**Summary:** Symbolic Analysis with SymPy"
     ]
    },
    {
     "cell_type": "markdown",
     "metadata": {},
     "source": [
      "---"
     ]
    },
    {
     "cell_type": "markdown",
     "metadata": {},
     "source": [
      "Brian Granger is preparing a tour and exercises for them to learn about the symbolic analysis capabilities available with the SymPy package."
     ]
    },
    {
     "cell_type": "markdown",
     "metadata": {},
     "source": [
      "---"
     ]
    },
    {
     "cell_type": "markdown",
     "metadata": {},
     "source": [
      "**0. Course evaluations** will be conducted at the start of class.  Students will be asked to log on to http://sail.calpoly.edu and complete the evaluations.  If we get >90% participation, I will bring treats to the final exam demos."
     ]
    },
    {
     "cell_type": "markdown",
     "metadata": {},
     "source": [
      "**1.**  Open terminal, create a `SymPy` directory, practice workflow:\n",
      "\n",
      "```bash\n",
      "$ cd PHYS202-S14\n",
      "$ git pull origin master\n",
      "$ git status\n",
      "$ mkdir SymPy\n",
      "$ ipynb\n",
      "```"
     ]
    },
    {
     "cell_type": "markdown",
     "metadata": {},
     "source": [
      "**2.** Navigate to the `SymPy` directory and create a new notebook called `SymPyTour` with title cell (Heading 1) **Symbolic Analysis with SymPy**."
     ]
    },
    {
     "cell_type": "markdown",
     "metadata": {},
     "source": [
      "**3.** Open the \"SymPy\" webpage on PolyLearn in one Browser Window.  Follow the self-guided tour, entering code into your `SymPyTour` notebook as you go.  Add markdown cells with your notes, if you like.  \n",
      "\n",
      "<b><font color=\"red\">No copy/paste!</font></b>\n",
      "\n",
      "Type the commands yourself to get the practice doing it.  This will also slow you down so you can think about the commands and what they are doing as you type them."
     ]
    },
    {
     "cell_type": "markdown",
     "metadata": {},
     "source": [
      "**4.** At the end of the self-guided tour open the \"SymPy Exercises\" page on PolyLearn and start working on them.\n",
      "```\n",
      "```\n",
      "<font color=\"red\"><b>They will be due as HW by Wednesday, June 4, 2014 at 11:59pm.</b></font>"
     ]
    },
    {
     "cell_type": "markdown",
     "metadata": {},
     "source": [
      "**5.** Before leaving, save your work in the notebook, then practice your workflow:\n",
      "\n",
      "```bash\n",
      "$ git status\n",
      "$ git add .\n",
      "$ git commit -m \"<summary message goes here>\"\n",
      "$ git push origin master\n",
      "$ git status\n",
      "```\n",
      "\n",
      "Check github to be sure the work got there so you have it for the weekend."
     ]
    },
    {
     "cell_type": "markdown",
     "metadata": {},
     "source": [
      "---"
     ]
    },
    {
     "cell_type": "markdown",
     "metadata": {},
     "source": [
      "<img src=\"../../../C4PLogo.png\" width=200 style=\"display: inline;\"> All content is under a modified MIT License, and can be freely used and adapted.  See the full license text [here](../../../LICENSE)."
     ]
    }
   ],
   "metadata": {}
  }
 ]
}