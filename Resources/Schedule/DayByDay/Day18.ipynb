{
 "metadata": {
  "name": "",
  "signature": "sha256:49d5b9f7f46e71391e96a6070784257e35e9ec3fe7361da2bc9d19748557c4aa"
 },
 "nbformat": 3,
 "nbformat_minor": 0,
 "worksheets": [
  {
   "cells": [
    {
     "cell_type": "heading",
     "level": 1,
     "metadata": {},
     "source": [
      "<img src=\"../../../C4PLogo.png\" width=300 style=\"display: inline;\"> Day 18 - Thursday, May 29, 2014"
     ]
    },
    {
     "cell_type": "markdown",
     "metadata": {},
     "source": [
      "**Summary:** Linear Regression, Optimization and Curve fitting"
     ]
    },
    {
     "cell_type": "markdown",
     "metadata": {},
     "source": [
      "---"
     ]
    },
    {
     "cell_type": "markdown",
     "metadata": {},
     "source": [
      "Tour and exercises were posted on PolyLearn (and announced) at 5:30pm on May 28.  I noticed that attendance was lighter than usual but I am not sure if these two events are connected.  Most of the questions I received in class related to the projects or homework from previous lessons."
     ]
    },
    {
     "cell_type": "markdown",
     "metadata": {},
     "source": [
      "---"
     ]
    },
    {
     "cell_type": "markdown",
     "metadata": {},
     "source": [
      "**1.**  Open terminal, practice workflow:\n",
      "\n",
      "```bash\n",
      "$ cd PHYS202-S14\n",
      "$ git pull origin master\n",
      "$ git status\n",
      "$ mkdir Optimization\n",
      "$ ipynb\n",
      "```"
     ]
    },
    {
     "cell_type": "markdown",
     "metadata": {},
     "source": [
      "**2.** Navigate to the `Optimization` directory and create a new notebook called `OptimizationTour` with title cell (Heading 1) **Linear Regression, Optimization, and Curve Fitting**."
     ]
    },
    {
     "cell_type": "markdown",
     "metadata": {},
     "source": [
      "**3.** Open the \"Optimization\" webpage on PolyLearn in one Browser Window.  Follow the self-guided tour, entering code into your `OptimizationTour` notebook as you go.  Add markdown cells with your notes, if you like.  \n",
      "\n",
      "<b><font color=\"red\">No copy/paste!</font></b>\n",
      "\n",
      "Type the commands yourself to get the practice doing it.  This will also slow you down so you can think about the commands and what they are doing as you type them."
     ]
    },
    {
     "cell_type": "markdown",
     "metadata": {},
     "source": [
      "**4.** At the end of the self-guided tour open the \"Optimization Exercises\" page on PolyLearn and start working on them.\n",
      "```\n",
      "```\n",
      "<font color=\"red\"><b>They will be due as HW by Wednesday, June 4, 2014 at 11:59pm.</b></font>"
     ]
    },
    {
     "cell_type": "markdown",
     "metadata": {},
     "source": [
      "**5.** Before leaving, save your work in the notebook, then practice your workflow:\n",
      "\n",
      "```bash\n",
      "$ git status\n",
      "$ git add .\n",
      "$ git commit -m \"<summary message goes here>\"\n",
      "$ git push origin master\n",
      "$ git status\n",
      "```\n",
      "\n",
      "Check github to be sure the work got there so you have it for the weekend."
     ]
    },
    {
     "cell_type": "markdown",
     "metadata": {},
     "source": [
      "---"
     ]
    },
    {
     "cell_type": "markdown",
     "metadata": {},
     "source": [
      "<img src=\"../../../C4PLogo.png\" width=200 style=\"display: inline;\"> All content is under a modified MIT License, and can be freely used and adapted.  See the full license text [here](../../../LICENSE)."
     ]
    }
   ],
   "metadata": {}
  }
 ]
}