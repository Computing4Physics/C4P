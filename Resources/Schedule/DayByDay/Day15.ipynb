{
 "metadata": {
  "name": "",
  "signature": "sha256:2963c5127135da81696a8d0a70d6e2bd36cdd88176452f3eb206941074aa127f"
 },
 "nbformat": 3,
 "nbformat_minor": 0,
 "worksheets": [
  {
   "cells": [
    {
     "cell_type": "heading",
     "level": 1,
     "metadata": {},
     "source": [
      "<img src=\"../../../C4PLogo.png\" width=300 style=\"display: inline;\"> Day 15 - Tuesday, May 20, 2014"
     ]
    },
    {
     "cell_type": "markdown",
     "metadata": {},
     "source": [
      "**Summary:** Monte-Carlo Integration"
     ]
    },
    {
     "cell_type": "markdown",
     "metadata": {},
     "source": [
      "---"
     ]
    },
    {
     "cell_type": "markdown",
     "metadata": {},
     "source": [
      "This tour was posted on PolyLearn late on May 19, so some students may have been able to complete it before class, but not all."
     ]
    },
    {
     "cell_type": "markdown",
     "metadata": {},
     "source": [
      "---"
     ]
    },
    {
     "cell_type": "markdown",
     "metadata": {},
     "source": [
      "**1.**  Open terminal, practice workflow:\n",
      "\n",
      "```bash\n",
      "$ cd PHYS202-S14\n",
      "$ git pull origin master\n",
      "$ git status\n",
      "$ MCIntegration\n",
      "$ ipynb\n",
      "```"
     ]
    },
    {
     "cell_type": "markdown",
     "metadata": {},
     "source": [
      "**2.** Navigate to the `MCIntegration` directory and create a new notebook called `MCIntegrationTour` with title cell (Heading 1) **Monte-Carlo Integration Tour**."
     ]
    },
    {
     "cell_type": "markdown",
     "metadata": {},
     "source": [
      "**3.** Open the \"Monte Carlo Integration\" webpage on PolyLearn in one Browser Window.  Follow the self-guided tour, entering code into your `MCIntegrationTour` notebook as you go.  Add markdown cells with your notes, if you like.  \n",
      "\n",
      "<b><font color=\"red\">No copy/paste!</font></b>\n",
      "\n",
      "Type the commands yourself to get the practice doing it.  This will also slow you down so you can think about the commands and what they are doing as you type them."
     ]
    },
    {
     "cell_type": "markdown",
     "metadata": {},
     "source": [
      "**4.** At the end of the self-guided tour open the \"MC Integration Exercises\" page on PolyLearn and start working on them.\n",
      "```\n",
      "```\n",
      "<font color=\"red\"><b>They will be due as HW by Wednesday, May 28, 2014 at 11:59pm.</b></font>"
     ]
    },
    {
     "cell_type": "markdown",
     "metadata": {},
     "source": [
      "**5.** Before leaving, save your work in the notebook, then practice your workflow:\n",
      "\n",
      "```bash\n",
      "$ git status\n",
      "$ git add .\n",
      "$ git commit -m \"<summary message goes here>\"\n",
      "$ git push origin master\n",
      "$ git status\n",
      "```\n",
      "\n",
      "Check github to be sure the work got there so you have it for the weekend."
     ]
    },
    {
     "cell_type": "markdown",
     "metadata": {},
     "source": [
      "---"
     ]
    },
    {
     "cell_type": "markdown",
     "metadata": {},
     "source": [
      "<img src=\"../../../C4PLogo.png\" width=200 style=\"display: inline;\"> All content is under a modified MIT License, and can be freely used and adapted.  See the full license text [here](../../../LICENSE)."
     ]
    }
   ],
   "metadata": {}
  }
 ]
}