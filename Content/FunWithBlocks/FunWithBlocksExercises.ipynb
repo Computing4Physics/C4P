{
 "metadata": {
  "name": "",
  "signature": "sha256:199b2cdcf8d0f22967e31ce6cc9c62f9cd1f534332bf437e4a5203eb89110b90"
 },
 "nbformat": 3,
 "nbformat_minor": 0,
 "worksheets": [
  {
   "cells": [
    {
     "cell_type": "heading",
     "level": 1,
     "metadata": {},
     "source": [
      "<img src=\"../../C4PLogo.png\" width=300 style=\"display: inline;\">  Fun with Blocks Exercises"
     ]
    },
    {
     "cell_type": "markdown",
     "metadata": {},
     "source": [
      "---"
     ]
    },
    {
     "cell_type": "markdown",
     "metadata": {},
     "source": [
      "**Instructions:** Create a new notebook called `Battleship` in your `FunWithBlocks` directory and follow the instructions below to convert it to a visual game with the aid of ipythonblocks."
     ]
    },
    {
     "cell_type": "markdown",
     "metadata": {},
     "source": [
      "**Preliminaries:** At the top of your notebook, include a \"Heading 1\" cell with the title **Battleship**.  Then include the inline functions and libraries you need by adding a code cell that invokes the `%pylab inline` magic and imports the needed packages.\n",
      "\n",
      "---"
     ]
    },
    {
     "cell_type": "markdown",
     "metadata": {},
     "source": [
      "1. Open Codecademy and grab your Battleship! code from Lesson 13-18.  \n",
      "2. Copy it to a new notebook called `Battleship` in your `FunWithBlocks` directory and use ipythonblocks to make it more visual.  \n",
      "   * Use a light blue for the background, red for a hit and a different color of your choice for misses.  \n",
      "3. Once it is working:\n",
      "   * Expand it to a larger field\n",
      "   * Make the battleship longer\n",
      "   * Provide more tries for the player to find it and completely sink it. \n",
      "   * If the player doesn't sink the ship before the end of the game, reveal the playing board to them so they can see where it was.  \n",
      "4. Document your code with a markdown cell that explains how to run it and what the options are.  \n",
      "5. Demonstrate the game in another cell to show that it works as expected.  You do not have to provide a demo for each possible outcome.  Just one demo will do.\n",
      "6. Get creative.  You could allow ships to lie diagonally, make the player say how many tries they would like to use to sink it, add more ships, etc.  \n",
      "\n",
      "<font color=\"red\">Your output for this exercise will be graded.</font>  Your code must implement the elements listed in items 1-5 above.  You will also receive a creativity bonus for any additional features that the code implements (such as those suggested in item 6 or others you come up with).  Be sure to document the extra features too!"
     ]
    },
    {
     "cell_type": "markdown",
     "metadata": {},
     "source": [
      "**Note: ipythonblocks may show up again on the midterm...**"
     ]
    },
    {
     "cell_type": "markdown",
     "metadata": {},
     "source": [
      "---"
     ]
    },
    {
     "cell_type": "markdown",
     "metadata": {},
     "source": [
      "<img src=\"../../C4PLogo.png\" width=200 style=\"display: inline;\"> All content is under a modified MIT License, and can be freely used and adapted.  See the full license text [here](../../LICENSE)."
     ]
    }
   ],
   "metadata": {}
  }
 ]
}