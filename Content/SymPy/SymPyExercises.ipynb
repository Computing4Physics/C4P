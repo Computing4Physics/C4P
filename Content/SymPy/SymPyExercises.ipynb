{
 "metadata": {
  "name": "",
  "signature": "sha256:5c41340984d49eef2ab208b43cb3f9fe481e68fd58fb470716c66a849a829039"
 },
 "nbformat": 3,
 "nbformat_minor": 0,
 "worksheets": [
  {
   "cells": [
    {
     "cell_type": "heading",
     "level": 1,
     "metadata": {},
     "source": [
      "<img src=\"../../C4PLogo.png\" width=300 style=\"display: inline;\"> Symbolic Analysis with SymPy Exercises"
     ]
    },
    {
     "cell_type": "markdown",
     "metadata": {},
     "source": [
      "---"
     ]
    },
    {
     "cell_type": "markdown",
     "metadata": {},
     "source": [
      "**Instructions:** Create a new notebook called `SymPyExercises` in your `SymPy` directory and solve the following problems inside it. Be sure to include the problem statements in a markdown cell above your solution. You don't need to put the \"helper\" code in the markdown cell, just implement the helper code in your code cell with your solution."
     ]
    },
    {
     "cell_type": "markdown",
     "metadata": {},
     "source": [
      "**Preliminaries:** At the top of your notebook, include a \"Heading 1\" cell with the title **Symbolic Analysis with SymPy Exercises**.  Then include the inline functions libraries by adding a code cell that invokes the `%pylab inline` magic and imports the needed packages."
     ]
    },
    {
     "cell_type": "markdown",
     "metadata": {},
     "source": [
      "---"
     ]
    },
    {
     "cell_type": "code",
     "collapsed": false,
     "input": [
      "from IPython.html.widgets import interact\n",
      "from IPython.display import display"
     ],
     "language": "python",
     "metadata": {},
     "outputs": []
    },
    {
     "cell_type": "code",
     "collapsed": false,
     "input": [
      "%matplotlib inline\n",
      "import numpy as np\n",
      "import matplotlib.pyplot as plt"
     ],
     "language": "python",
     "metadata": {},
     "outputs": []
    },
    {
     "cell_type": "code",
     "collapsed": false,
     "input": [
      "from sympy import *\n",
      "init_printing(use_latex='mathjax')"
     ],
     "language": "python",
     "metadata": {},
     "outputs": []
    },
    {
     "cell_type": "heading",
     "level": 2,
     "metadata": {},
     "source": [
      "Question 1"
     ]
    },
    {
     "cell_type": "markdown",
     "metadata": {},
     "source": [
      "This question looks at a class of integrals that appears often in physics, the so called Gaussian integrals of the form:\n",
      "\n",
      "$$ I_n(a) = \\int_{-\\infty}^{\\infty} z^n e^{-a z^2} dz $$"
     ]
    },
    {
     "cell_type": "markdown",
     "metadata": {},
     "source": [
      "**(a)** Define SymPy symbols for the following variables:\n",
      "\n",
      "* `z` that is real\n",
      "* `a` that is real and positive\n",
      "* `n` that is a positive integer"
     ]
    },
    {
     "cell_type": "code",
     "collapsed": false,
     "input": [
      "# Copy the exercise statement to a markdown cell in your notebook\n",
      "# and then implement your solution in a code cell here."
     ],
     "language": "python",
     "metadata": {},
     "outputs": []
    },
    {
     "cell_type": "markdown",
     "metadata": {},
     "source": [
      "**(b)**. Compute the integral $I_0(a)$ symbolically by passing the full integrand to the `integrate` function. Save the result as variable `I0` and display it using `IPython.display.display`."
     ]
    },
    {
     "cell_type": "code",
     "collapsed": false,
     "input": [
      "# Copy the exercise statement to a markdown cell in your notebook\n",
      "# and then implement your solution in a code cell here."
     ],
     "language": "python",
     "metadata": {},
     "outputs": []
    },
    {
     "cell_type": "markdown",
     "metadata": {},
     "source": [
      "**(c)** Verify that $I_m(a)=0$ if $m$ is odd by computing the integral symbolically for `m=[1,3,5,7,9]`. Use a loop or other control structure to interate through values of $m$. Why should you not use the variable `n` for this part?"
     ]
    },
    {
     "cell_type": "code",
     "collapsed": false,
     "input": [
      "# Copy the exercise statement to a markdown cell in your notebook\n",
      "# and then implement your solution in a code cell here."
     ],
     "language": "python",
     "metadata": {},
     "outputs": []
    },
    {
     "cell_type": "markdown",
     "metadata": {},
     "source": [
      "**(d)** Define a symbolic expression, saved under the variable `In`, for the unevaluated integral $I_n(a)$ using SymPy's `Integral` class. Use symbolic manipulations to verify the following identity:\n",
      "\n",
      "$$ I_2(a) = - \\frac{\\partial I_0}{\\partial a} $$\n",
      "\n",
      "It may be helpful to use `Eq(lhs,rhs).doit()` to verify mathematical equality. "
     ]
    },
    {
     "cell_type": "code",
     "collapsed": false,
     "input": [
      "# Copy the exercise statement to a markdown cell in your notebook\n",
      "# and then implement your solution in a code cell here."
     ],
     "language": "python",
     "metadata": {},
     "outputs": []
    },
    {
     "cell_type": "heading",
     "level": 3,
     "metadata": {},
     "source": [
      "Question 2"
     ]
    },
    {
     "cell_type": "markdown",
     "metadata": {},
     "source": [
      "**(a)** Define and display the following matrix symbolically, where $a$ is a positive real number:\n",
      "\n",
      "$$ H = \\left[\\begin{matrix}- a + 1 & 0 & 0\\\\0 & 1 & a\\\\0 & a & 2\\end{matrix}\\right] $$"
     ]
    },
    {
     "cell_type": "code",
     "collapsed": false,
     "input": [
      "# Copy the exercise statement to a markdown cell in your notebook\n",
      "# and then implement your solution in a code cell here."
     ],
     "language": "python",
     "metadata": {},
     "outputs": []
    },
    {
     "cell_type": "markdown",
     "metadata": {},
     "source": [
      "**(b)** Find the eigenvalues of $H$ and store them in a list."
     ]
    },
    {
     "cell_type": "code",
     "collapsed": false,
     "input": [
      "# Copy the exercise statement to a markdown cell in your notebook\n",
      "# and then implement your solution in a code cell here."
     ],
     "language": "python",
     "metadata": {},
     "outputs": []
    },
    {
     "cell_type": "markdown",
     "metadata": {},
     "source": [
      "**(c)** Write a Python function with the signature shown below. This function should return two NumPy arrays, which, when passed to the `matplotlib.pyplot.plot` function will plot the expression as a function of the symbol over some range.\n",
      "\n",
      "```python\n",
      "def expr_to_data(expr, lim, n=100):\n",
      "    \"\"\"Evaluate an expression numerically over a range.\n",
      "    \n",
      "    Parameters\n",
      "    ----------\n",
      "    expr : Expr\n",
      "        A SymPy expression containing one free symbol, call it f(x).\n",
      "    lim : (x, xmin, xmax)\n",
      "        A 3-tuple of the symbol to use as the x variable and its xmin and\n",
      "        xmax values for numerical evaluation. In your function you can call\n",
      "        these \"x\", but the user will be able to pass any symbol.\n",
      "    n : int\n",
      "        The number of points to use in evaluating the expression between\n",
      "        xmin and xmax.\n",
      "    \n",
      "    Returns\n",
      "    -------\n",
      "    A 2-tuple of NumPy arrays (x, f(x)), which, when passed to\n",
      "    matplotlib's plot function will plot the expression as a function of the\n",
      "    symbol.\n",
      "    \"\"\"\n",
      "```\n",
      "\n",
      "Use SymPy's `lambdify` function with `modules='numpy'` to build a function that can be used to evaluate the expression numerically. You will also have to perform the following logic on `xmin` and `xmax`:\n",
      "\n",
      "* First convert to a SymPy object using `sympify`.\n",
      "* Then produce a numerical value using `N/evalf`.\n",
      "* Finally convert to a Python float using `float`.\n",
      "\n",
      "When working with SymPy and regular Python numbers at the same time, it is important to keep track of what types you have. You can always show the type using Python's `type` function."
     ]
    },
    {
     "cell_type": "code",
     "collapsed": false,
     "input": [
      "# Copy the exercise statement to a markdown cell in your notebook\n",
      "# and then implement your solution in a code cell here."
     ],
     "language": "python",
     "metadata": {},
     "outputs": []
    },
    {
     "cell_type": "markdown",
     "metadata": {},
     "source": [
      "Here are a few assert statements you can run to test your function:"
     ]
    },
    {
     "cell_type": "code",
     "collapsed": false,
     "input": [
      "p = Symbol('p')\n",
      "assert len(expr_to_data(p, (p,0,1), n=10)) == 2\n",
      "assert len(expr_to_data(p, (p,0,1), n=10)[0]) == 10 and len(expr_to_data(p, (p,0,1), n=10)[1]) == 10\n",
      "assert np.all(expr_to_data(p, (p,0,1), n=10)[1] == np.linspace(0,1,10))\n",
      "assert np.all(expr_to_data(p**2, (p,0,1), n=10)[1] == np.linspace(0,1,10)**2)"
     ],
     "language": "python",
     "metadata": {},
     "outputs": []
    },
    {
     "cell_type": "markdown",
     "metadata": {},
     "source": [
      "**(d)** Use your `expr_to_data` function to generate data that can be used to plot the above eigenvalues as functions of the parameter `a` over the range `[0,1]`. The plots of all three eigenvalues should appear on the same plot."
     ]
    },
    {
     "cell_type": "code",
     "collapsed": false,
     "input": [
      "# Copy the exercise statement to a markdown cell in your notebook\n",
      "# and then implement your solution in a code cell here."
     ],
     "language": "python",
     "metadata": {},
     "outputs": []
    },
    {
     "cell_type": "markdown",
     "metadata": {},
     "source": [
      "---"
     ]
    },
    {
     "cell_type": "markdown",
     "metadata": {},
     "source": [
      "<img src=\"../../C4PLogo.png\" width=200 style=\"display: inline;\"> All content is under a modified MIT License, and can be freely used and adapted.  See the full license text [here](../../LICENSE)."
     ]
    }
   ],
   "metadata": {}
  }
 ]
}