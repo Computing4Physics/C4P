{
 "metadata": {
  "name": "",
  "signature": "sha256:a979e3610f4fd77f1e5f63156449cb89f50b2cb11802121c5cde9977495d4525"
 },
 "nbformat": 3,
 "nbformat_minor": 0,
 "worksheets": [
  {
   "cells": [
    {
     "cell_type": "heading",
     "level": 1,
     "metadata": {},
     "source": [
      "<img src=\"../../C4PLogo.png\" width=300 style=\"display: inline;\"> Strings and String Manipulation Exercises"
     ]
    },
    {
     "cell_type": "markdown",
     "metadata": {},
     "source": [
      "These exercises have not yet been developed."
     ]
    },
    {
     "cell_type": "markdown",
     "metadata": {},
     "source": [
      "---\n",
      "\n",
      "**Instructions:** Create a new notebook called `StringsExercises` in your `Strings` directory and solve the following problems inside it. Be sure to include the problem statements in a markdown cell above your solution. You don't need to put the \"helper\" code in the markdown cell, just implement the helper code in your code cell with your solution."
     ]
    },
    {
     "cell_type": "markdown",
     "metadata": {},
     "source": [
      "**Preliminaries:** At the top of your notebook, include a \"Heading 1\" cell with the title **Strings and String Manipulation Exercises**.  Then include the inline functions and libraries by adding a code cell that invokes the `%pylab inline` magic and imports the needed packages.\n",
      "\n",
      "---"
     ]
    },
    {
     "cell_type": "heading",
     "level": 2,
     "metadata": {},
     "source": [
      "Question 1"
     ]
    },
    {
     "cell_type": "markdown",
     "metadata": {},
     "source": [
      "**(a)** Not yet developed."
     ]
    },
    {
     "cell_type": "code",
     "collapsed": false,
     "input": [
      "#Copy the exercise statement to a markdown cell in your notebook and then implement a solution in a code cell"
     ],
     "language": "python",
     "metadata": {},
     "outputs": [],
     "prompt_number": 1
    },
    {
     "cell_type": "markdown",
     "metadata": {},
     "source": [
      "**(b)** Not yet developed."
     ]
    },
    {
     "cell_type": "code",
     "collapsed": false,
     "input": [
      "#Copy the exercise statement to a markdown cell in your notebook and then implement a solution in a code cell"
     ],
     "language": "python",
     "metadata": {},
     "outputs": [],
     "prompt_number": 2
    },
    {
     "cell_type": "markdown",
     "metadata": {},
     "source": [
      "---"
     ]
    },
    {
     "cell_type": "markdown",
     "metadata": {},
     "source": [
      "<img src=\"../../C4PLogo.png\" width=200 style=\"display: inline;\"> All content is under a modified MIT License, and can be freely used and adapted.  See the full license text [here](../../LICENSE)."
     ]
    }
   ],
   "metadata": {}
  }
 ]
}