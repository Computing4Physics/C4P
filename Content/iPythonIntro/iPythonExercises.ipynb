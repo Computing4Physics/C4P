{
 "metadata": {
  "name": "",
  "signature": "sha256:92303a55d6e685c1cd02800ad766a387cebcc9f99da3ea120791ae7de9532e7c"
 },
 "nbformat": 3,
 "nbformat_minor": 0,
 "worksheets": [
  {
   "cells": [
    {
     "cell_type": "heading",
     "level": 1,
     "metadata": {},
     "source": [
      "<img src=\"../../C4PLogo.png\" width=300 style=\"display: inline;\"> iPython Notebook Exercises"
     ]
    },
    {
     "cell_type": "markdown",
     "metadata": {},
     "source": [
      "---"
     ]
    },
    {
     "cell_type": "heading",
     "level": 2,
     "metadata": {},
     "source": [
      "Instructions:"
     ]
    },
    {
     "cell_type": "markdown",
     "metadata": {},
     "source": [
      "1. Create a new directory called `ProjectEuler`.\n",
      "2. Start an iPython notebook session.\n",
      "3. Open a new notebook and name it `ProjectEuler1`. \n",
      "4. At the top of your notebook, include a \"Heading 1\" cell with the title **Project Euler Problem 1**.\n",
      "5. Below that, add a markdown cell with the problem title and statement from [Project Euler Problem 1](http://projecteuler.net/problems/1) in it.\n",
      "6. Find a partner.  One of you will act as driver, the other as navigator.  Include a markdown cell with the names of the driver and navigator in it.\n",
      "7. Solve the [Project Euler Problem 1](http://projecteuler.net/problems/1) *test case* together in one code cell.  Verify that you get the answer included in the problem statement by printing the result.\n",
      "8. In a new code cell, use your solution to answer the question in the problem statement.\n",
      "9. Repeat steps 1-8 for the other person, swapping roles of driver and navigator.\n",
      "10. Save your notebook.\n",
      "11. Practice your workflow:\n",
      "   * `git status`\n",
      "   * `git add ProjectEuler1.ipynb`\n",
      "   * `git status`\n",
      "   * `git commit -m \"solving first project euler problem\"`\n",
      "   * `git status`\n",
      "   * `git push origin master`\n",
      "   * `git status`"
     ]
    },
    {
     "cell_type": "markdown",
     "metadata": {},
     "source": [
      "---"
     ]
    },
    {
     "cell_type": "markdown",
     "metadata": {},
     "source": [
      "**Note:** All subsequent Project Euler problems should be completed in the same manner, with \n",
      "* the problem title and statement included in markdown/heading cells\n",
      "* the solution for the test case (if any) in one code cell\n",
      "* the solution for the requested problem in another code cell"
     ]
    },
    {
     "cell_type": "markdown",
     "metadata": {},
     "source": [
      "---"
     ]
    },
    {
     "cell_type": "markdown",
     "metadata": {},
     "source": [
      "<img src=\"../../C4PLogo.png\" width=200 style=\"display: inline;\"> All content is under a modified MIT License, and can be freely used and adapted.  See the full license text [here](../../LICENSE)."
     ]
    }
   ],
   "metadata": {}
  }
 ]
}