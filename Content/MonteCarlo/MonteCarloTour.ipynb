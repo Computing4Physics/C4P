{
 "metadata": {
  "name": "",
  "signature": "sha256:0e07a769096f184d52b8622d9ae9a41a509a6c8a790984f6e2abcb6d3f188103"
 },
 "nbformat": 3,
 "nbformat_minor": 0,
 "worksheets": [
  {
   "cells": [
    {
     "cell_type": "heading",
     "level": 1,
     "metadata": {},
     "source": [
      "<img src=\"../../C4PLogo.png\" width=300 style=\"display: inline;\"> Monte Carlo Sampling and Simulation"
     ]
    },
    {
     "cell_type": "markdown",
     "metadata": {},
     "source": [
      "This lesson was developed using materials from the [Computational Physics](http://www-personal.umich.edu/~mejn/cp/) book by Mark Newman at University of Michigan and materials prepared by [Matt Moelter](http://physics.calpoly.edu/node/88) and [Jodi Christiansen](http://physics.calpoly.edu/node/70) for PHYS 202 at [Cal Poly](http://physics.calpoly.edu)."
     ]
    },
    {
     "cell_type": "markdown",
     "metadata": {},
     "source": [
      "---\n",
      "\n",
      "**Instructions:** Create a new directory called `MonteCarlo` with a notebook called `MonteCarloTour`.  Give it a heading 1 cell title **Monte Carlo Sampling and Simulation**.  Read this page, typing in the code in the code cells and executing them as you go."
     ]
    },
    {
     "cell_type": "markdown",
     "metadata": {},
     "source": [
      "\n",
      "<font color=\"red\"><b>Do not copy/paste</b>.  \n",
      "\n",
      "Type the commands yourself to get the practice doing it.  This will also slow you down so you can think about the commands and what they are doing as you type them.</font>\n",
      "\n",
      "Save your notebook when you are done, then try the accompanying exercises.\n"
     ]
    },
    {
     "cell_type": "markdown",
     "metadata": {},
     "source": [
      "---"
     ]
    },
    {
     "cell_type": "code",
     "collapsed": false,
     "input": [
      "%pylab inline\n",
      "import numpy as np\n",
      "import matplotlib.pyplot as plot"
     ],
     "language": "python",
     "metadata": {},
     "outputs": []
    },
    {
     "cell_type": "heading",
     "level": 2,
     "metadata": {},
     "source": [
      "Monte Carlo Sampling"
     ]
    },
    {
     "cell_type": "markdown",
     "metadata": {},
     "source": [
      "We've seen how to produce statistically random numbers distributed uniformly over some interval, but what if we wanted to increase the number of samples in a particular region of $x$?  What if we wanted the probability to be distributed according to some function, $f(x)$?  The probability of getting a particular value $x_i$ should depend on the value of $f(x_i)$.  We have two primary ways to go about this:\n",
      "\n",
      "1. Rejection Sampling\n",
      "2. Inverse CDF Transform Method\n",
      "\n",
      "Rejection Sampling is similar to what we did when we learned about \"Hit or Miss\" Monte Carlo integration.  As a reminder, the crux of it for one-dimensional functions is that we (1) generated a pair of random numbers $(x_i,y_i)$ within a box around our function, $f(x)$, then (2) checked to see whether the value of $y_i$ was greater than or less than the value $f(x_i)$.  If $y_i$ was less than $f(x_i)$ we kept the values $(x_i,y_i)$ and if $y_i$ was greater than $f(x_i)$ we threw them out.  Over many iterations, $N$, we \"filled in\" the area defined by the function, which allowed us to compute the integral numerically by multiplying the area of the box times the ratio of the number of hits to (hits+misses).\n",
      "\n",
      "<img src=\"MCIntegration.png\" width=400>\n",
      "\n",
      "Rejection sampling works the same way, only instead of computing the integral, we use the $x_i$ samples as a discrete approximation of the original function.  Here is a histogram of the number of times a particular value of $x_i$ was selected (\"hits\") using rejection sampling for the function in the previous figure, normalized and plotted with the original function.\n",
      "\n",
      "<img src=\"MCSampling.png\" width=400>\n",
      "\n",
      "We could apply this method with any function to be able to sample randomly from it, but there are some drawbacks.  This is a somewhat inefficient method, since we must generate *two* random numbers for every possible sample point *and* we reject many of the samples.  In this example, a large fraction of the area of the box lies above the function boundary.  There are ways to redefine the shape of the box to better match the shape of the function, but these methods can get complicated.\n",
      "\n",
      "John von Neumann (1903-1957), the eminent mathematician, devised an efficient and elegant method to circumvent the rejections. This consists of formulating the cumulative distribution function (CDF) $F(x)$ for our function $f(x)$, inverting the CDF to get $F^{-1} = x(F)$, sampling numbers $z$ from the uniform distribution U[0,1] and using the inverse to find $x=F^{-1}(z)$.  That's a mouthful.  Let's break it down."
     ]
    },
    {
     "cell_type": "heading",
     "level": 2,
     "metadata": {},
     "source": [
      "Cumulative Distribution Function (CDF)"
     ]
    },
    {
     "cell_type": "markdown",
     "metadata": {},
     "source": [
      "CDF sounds horrible, but it is really pretty straightforward.  It is just the fraction of the probability distribution for a function $f(x)$ that lies below a particular value $x_i$ - the running integrated probability.  $F(x)$ ranges from 0 at the lower bound of the function's range to 1 at the upper bound.  It can be computed analytically if a function can be integrated analytically, or numerically otherwise.  Here is an analytic example:\n"
     ]
    },
    {
     "cell_type": "heading",
     "level": 3,
     "metadata": {},
     "source": [
      "Analytic Inverse CDF Transform"
     ]
    },
    {
     "cell_type": "markdown",
     "metadata": {},
     "source": [
      "Consider the function\n",
      "\n",
      "$$f(x) = \\begin{cases} \\sin(x)/2 & 0 \\le x \\le \\pi \\\\\\\\ 0 & \\text{otherwise} \\end{cases}$$\n",
      "\n",
      "The cumulative distribution function F(x) in this case is just the integral of $f(x)$ below the bound:\n",
      "\n",
      "$$F(x) = \\int_{-\\infty}^x f(t)dt = \\begin{cases} 0 & x \\lt 0 \\\\\\\\ (\\cos(0)-\\cos(x))/2 & 0 \\le x \\le \\pi \\\\\\\\ 1 & x \\gt \\pi \\end{cases}$$\n"
     ]
    },
    {
     "cell_type": "markdown",
     "metadata": {},
     "source": [
      "Let's plot them together."
     ]
    },
    {
     "cell_type": "code",
     "collapsed": false,
     "input": [
      "x = np.arange(0.,np.pi+0.001,0.01)\n",
      "f = lambda x: np.sin(x)/2.\n",
      "F = lambda x: (np.cos(0)-np.cos(x))/2.\n",
      "\n",
      "plt.plot(x,f(x),label='True distribution',lw=3)\n",
      "plt.plot(x,F(x),label='Cumulative function',lw=3)\n",
      "\n",
      "plt.xlim(0,3.5)\n",
      "plt.ylim(0,1.1)\n",
      "\n",
      "plt.legend(loc=0)\n",
      "plt.show()"
     ],
     "language": "python",
     "metadata": {},
     "outputs": []
    },
    {
     "cell_type": "markdown",
     "metadata": {},
     "source": [
      "The CDF represents the probability for a value of $x_i$ to lie below a given point $x_0$ within the bounds of the function.  In this case, where the distribution is symmetric about $\\pi/2$, we would expect half of the values we generate to lie below $x_0$ = $\\pi/2$.  The value of the CDF at $\\pi/2$ should be 0.5, as  you can see from the figure that it is.  The full distribution lies below $x_0 = \\pi$, so the probability of obtaining a value for $x_i$ that is less than $\\pi$ should be 100%, again as the plot of the CDF shows.  To see what this means, run the `interact` object below and observe how the plot changes as we increase the $x_0$-value."
     ]
    },
    {
     "cell_type": "code",
     "collapsed": false,
     "input": [
      "from IPython.html.widgets import interact, interactive\n",
      "from scipy.integrate import trapz,cumtrapz"
     ],
     "language": "python",
     "metadata": {},
     "outputs": []
    },
    {
     "cell_type": "code",
     "collapsed": false,
     "input": [
      "def cdf_viewer(xmax = 0.95):\n",
      "\n",
      "    #Plot the full function first\n",
      "    x = np.arange(0.,np.pi+0.001,0.01)\n",
      "    f = lambda x: np.sin(x)/2.\n",
      "    plt.plot(x,f(x),label='True distribution',lw=3)\n",
      "\n",
      "    #Now show the CDF up to the xmax limit\n",
      "    xcdf = np.arange(0.,xmax+0.001,0.01)\n",
      "    F = lambda x: (np.cos(0)-np.cos(x))/2.\n",
      "    plt.plot(xcdf,F(xcdf),label='Cumulative function',lw=3)\n",
      "\n",
      "    plt.plot((xmax,xmax),(0.,f(xmax)),\"b--\")\n",
      "    plt.fill_between(xcdf,0.,f(xcdf),alpha=0.1)\n",
      "    \n",
      "    #Use trapz with the true distribution as a comparison, but only integrate\n",
      "    #up to xmax\n",
      "    total = trapz(f(x),x)\n",
      "    area = trapz(f(xcdf),xcdf)\n",
      "    frac = area/total\n",
      "    \n",
      "    plt.text(2.0,0.6,\"CDF value = %.3f\"%F(xmax),fontsize=12)\n",
      "    plt.text(2.0,0.5,\"Shaded area = %.3f\"%frac,fontsize=12)\n",
      "    \n",
      "    plt.xlim(0,3.5)\n",
      "    plt.ylim(0,1.1)\n",
      "\n",
      "    plt.legend(loc=\"upper left\")\n",
      "    plt.show()\n",
      "\n",
      "\n",
      "v = interact(cdf_viewer,xmax=(0.,np.pi,0.01))"
     ],
     "language": "python",
     "metadata": {},
     "outputs": []
    },
    {
     "cell_type": "markdown",
     "metadata": {},
     "source": [
      "The endpoint of the CDF represents the fraction of the total area under the curve up to that point - the shaded region.  The farther in $x$ we go, the more area accumulated, until we reach the total of 1 at the end of the distribution."
     ]
    },
    {
     "cell_type": "markdown",
     "metadata": {},
     "source": [
      "To produce a set of samples that has the same probability distribution as f(x), generate $N$ uniform samples, $z_i$, on U[0,1].  For each sample, $z_i$, compute $x_i = F^{-1}(z_i)$.  \n",
      "\n",
      "Inverting the CDF to solve for $F^{-1}(z)$ gives\n",
      "\n",
      "$$x_i = F^{-1}(z_i) = \\cos^{-1}(\\cos(0) - 2z_i)$$\n",
      "\n",
      "Now let's implement that and plot the result:"
     ]
    },
    {
     "cell_type": "code",
     "collapsed": false,
     "input": [
      "#number of samples\n",
      "N = 10000\n",
      "\n",
      "#N random numbers between 0 and 1\n",
      "z = np.random.random_sample(N);\n",
      "\n",
      "#inverse CDF\n",
      "Finv = lambda z: np.arccos(np.cos(0)-2*z)\n",
      "\n",
      "#sampled x values    \n",
      "xsamples = Finv(z);\n",
      "\n",
      "#how do they compare to the original?\n",
      "plt.hist(xsamples,50,normed=True,label=\"Sampled distribution\")\n",
      "plt.plot(x,f(x),label='True distribution',lw=3,color='red')\n",
      "\n",
      "plt.xlim(0,pi)\n",
      "plt.ylim(0,0.71)\n",
      "\n",
      "plt.legend(loc=0)\n",
      "plt.show()"
     ],
     "language": "python",
     "metadata": {},
     "outputs": []
    },
    {
     "cell_type": "markdown",
     "metadata": {},
     "source": [
      "The samples have the same shape as the original function!\n",
      "\n",
      "The power of this method is that we only had to generate *one* random number $z_i$ for every sample $x_i$, and there are no rejections."
     ]
    },
    {
     "cell_type": "heading",
     "level": 3,
     "metadata": {},
     "source": [
      "Exponential sampling"
     ]
    },
    {
     "cell_type": "markdown",
     "metadata": {},
     "source": [
      "Here is another analytic example:\n",
      "    \n",
      "Consider the density function  \n",
      "\n",
      "$$f(x) = \\begin{cases} \\lambda  e^{-\\lambda x} & 0 \\le x \\le \\infty \\\\\\\\ 0 & \\text{otherwise}\\end{cases}$$\n",
      "\n",
      "The CDF $F(x)$ for this function is\n",
      "\n",
      "$$ F(x) = 1-e^{-\\lambda x} $$\n",
      "\n",
      "and its inverse is given by\n",
      "\n",
      "$$ F^{-1}(z) = -\\ln(1-z)/\\lambda $$\n",
      "\n",
      "We can compute the function and CDF over the range $0 \\le x \\le 5$, with $\\lambda$ = 1 and then generate 10,000 samples according to the distribution of $f(x)$."
     ]
    },
    {
     "cell_type": "code",
     "collapsed": false,
     "input": [
      "#Set up the functions and plot\n",
      "x = np.arange(0.,10.01,0.01)\n",
      "lam = 1\n",
      "\n",
      "f = lambda x: lam*exp(-lam*x)\n",
      "F = lambda x: 1-exp(-lam*x)\n",
      "Finv = lambda z: -log(1-z)/lam\n",
      "\n",
      "plt.plot(x, f(x),label=r'$f(x)=\\lambda e^{-\\lambda x}$')\n",
      "plt.plot(x, F(x), linewidth=5, label=r'$F(x)=1-e^{-\\lambda x}$')\n",
      "plt.ylim(0,1.5)\n",
      "plt.xlim(0,5.)\n",
      "plt.xlabel(r\"$x$\",fontsize = 20)\n",
      "plt.ylabel(r'$f(x),F(x)$',fontsize=20)\n",
      "plt.legend(loc=\"upper left\",fontsize=15)\n",
      "plt.show()"
     ],
     "language": "python",
     "metadata": {},
     "outputs": []
    },
    {
     "cell_type": "code",
     "collapsed": false,
     "input": [
      "#Generate the sampled distribution\n",
      "N = 10000\n",
      "z = numpy.random.random_sample(N)\n",
      "\n",
      "xsamples = Finv(z)\n",
      "\n",
      "plt.figure(1,(10,10))\n",
      "plt.subplot(2,1,1)\n",
      "plt.hist(xsamples, 50, normed=True, label=\"Sampled Distribution\")\n",
      "plt.plot(x, f(x), label=\"True Distribution\", lw=3, color='red')\n",
      "plt.xlabel(r\"$x$\",fontsize = 20)\n",
      "plt.ylabel(r'$f(x) = \\lambda e^{-\\lambda x}$',fontsize=20)\n",
      "plt.legend(loc='best')\n",
      "\n",
      "#Zoom in on the tail\n",
      "plt.subplot(2,1,2)\n",
      "plt.semilogy(x, f(x), label=\"True Distribution\", lw=3, color='red')\n",
      "n, b, p = plt.hist(xsamples, 50, normed=True, label=\"Sampled Distribution\")\n",
      "plt.xlabel(r\"$x$\",fontsize = 20)\n",
      "plt.ylabel(r'$f(x) = \\lambda e^{-\\lambda x}$',fontsize=20)\n",
      "plt.legend(loc='best')\n",
      "plt.show()"
     ],
     "language": "python",
     "metadata": {},
     "outputs": []
    },
    {
     "cell_type": "heading",
     "level": 3,
     "metadata": {},
     "source": [
      "Numerical Inverse CDF Transform"
     ]
    },
    {
     "cell_type": "markdown",
     "metadata": {},
     "source": [
      "It turns out that the function we wish to sample from need not be analytically solvable for $F(x)$ and $F^{-1}$.  We can also determine the CDF and its inverse numerically and then obtain sampled values from that numerical inverse.  In some ways it is actually conceptually simpler.  The steps of the algorithm are as follows: \n",
      "\n",
      "1. Define the numerical array that describes the distribution\n",
      "\n",
      "2. Compute the CDF as an array numerically using the cumulative sum of the distribution array and normalizing each element by the integral(sum) of the distribution.\n",
      "\n",
      "3. Generate an array of uniform random values $z$ on the interval U[0,1]\n",
      "\n",
      "4. Find the index of the value in the CDF array that corresponds to a particular $z_i$.\n",
      "\n",
      "5. Use the array index of the CDF value from the previous step to determine the sampled $x_i$ value for that $z_i$ value.\n"
     ]
    },
    {
     "cell_type": "markdown",
     "metadata": {},
     "source": [
      "Let's try this out for the exponential function, $f(x) = \\lambda e^{-\\lambda x}$, with $\\lambda$ = 1.  We can use NumPy's `cumsum` (or `scipy.integrate.cumtrapz`) and `searchsorted` to implement these steps."
     ]
    },
    {
     "cell_type": "code",
     "collapsed": false,
     "input": [
      "#create the arrays (not functions)\n",
      "x = np.arange(0.,5.,0.002)\n",
      "f = e**(-x)\n",
      "\n",
      "#This is an array between 0 and 1 (because of the normalization f.sum())\n",
      "#with the values determined by the original function\n",
      "CDF = np.cumsum(f)/f.sum()\n",
      "\n",
      "#Get a random number r between 0 and 1\n",
      "r = np.random.uniform()\n",
      "print \"Random number = \",r\n",
      "\n",
      "#Find where in the CDF array this r falls and return the x value at that location in the x array\n",
      "xloc = x[CDF.searchsorted(r)]\n",
      "print \"x location = \",xloc\n",
      "\n",
      "#Now do it 10000 times\n",
      "N = 10000\n",
      "xsamples = np.zeros(N,float)\n",
      "for i in range(N):\n",
      "    rr = np.random.uniform()\n",
      "    xsamples[i] = x[CDF.searchsorted(rr)]\n",
      "\n",
      "#Make a histogram of the xsamples and compare to the original function\n",
      "plt.plot(x,f,label='True distribution',lw=3,color='red')\n",
      "plt.plot(x,CDF,label=\"Cumulative distribution\",lw=3,color='green')\n",
      "plt.hist(xsamples,bins=100,normed=True,label=\"Sampled distribution\",alpha=0.5)\n",
      "\n",
      "#Plot the example point\n",
      "plt.plot(xloc,r,'g*',markersize=10)\n",
      "plt.plot((xloc,xloc),(0.,r),\"k--\",(0.,xloc),(r,r),\"k--\")\n",
      "\n",
      "plt.ylim(0,1.5)\n",
      "plt.xlim(0,5.)\n",
      "plt.legend()\n",
      "\n",
      "plt.show()\n"
     ],
     "language": "python",
     "metadata": {},
     "outputs": []
    },
    {
     "cell_type": "markdown",
     "metadata": {},
     "source": [
      "Run it a few times until you can see the example point clearly.  The important conclusion is that we can now create a set of sampled x values whose frequency matches the shape of any arbitrary function."
     ]
    },
    {
     "cell_type": "heading",
     "level": 3,
     "metadata": {},
     "source": [
      "Built-in distribution functions"
     ]
    },
    {
     "cell_type": "markdown",
     "metadata": {},
     "source": [
      "If you look at the help for the `numpy.random` module, you will see that there is a set of standard built-in distributions that you can sample from.  These use methods such as the Inverse CDF Transform with exact solutions where possible, and other more advanced techniques when necessary, to produce statistically safe samples.  Whenever you can, use the built-in functions.  When a particular function is not available, you can use this technique.  The numerical method can also be adapted to more than one-dimension, or rejection sampling can be used in those cases."
     ]
    },
    {
     "cell_type": "markdown",
     "metadata": {},
     "source": [
      "---"
     ]
    },
    {
     "cell_type": "heading",
     "level": 2,
     "metadata": {},
     "source": [
      "Monte Carlo Simulation"
     ]
    },
    {
     "cell_type": "markdown",
     "metadata": {},
     "source": [
      "There are many areas of physics where it is useful to simulate a phenomenon before we conduct an experiment, to help guide the experimental design and procedure.  There are also cases where we use simulations of an experiment after the fact to correct for any instrumental biases.  \n",
      "\n",
      "For example, in high energy particle and nuclear collisions, we need to know how well our detectors \"see\" the particles produced in the collisions so we can optimize their design to catch as many as possible.  We can use Monte Carlo sampling to simulate the stochastic nature of the interaction of particles with matter to model the \"response\" of our detector to particles of a known type and energy.  The input to the simulation represents the \"true\" distribution of particles, while the output corresponds to an estimate of the \"observed\" distribution of particles, assuming that we have accurately characterized the physics of the interactions in our simulation.  The ratio of input to output can be used as a correction factor to estimate the \"true\" distribution of particles from the \"observed\" distribution in a real experiment.  Obviously, reliable simulations are essential to producing good results.\n",
      "\n",
      "The [GEANT4](http://www.geant4.org/geant4/) package, written in C++, and its Fortran 77 precursor GEANT3, are toolkits for simulating the passage of particles through matter.  The simulations use Monte Carlo sampling to approximate the inherently stochastic processes that govern particle interactions.  All of the LHC experiments and many other high energy particle and nuclear physics experiments rely on it.  The physics in the package has been tested repeatedly against benchmark experimental data to validate its output.  It is a complex program that can be daunting when you first start using it, so many concrete examples are provided with the software to show how it can be used in different contexts.  Assessing radiation damage and the interaction of particle beams with human tissue for medical applications are two notable examples.  \n",
      "\n",
      "Don't worry, we won't be learning GEANT4 in this class, but I present it as a classic example of a Monte Carlo sampling simulator that is in common use.  For our purposes, a simple example from your introductory Modern Physics course will be more instructive."
     ]
    },
    {
     "cell_type": "heading",
     "level": 2,
     "metadata": {},
     "source": [
      "Example: Quantum Double-slit"
     ]
    },
    {
     "cell_type": "markdown",
     "metadata": {},
     "source": [
      "Let\u2019s consider the double-slit experiment as an example of the Monte Carlo simulation technique.  In the lab, we relate the intensity of the observed beam (either photons or electrons) to the sum of the two waves, one from each slit.  Each slit gives us a diffraction pattern,\n",
      "\n",
      "$$ \n",
      "I_{SS_{diffraction}} = \\text{sinc}^2(a x / \\lambda L)\n",
      "$$\n",
      "\n",
      "where $\\text{sinc}(x) = \\sin(\\pi x)/(\\pi x)$ is the [normalized sinc function](http://en.wikipedia.org/wiki/Sinc_function).\n",
      "\n",
      "The double slit, however, is not just the sum of the two single slits, but rather includes an interference term,\n",
      "\n",
      "$$\n",
      "I_{DS_{interference}} = \\cos^2(2\\pi d x/\\lambda L)\n",
      "$$ \n",
      "\n",
      "due to the wave-nature of the photons or electrons. \n",
      "\n",
      "The observed intensity includes both the probability that the diffraction and interference are appreciable.\n",
      "\n",
      "$$\n",
      "I_{DS_{total}} = I_{SS_{diffraction}} * I_{DS_{interference}}\n",
      "$$"
     ]
    },
    {
     "cell_type": "markdown",
     "metadata": {},
     "source": [
      "\n",
      "\n",
      "<table>\n",
      "<tr>\n",
      "<td>\n",
      "Here is a diagram to illustrate the concept and define the variables.\n",
      "<img src = \"QuantumDoubleSlit.png\" width = 400>\n",
      "</td>\n",
      "<td>The intensity on the screen will look something like this:\n",
      "<img src = \"DSIntensity.png\" width = 600></td>\n",
      "</tr>\n",
      "</table>"
     ]
    },
    {
     "cell_type": "markdown",
     "metadata": {},
     "source": [
      "Now, let\u2019s do the quantum mechanics problem.  What if we let just one photon or electron pass through the slit at a time?   What would we see on the screen?  \n",
      "\n",
      "Instead of seeing the addition of waves, we\u2019d see the location of the *individual* photon or electron.   Because $E = h\\nu$, the intensity plotted above is also the un-normalized probability distribution of finding a photon or electron at any single location.  \n",
      "\n",
      "To simulate this experiment, we\u2019ll define the experimental parameters, create the probability distribution,  and then throw random numbers to distribute photons based on their probability.  To make it awesome, we'll set the parameters up as an interactive widget so we can explore the system in detail.\n",
      "\n",
      "Let the initial distance between the slits $d$ = 15 $\\mu$m and the slit width $a$ = 10 $\\mu$m.  The screen is 1 m from the plate with the slits.  We will use a He-Neon laser with wavelength $\\lambda$ = 632.8 nm.  The screen size is (0.2 $\\times$ 0.2) m.\n",
      "\n",
      "We can set up the probability distribution for this situation and use the inverse CDF transform technique to generate $N$ photons in the range (0,10000).\n",
      "\n",
      "Before we create the `interact`, let's repackage our numerical inverse CDF transform as a re-usable function called `distribute1d`:"
     ]
    },
    {
     "cell_type": "code",
     "collapsed": false,
     "input": [
      "def distribute1D(x,prob,N):\n",
      "    \"\"\"takes any distribution which is directly proportional \n",
      "    to the number of particles, and returns data that is \n",
      "    statistically the same as the input data.\"\"\"\n",
      "    CDF = cumtrapz(prob)/np.sum(prob)\n",
      "    xsamples = np.zeros(N,float)\n",
      "    for i in range(0,N):\n",
      "        r = np.random.ranf()\n",
      "        xsamples[i] = x[CDF.searchsorted(r)]\n",
      "    return xsamples"
     ],
     "language": "python",
     "metadata": {},
     "outputs": []
    },
    {
     "cell_type": "markdown",
     "metadata": {},
     "source": [
      "Now define the `double_slit` function and make it interactive:"
     ]
    },
    {
     "cell_type": "code",
     "collapsed": false,
     "input": [
      "#Quantum double-slit\n",
      "#define the experimental parameters\n",
      "#d = 15.  # (micron) dist. between slits\n",
      "#a = 10.  # (micron) slit width. \n",
      "#L = 1.   # (m) dist. from slit to screen\n",
      "#lam = 632.8  # (nm) He-Neon laser\n",
      "\n",
      "def double_slit(d=15.,a=10.,L=3.,lam=632.8,N=0):\n",
      "\n",
      "    #convert d and a in microns to meters\n",
      "    dm = d*1.e-6\n",
      "    am = a*1.e-6\n",
      "\n",
      "    #convert wavelength from nm to m\n",
      "    wave=lam*1.e-9\n",
      "\n",
      "    # create the probability distribution\n",
      "    x = np.linspace(-0.2,0.2,10000)    \n",
      "    #Isingle = np.sin(np.pi*am*x/wave/L)**2./(np.pi*am*x/wave/L)**2\n",
      "    Isingle = np.sinc(am*x/wave/L)**2.\n",
      "    Idouble = (np.cos(2*np.pi*dm*x/wave/L)**2)\n",
      "    Itot = Isingle*Idouble\n",
      "\n",
      "    #generate the random photon locations on the screen\n",
      "    #x according to the intensity distribution\n",
      "    xsamples = distribute1D(x,Itot,N)\n",
      "    #y randomly over the full screen height\n",
      "    ysamples = -0.2 + 0.4*np.random.ranf(N)\n",
      "    \n",
      "    #Make subplot of the intensity and the screen distribution\n",
      "    fig = plt.figure(1,(10,6))\n",
      "    plt.subplot(2,1,1)\n",
      "    plt.plot(x,Itot)\n",
      "    plt.xlim(-0.2,0.2)\n",
      "    plt.ylim(0.,1.2)\n",
      "    plt.ylabel(\"Intensity\",fontsize=20)\n",
      "\n",
      "    plt.subplot(2,1,2)\n",
      "    plt.xlim(-0.2,0.2)\n",
      "    plt.ylim(-0.2,0.2)\n",
      "    plt.scatter(xsamples,ysamples)\n",
      "    plt.xlabel(\"x (m)\",fontsize=20)\n",
      "    plt.ylabel(\"y (m)\",fontsize=20)\n",
      "\n",
      "v5 = interact(double_slit,d=(1.,20.,1.), a=(5,50.,1.), L=(1.0,3.0),\n",
      "                 lam=(435.,700.),N=(0,10000))"
     ],
     "language": "python",
     "metadata": {},
     "outputs": []
    },
    {
     "cell_type": "markdown",
     "metadata": {},
     "source": [
      "Observe how the interference pattern builds up as more photons are added.  Does it evolve like you'd expect?  What effect does varying each of the parameters have on the shape of the distributions?"
     ]
    },
    {
     "cell_type": "markdown",
     "metadata": {},
     "source": [
      "---"
     ]
    },
    {
     "cell_type": "markdown",
     "metadata": {},
     "source": [
      "<img src=\"../../C4PLogo.png\" width=200 style=\"display: inline;\"> All content is under a modified MIT License, and can be freely used and adapted.  See the full license text [here](../../LICENSE)."
     ]
    }
   ],
   "metadata": {}
  }
 ]
}