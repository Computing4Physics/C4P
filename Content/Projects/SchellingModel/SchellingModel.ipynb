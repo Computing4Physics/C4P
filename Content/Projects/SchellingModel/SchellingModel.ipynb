{
 "metadata": {
  "name": "",
  "signature": "sha256:f764d0c5420c89982b649029c11315f76066ae882d65c44511c5d7f37c50c956"
 },
 "nbformat": 3,
 "nbformat_minor": 0,
 "worksheets": [
  {
   "cells": [
    {
     "cell_type": "heading",
     "level": 1,
     "metadata": {},
     "source": [
      "<img src=\"../../../C4PLogo.png\" width=300 style=\"display: inline;\"> Statistical physics of the Schelling Model of Segregation"
     ]
    },
    {
     "cell_type": "markdown",
     "metadata": {},
     "source": [
      "Based on [Frank McCown's NIFTY assignment](http://nifty.stanford.edu/2014/mccown-schelling-model-segregation/) and these three papers on the connection with physics:\n",
      "\n",
      "[http://www.pnas.org/content/103/51/19261.full](http://www.pnas.org/content/103/51/19261.full)  \n",
      "[http://arxiv.org/abs/0903.4694](http://arxiv.org/abs/0903.4694)  \n",
      "[http://arxiv.org/abs/0707.1681](http://arxiv.org/abs/0707.1681)"
     ]
    },
    {
     "cell_type": "markdown",
     "metadata": {},
     "source": [
      "---"
     ]
    },
    {
     "cell_type": "heading",
     "level": 2,
     "metadata": {},
     "source": [
      "Overview"
     ]
    },
    {
     "cell_type": "markdown",
     "metadata": {},
     "source": [
      "In 1971, the American economist Thomas Schelling created an agent-based model that might help explain why segregation is so difficult to combat. His model of segregation showed that even when individuals (or \"agents\") didn't mind being surrounded or living by agents of a different race, they would still choose to segregate themselves from other agents over time. Although the model is quite simple, it gives a fascinating look at how individuals might self-segregate, even when they have no explicit desire to do so.\n",
      "\n",
      "The model was formulated in a social science context, but it has direct analogues to physical systems, such as in the mixing of liquids in an emulsion and the self-assembly of crystalline structures on metal surfaces.  Emulsions are immiscible (incapable of mixing) colloidal suspensions of one liquid in another liquid. Emulsions will separate into their individual components if allowed to sit for long enough. Some examples of emulsions include: face creams, soapy water and salad dressings made by shaken oil and vinegar."
     ]
    },
    {
     "cell_type": "heading",
     "level": 2,
     "metadata": {},
     "source": [
      "Schelling's Model"
     ]
    },
    {
     "cell_type": "markdown",
     "metadata": {},
     "source": [
      "Here is a simple variation on Schelling's model. Suppose there are two types of agents: X and O. The two types of agents might represent oil and water droplets in a colloidal suspension.  Two populations of the two agent types are initially placed into random locations of a neighborhood represented by a grid. After placing all the agents in the grid, each cell is either occupied by an agent or is empty as shown below. \n",
      "\n",
      "<img src=\"Schelling1.png\" width=250>"
     ]
    },
    {
     "cell_type": "markdown",
     "metadata": {},
     "source": [
      "Now we must determine if each agent is satisfied with its current location. A satisfied agent is one that is surrounded by at least $t$ percent of agents that are like itself. This threshold $t$ is one that will apply to all agents in the model, even though in the social science example, the \"agents\" might each have a different threshold they are satisfied with. Note that the higher the threshold, the higher the likelihood the agents will not be satisfied with their current location.\n",
      "\n",
      "For example, if $t$ = 30%, agent X is satisfied if at least 30% of its neighbors are also X. If fewer than 30% are X, then the agent is not satisfied, and it will want to change its location in the grid. For the remainder of this explanation, let's assume a threshold $t$ of 30%. This means every agent is fine with being in the minority as long as there are at least 30% of similar agents in adjacent cells."
     ]
    },
    {
     "cell_type": "markdown",
     "metadata": {},
     "source": [
      "The picture below (left) shows a satisfied agent because 50% of X's neighbors are also X (50% > $t$). The next X (right) is not satisfied because only 25% of its neighbors are X (25% < $t$). Notice that in this example empty cells are not counted when calculating similarity.\n",
      "\n",
      "<img src=\"Schelling2.png\" width=600>"
     ]
    },
    {
     "cell_type": "markdown",
     "metadata": {},
     "source": [
      "When an agent is not satisfied, it can be moved to any vacant location in the grid. Any algorithm can be used to choose this new location. For example, a randomly selected cell may be chosen, or the agent could move to the nearest available location."
     ]
    },
    {
     "cell_type": "markdown",
     "metadata": {},
     "source": [
      "In the image below (left), all dissatisfied agents have an asterisk next to them. The image on the right shows the new configuration after all the dissatisfied agents have been moved to unoccupied cells at random. Note that the new configuration may cause some agents who were previously satisfied to become dissatisfied! \n",
      "\n",
      "<img src=\"Schelling3.png\" width = 550>\n"
     ]
    },
    {
     "cell_type": "markdown",
     "metadata": {},
     "source": [
      "One way of proceeding is to force all dissatisfied agents to move in the same round. After the round is complete, a new round begins, and dissatisfied agents are once again moved to new locations in the grid. These rounds continue until all agents in the neighborhood are satisfied with their location."
     ]
    },
    {
     "cell_type": "markdown",
     "metadata": {},
     "source": [
      "Alternatively, the agents can be scheduled to move in a random order, or in an order that sweeps downward along rows of the grid; they can move to the nearest location that will make them satis\ufb01ed or to a random one. \n",
      "\n",
      "There also needs to be a way of handling situations in which an agent is scheduled to\n",
      "move, and there is *no* cell that will make it satisi\ufb01ed. In such a case, the agent can be left\n",
      "where it is, or moved to a completely random cell."
     ]
    },
    {
     "cell_type": "markdown",
     "metadata": {},
     "source": [
      "**Note:** a cell\u2019s neighbors are the cells that touch it, including diagonal contact; thus, a cell that is not on the boundary of the grid has eight neighbors."
     ]
    },
    {
     "cell_type": "heading",
     "level": 2,
     "metadata": {},
     "source": [
      "Program Implementation"
     ]
    },
    {
     "cell_type": "markdown",
     "metadata": {},
     "source": [
      "For this project, you will implement Schelling's model using iPython widgets to create an interactive tool for exploring the properties of the system under different conditions.  Your program should be able to generate time-series data on the evolution of the system (average dissatisfaction, clumping patterns, etc.) that can be analyzed using statistical physics models such as those described in the two papers referenced at the beginning of the project description."
     ]
    },
    {
     "cell_type": "markdown",
     "metadata": {},
     "source": [
      "Once you have a working model, you will receive a set of questions to answer using the model that will form the basis of your demo presentation during the final exam."
     ]
    },
    {
     "cell_type": "markdown",
     "metadata": {},
     "source": [
      "Here are some example questions you could be asked:\n",
      "\n",
      "* Map out how the satisfaction threshold $t$ affects the average satisfaction and amount of \"clumping\" as a function of time.   i.e. How many rounds does it take for a neighborhood to completely sort itself (\"equilibrate\") for a given value of $t$?\n",
      "* What happens when one population is much larger than the other, say 75/25?\n",
      "* What happens if the neighborhood is pre-seeded with clumps of a certain size?"
     ]
    },
    {
     "cell_type": "markdown",
     "metadata": {},
     "source": [
      "Your code should allow for exploring the results when varying the similarity threshold, the population density, the starting relative concentration of agents, the size of the system, etc."
     ]
    },
    {
     "cell_type": "markdown",
     "metadata": {},
     "source": [
      "You will also be asked to produce plots similar to those in the papers and try to reproduce some of the phase transition behavior observed.  Keep this in mind when designing your code.  It should be well-documented and modular enough to allow you to adapt it to different situations."
     ]
    },
    {
     "cell_type": "markdown",
     "metadata": {},
     "source": [
      "**Note:** The exercises we did using ipythonblocks (like Battleship) will come in handy.  Review your code to help you get started. "
     ]
    },
    {
     "cell_type": "markdown",
     "metadata": {},
     "source": [
      "---"
     ]
    },
    {
     "cell_type": "markdown",
     "metadata": {},
     "source": [
      "<img src=\"../../../C4PLogo.png\" width=200 style=\"display: inline;\"> All content is under a modified MIT License, and can be freely used and adapted.  See the full license text [here](../../../LICENSE)."
     ]
    }
   ],
   "metadata": {}
  }
 ]
}