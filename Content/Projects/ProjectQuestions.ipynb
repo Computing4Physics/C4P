{
 "metadata": {
  "name": "",
  "signature": "sha256:12d262d6c495406ed5ac222ecb2f0bc92d2634971d785008f14c9c7bb76a1ee9"
 },
 "nbformat": 3,
 "nbformat_minor": 0,
 "worksheets": [
  {
   "cells": [
    {
     "cell_type": "heading",
     "level": 1,
     "metadata": {},
     "source": [
      "<img src=\"../../C4PLogo.png\" width=300 style=\"display: inline;\"> Project Questions"
     ]
    },
    {
     "cell_type": "markdown",
     "metadata": {},
     "source": [
      "Each student needs something to present for the project demo.  These questions were developed for the 2014 projects and assigned individually."
     ]
    },
    {
     "cell_type": "markdown",
     "metadata": {},
     "source": [
      "---"
     ]
    },
    {
     "cell_type": "heading",
     "level": 2,
     "metadata": {},
     "source": [
      "Schelling Model"
     ]
    },
    {
     "cell_type": "markdown",
     "metadata": {},
     "source": [
      "1.  Map out how the satisfaction threshold $t$ affects the average satisfaction and amount of \"clumping\" as a function of time.\n",
      "   * How many rounds does it take for a neighborhood to completely sort itself (\"equilibrate\") for a given value of $t$ when the population balance is 50/50?  Make a plot of $t$ on the x axis and equilibration time on the y axis.\n",
      "\n",
      "2. What happens when one population is much larger than the other, say 75/25?\n",
      "   * Map out the equilibration time for different thresholds $t$.  Make a plot of $t$ on the x axis and equilibration time on the y axis.\n",
      "   \n",
      "3. What happens if the neighborhood is pre-seeded with clumps of a certain size?\n",
      "   * Set up the starting configuration to have an average clump size that is (20%,30%,40%,50%) the size of the board.  i.e. if your board is 10x10, it has 100 spaces, let one population have clumps of (2x2,3x3,4x4,5x5) neighborhoods and then map the equilibration time as a function of $t$ for each clump size.\n",
      "   \n",
      "4. Reproduce the left-hand column of plots (1 million steps) for the 100x100 non-periodic grid in Figure 4. of http://www.pnas.org/content/103/51/19261.full\n",
      "\n",
      "5. Reproduce Figure 5 of the paper http://arxiv.org/pdf/0903.4694v1.pdf showing the segregation coefficient vs. tolerance parameter for both the raw and renormalized data with vacancy concentration of 50%.\n",
      "\n",
      "6. Reproduce Figure 8 of http://arxiv.org/pdf/0903.4694v1.pdf showing the analogue of the specific heat vs. the tolerance parameter for different vacancy parameters.\n",
      "\n",
      "7. Reproduce Figure A.8 of http://arxiv.org/pdf/0903.4694v1.pdf showing how the distribution of the segregation coefficient evolves with the tolerance parameter for vacancy densities of 44% and 50%.\n",
      "\n",
      "8. Reproduce Figure 1 of http://arxiv.org/pdf/0903.4694v1.pdf showing the time evolution of the system for the specified parameters.  Demonstrate with an animated iPythonblocks and also create a static set of images from the listed timesteps.\n"
     ]
    },
    {
     "cell_type": "markdown",
     "metadata": {},
     "source": [
      "---"
     ]
    },
    {
     "cell_type": "heading",
     "level": 2,
     "metadata": {},
     "source": [
      "Galaxy Mergers"
     ]
    },
    {
     "cell_type": "markdown",
     "metadata": {},
     "source": [
      "1.  Demonstrate with static images and/or animation the direct passage example from the Toomre and Toomre paper.\n",
      "\n",
      "2.  Demonstrate with static images and/or animation the retrograde passage example from the Toomre and Toomre paper.\n",
      "\n",
      "3.  Demonstrate with static images and/or animation the light mass disruptor example from the Toomre and Toomre paper.\n",
      "\n",
      "4.  Demonstrate with static images and/or animation the heavy mass disruptor example from the Toomre and Toomre paper.\n",
      "\n",
      "5.  Demonstrate with static images and/or animation the S2+ configuration from the table in the project description.  This is the direct passage of an equal mass disruptor but the test particles start in an elliptical orbit with the ratio of long to short axis = 2.\n",
      "\n",
      "6.  Demonstrate with static images and/or animation the S2- configuration from the table in the project description.  This is the retrograde passage of an equal mass disruptor but the test particles start in an elliptical orbit with the ratio of long to short axis = 2.\n",
      "\n",
      "7.  Demonstrate with static images and/or animation the S3+ configuration from the table in the project description.  This is the direct passage of a heavy mass disruptor with the test particles starting in an elliptical orbit with the ratio of long to short axis = 4.\n",
      "\n",
      "8. Demonstrate with static images and/or animation the direct passage example from the Toomre and Toomre paper.\n"
     ]
    },
    {
     "cell_type": "markdown",
     "metadata": {},
     "source": [
      "---"
     ]
    },
    {
     "cell_type": "heading",
     "level": 2,
     "metadata": {},
     "source": [
      "Brownian Motion"
     ]
    },
    {
     "cell_type": "markdown",
     "metadata": {},
     "source": [
      "1.  Demonstrate and present $N_A$ for your test data and your collected data.  \n",
      "2.  Demonstrate and present $N_A$ for your test data and your collected data.\n",
      "3.  Demonstrate and present $N_A$ for your test data and your collected data.\n",
      "4.  Demonstrate and present $N_A$ for your test data and your collected data.\n",
      "5.  Demonstrate and present $N_A$ for your test data and your collected data.\n",
      "6.  Demonstrate and present $N_A$ for your test data and your collected data.\n",
      "7.  Demonstrate the complete analysis with all datasets included and the average value and sigma for Avogadro's number."
     ]
    },
    {
     "cell_type": "markdown",
     "metadata": {},
     "source": [
      "---"
     ]
    },
    {
     "cell_type": "markdown",
     "metadata": {},
     "source": [
      "<img src=\"../../C4PLogo.png\" width=200 style=\"display: inline;\"> All content is under a modified MIT License, and can be freely used and adapted.  See the full license text [here](../../LICENSE)."
     ]
    }
   ],
   "metadata": {}
  }
 ]
}