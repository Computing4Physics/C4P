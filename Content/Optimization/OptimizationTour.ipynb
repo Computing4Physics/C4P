{
 "metadata": {
  "name": "",
  "signature": "sha256:fb632c6cc133245c94bd13b01b49df0bdded5120f33336dcbfe2d48bf8b00e0a"
 },
 "nbformat": 3,
 "nbformat_minor": 0,
 "worksheets": [
  {
   "cells": [
    {
     "cell_type": "heading",
     "level": 1,
     "metadata": {},
     "source": [
      "<img src=\"../../C4PLogo.png\" width=300 style=\"display: inline;\"> Linear Regression, Optimization and Curve Fitting"
     ]
    },
    {
     "cell_type": "markdown",
     "metadata": {},
     "source": [
      "Some of this lesson was taken from materials developed by Eric Ayars at CSU Chico for their [Computational Physics Course](http://phys.csuchico.edu/ayars/312/).  He wrote a nice [textbook](http://phys.csuchico.edu/ayars/312/Handouts/comp-phys-python.pdf) using Python.  Appendix C lays out the derivation of least squares fitting that you see here.  Some of the data and examples are from the [SciPy Lecture Notes](http://scipy-lectures.github.io/intro/summary-exercises/optimize-fit.html#summary-exercise-optimize) and materials developed by [Matt Moelter](http://physics.calpoly.edu/node/88) and [Jodi Christiansen](http://physics.calpoly.edu/node/70) for PHYS 202 at [Cal Poly](http://physics.calpoly.edu)."
     ]
    },
    {
     "cell_type": "markdown",
     "metadata": {},
     "source": [
      "---\n",
      "\n",
      "**Instructions:** Create a new directory called `Optimization` with a notebook called `OptimizationTour`.  Give it a heading 1 cell title **Linear Regression, Optimization and Curve Fitting**.  Read this page, typing in the code in the code cells and executing them as you go."
     ]
    },
    {
     "cell_type": "markdown",
     "metadata": {},
     "source": [
      "\n",
      "<font color=\"red\"><b>Do not copy/paste</b>.  \n",
      "\n",
      "Type the commands yourself to get the practice doing it.  This will also slow you down so you can think about the commands and what they are doing as you type them.</font>\n",
      "\n",
      "Save your notebook when you are done, then try the accompanying exercises.\n",
      "\n",
      "---"
     ]
    },
    {
     "cell_type": "code",
     "collapsed": false,
     "input": [
      "%pylab inline\n",
      "import numpy as np\n",
      "import matplotlib.pyplot as plt"
     ],
     "language": "python",
     "metadata": {},
     "outputs": []
    },
    {
     "cell_type": "markdown",
     "metadata": {},
     "source": [
      "---"
     ]
    },
    {
     "cell_type": "heading",
     "level": 2,
     "metadata": {},
     "source": [
      "Linear Regression"
     ]
    },
    {
     "cell_type": "markdown",
     "metadata": {},
     "source": [
      "It is very common in physics \u2014and scientific fields in general\u2014 to have a set of ($x, y$) data points for which we want to know the equation $y(x)$. We usually know the form of $y(x)$ (linear, quadratic, exponential, power, and so on) but we\u2019d like to know the exact parameters in the function."
     ]
    },
    {
     "cell_type": "markdown",
     "metadata": {},
     "source": [
      "The simplest non-trivial case is the linear case, and it turns out that if you solve the linear case you can often solve others with some appropriate algebraic work, so we\u2019ll start with the linear case and work from there."
     ]
    },
    {
     "cell_type": "markdown",
     "metadata": {},
     "source": [
      "Imagine that you have some data such as that shown in the figure. Although there\u2019s noise in the data, it\u2019s clear that the data is linear: $y = mx + b$. The best line through this data would be the line for which the sum of the distances between the line and the data points is a minimum.\n",
      "    \n",
      "As it turns out, though, the distance between the line and the points could be either positive or negative. This means that there are some astonishingly bad lines that would have the same sum of deviations as the \u201cright\u201d line. \n",
      "\n",
      "Taking the sum of the absolute values of the deviations would seem to be better, but the absolute value function causes severe mathematical difficulties when you attempt to take derivatives. The solution to these problems is to minimize the sum of the *squares* of the deviations of the data points from the line.  This technique is thus known as \"Least-squares\" minimization.\n",
      "\n",
      "<img src=\"LinearData.png\" width=800>\n",
      "\n",
      "The figure shows somewhat noisy ($x,y$) data and the ideal line through that data."
     ]
    },
    {
     "cell_type": "markdown",
     "metadata": {},
     "source": [
      "We want to minimize the sum of the deviations of the data points from the line. The line is given by\n",
      "\n",
      "$$y=mx+b$$\n",
      "\n",
      "so the vertical deviation of the $i^{th}$ data point ($x_i,y_i$) from the line is\n",
      "\n",
      "$$ \\delta_i \\equiv y_i - (mx_i + b).$$\n",
      "\n",
      "The sum of the squares of all these deviations is then\n",
      "\n",
      "$$\\chi^2 \\equiv \\sum\\limits_{i=1}^{n}\\delta_i^2 = \\sum\\limits_{i=1}^{n}\\left[y_i^2 - 2mx_iy_i - 2by_i + m^2x_i^2 + 2mbx_i + b^2\\right]$$\n",
      "\n",
      "Note of course that this vertical deviation of a data point from the line is not generally the same as the *perpendicular* distance between the point and the line. An equivalent derivation using the perpendicular distance is considerably more complicated, and gives no significant improvement in results."
     ]
    },
    {
     "cell_type": "markdown",
     "metadata": {},
     "source": [
      "We want to minimize $\\chi^2$, so we take the derivatives of $\\chi^2$ with respect to both m and b and set them equal to zero.\n",
      "\n",
      "$$\\frac{\\partial\\chi^2}{\\partial m} = 0 = -2\\sum\\limits_{i=1}^n x_iy_i + 2m\\sum\\limits_{i=1}^n x_i^2 + 2b\\sum\\limits_{i=1}^n x_i$$\n",
      "\n",
      "$$\\frac{\\partial\\chi^2}{\\partial b} = 0 = -2\\sum\\limits_{i=1}^n y_i + 2m\\sum\\limits_{i=1}^n x_i + 2\\sum\\limits_{i=1}^n b$$\n",
      "\n",
      "To simplify these expressions, let's divide both equations by $n$ and make the following substitutions:\n",
      "\n",
      "$$\n",
      "\\langle x \\rangle \\equiv \\frac{1}{n}\\sum\\limits_{i=1}^n x_i\\\\\n",
      "\\langle y \\rangle \\equiv \\frac{1}{n}\\sum\\limits_{i=1}^n y_i\\\\\n",
      "\\langle x^2 \\rangle \\equiv \\frac{1}{n}\\sum\\limits_{i=1}^n x_i^2\\\\\n",
      "\\langle xy \\rangle \\equiv \\frac{1}{n}\\sum\\limits_{i=1}^n x_iy_i\n",
      "$$\n"
     ]
    },
    {
     "cell_type": "markdown",
     "metadata": {},
     "source": [
      "Rewriting our equations for the derivatives of $\\chi^2$ gives\n",
      "\n",
      "$$m\\langle x^2 \\rangle + b\\langle x \\rangle = \\langle xy \\rangle$$\n",
      "\n",
      "and\n",
      "\n",
      "$$m\\langle x \\rangle + b = \\langle y \\rangle$$\n",
      "\n",
      "Once the averages $\\langle x\\rangle$, $\\langle y\\rangle$, $\\langle xy\\rangle$, and $\\langle x^2\\rangle$ are calculated, these expressions form a system of two equations with two unknowns, $m$ and $b$. These equations can be written in matrix form as\n",
      "\n",
      "$$\\begin{bmatrix}\n",
      "  \\langle x^2 \\rangle & \\langle x \\rangle \\\\\\\\\n",
      "  \\langle x \\rangle & 1\n",
      " \\end{bmatrix}\n",
      " \\begin{bmatrix}\n",
      "   m \\\\\\\\\n",
      "   b\n",
      "\\end{bmatrix}\n",
      " =\n",
      " \\begin{bmatrix}\n",
      "  \\langle xy \\rangle \\\\\\\\\n",
      "  \\langle y \\rangle\n",
      " \\end{bmatrix}\n",
      "$$"
     ]
    },
    {
     "cell_type": "markdown",
     "metadata": {},
     "source": [
      "The solution of this matrix equation is\n",
      "\n",
      "$$\\begin{bmatrix}\n",
      "   m \\\\\\\\\n",
      "   b\n",
      " \\end{bmatrix}\n",
      "  =\n",
      " \\begin{bmatrix}\n",
      "   \\langle x^2 \\rangle & \\langle x \\rangle \\\\\\\\\n",
      "   \\langle x \\rangle & 1\n",
      "\\end{bmatrix}^{-1}\n",
      " \\begin{bmatrix}\n",
      "  \\langle xy \\rangle \\\\\\\\\n",
      "  \\langle y \\rangle\n",
      " \\end{bmatrix}\n",
      "$$"
     ]
    },
    {
     "cell_type": "markdown",
     "metadata": {},
     "source": [
      "where\n",
      "\n",
      "$$\\begin{bmatrix}\n",
      "  \\langle x^2 \\rangle & \\langle x \\rangle \\\\\\\\\n",
      "  \\langle x \\rangle & 1\n",
      "\\end{bmatrix}^{-1}\n",
      " =\n",
      "\\frac{1}{\\langle x^2 \\rangle - \\langle x \\rangle^2}\n",
      " \\begin{bmatrix}\n",
      "  1 & - \\langle x \\rangle \\\\\\\\\n",
      "  - \\langle x \\rangle & \\langle x^2 \\rangle\n",
      " \\end{bmatrix}\n",
      "$$"
     ]
    },
    {
     "cell_type": "markdown",
     "metadata": {},
     "source": [
      "which gives\n",
      "\n",
      "$$ m = \\frac{\\langle xy \\rangle - \\langle x \\rangle \\langle y \\rangle}{\\langle x^2 \\rangle - \\langle x \\rangle^2 }, \\hspace{1cm} b = \\frac{\\langle x^2 \\rangle\\langle y \\rangle-\\langle x \\rangle\\langle xy \\rangle}{\\langle x^2 \\rangle - \\langle x \\rangle^2 }$$"
     ]
    },
    {
     "cell_type": "markdown",
     "metadata": {},
     "source": [
      "We can also calculate our uncertainty in $m$ and $b$. The deviation of any point ($x_i,y_i$) from the line $y(x_i)$ is given by\n",
      "\n",
      "$$\\delta_i = y_i - (mx_i +b).$$\n",
      "\n",
      "The uncertainty in $y$ can be expressed\n",
      "\n",
      "$$\\sigma_y = \\sqrt{\\frac{1}{(n-2)}\\sum\\delta_i^2}.$$\n",
      "\n",
      "The reason for the factor $(n-2)$ is due to the number of degrees of freedom in the problem, which is the number of data points $n$ minus the number of parameters in the fitted line, in this case 2 ($m$ and $b$).  The derivation of this form is left for another course, such as PHYS 340.  \n",
      "\n",
      "Likewise, we can calculate the uncertainties in our fitted parameters\n",
      "\n",
      "$$\n",
      "\\sigma_m = \\sqrt{\\frac{1}{(n-2)}\\frac{\\langle \\delta^2\\rangle}{\\langle x^2\\rangle - \\langle x \\rangle ^2}}, \\hspace{1cm}\n",
      "\\sigma_b = \\sqrt{\\frac{1}{(n-2)}\\frac{\\langle \\delta^2\\rangle\\langle x^2 \\rangle}{\\langle x^2\\rangle - \\langle x \\rangle ^2}}\n",
      "$$\n",
      "\n",
      "where $\\langle \\delta^2\\rangle \\equiv \\frac{\\sum\\delta_i^2}{n}$.  Again, we'll leave the details of the derivation of these equations to another course, such as PHYS 340."
     ]
    },
    {
     "cell_type": "markdown",
     "metadata": {},
     "source": [
      "As you can imagine, this technique lends itself well to computation. One can write a program\n",
      "to calculate a least-squares fit by calculating the various average values $\\\\{\\langle x\\rangle, \\langle x^2\\rangle, \\langle \\delta^2\\rangle, . . .\\\\}$ and then combining these average parameters to report $m$, $b$, $\\sigma_a$, and $\\sigma_b$.  In fact, let's do that now."
     ]
    },
    {
     "cell_type": "markdown",
     "metadata": {},
     "source": [
      "We can write a function that takes as arguments arrays representing the $x,y$ values for some linearly varying data and returns a tuple of the resulting slope, intercept, and uncertainties.  \n",
      "\n",
      "**Note:** Here is where `numpy` arrays and their built-in functions really shine.  We should not have to write any `for` loops to calculate any of the average quantities.\n",
      "    "
     ]
    },
    {
     "cell_type": "code",
     "collapsed": false,
     "input": [
      "def linear_lsq_fit(x,y):\n",
      "    \"\"\"Take in arrays representing (x,y) values for a set of linearly varying data and \n",
      "    perform a linear least squares regression.  Return the resulting slope and intercept\n",
      "    parameters of the best fit line with their uncertainties.\"\"\"\n",
      "\n",
      "    xave = x.mean()\n",
      "    yave = y.mean()\n",
      "    x2ave = (x*x).mean()\n",
      "    xyave = (x*y).mean()\n",
      "    denom = (x2ave - xave**2)\n",
      "    m = (xyave - xave*yave)/denom\n",
      "    b = (x2ave*yave - xave*xyave)/denom\n",
      "    delta = y - (m*x + b)\n",
      "    d2ave = (delta*delta).mean()\n",
      "    n = len(y)\n",
      "    merr = sqrt((n-2)**(-1)*d2ave/denom)\n",
      "    berr = sqrt((n-2)**(-1)*d2ave*x2ave/denom)\n",
      "    \n",
      "    return m,b,merr,berr"
     ],
     "language": "python",
     "metadata": {},
     "outputs": []
    },
    {
     "cell_type": "markdown",
     "metadata": {},
     "source": [
      "Now let's try it out on some data:"
     ]
    },
    {
     "cell_type": "code",
     "collapsed": false,
     "input": [
      "time = np.array([1., 2., 3., 4., 5., 6., 7., 8., 9., 10.]) #time in seconds\n",
      "position = np.array([7.75, 7.33, 6.89, 6.45, 5.96, 5.55, 5.10, 4.49, 3.93, 3.58]) #position in meters\n",
      "uncpos = np.array([0.02, 0.03, 0.03, 0.04, 0.05, 0.06, 0.08, 0.11, 0.14, 0.17]) #uncertainty in position, in meters"
     ],
     "language": "python",
     "metadata": {},
     "outputs": []
    },
    {
     "cell_type": "code",
     "collapsed": false,
     "input": [
      "m1,b1,m1err,b1err = linear_lsq_fit(time,position)\n",
      "print \"slope= %.4f +/- %.4f\" % (m1, m1err)\n",
      "print \"intercept= %.4f +/- %.4f\" % (b1, b1err)"
     ],
     "language": "python",
     "metadata": {},
     "outputs": []
    },
    {
     "cell_type": "markdown",
     "metadata": {},
     "source": [
      "Ok, but how does it look?  Let's plot the results.  We'll use a solid line for the fit solution $y=mx+b$, and dotted lines to represent the 1 standard deviation range of possible solutions: $y_+ = (m+\\sigma_m)x+(b+\\sigma_b)$ and $y_- = (m-\\sigma_m)x+(b-\\sigma_b)$."
     ]
    },
    {
     "cell_type": "code",
     "collapsed": false,
     "input": [
      "#Create a function to plot the fit function\n",
      "f = lambda x,m,b: m*x + b\n",
      "mylabel=\"y=%.4f x + %.4f\" % (m1,b1)\n",
      "\n",
      "#Plot the data and the fit line\n",
      "fig = plt.figure(2,(10,6))\n",
      "plt.scatter(time,position,label=\"data\")\n",
      "plt.plot(time,f(time,m1,b1),label=mylabel)\n",
      "\n",
      "#Now plot a band around the result at the one-sigma error level\n",
      "plt.plot(time,f(time,m1-m1err,b1-b1err),'b:')\n",
      "plt.plot(time,f(time,m1+m1err,b1+b1err),'b:')\n",
      "\n",
      "plt.xlim(0.,11.)\n",
      "plt.ylim(3.,9.)\n",
      "\n",
      "plt.legend(loc=\"best\")\n",
      "plt.xlabel(\"time (s)\",fontsize=20)\n",
      "plt.ylabel(\"position (m)\",fontsize=20)\n",
      "\n",
      "plt.show()"
     ],
     "language": "python",
     "metadata": {},
     "outputs": []
    },
    {
     "cell_type": "heading",
     "level": 2,
     "metadata": {},
     "source": [
      "Weighted Linear Least Squares"
     ]
    },
    {
     "cell_type": "markdown",
     "metadata": {},
     "source": [
      "When the data we are trying to fit also have experimental uncertainties, we need a way to take into account these measurement uncertainties in computing our best fit line.  The figure below represents the same set of data as before but now with uncertainties that vary - the size of the error bars on each data point is unique.  This could be a set of measurements taken in a laboratory with different equipment or data from different experiments taken on different days or by different groups being combined to obtain an overall best result."
     ]
    },
    {
     "cell_type": "code",
     "collapsed": false,
     "input": [
      "fig = plt.figure(3,(10,6))\n",
      "plt.errorbar(time,position,uncpos,fmt=\"bo\",label=\"data with errors\")\n",
      "\n",
      "plt.xlim(0.,11.)\n",
      "plt.ylim(3.,9.)\n",
      "\n",
      "plt.legend(loc=\"best\")\n",
      "plt.xlabel(\"time (s)\",fontsize=20)\n",
      "plt.ylabel(\"position (m)\",fontsize=20)\n",
      "\n",
      "plt.show()"
     ],
     "language": "python",
     "metadata": {},
     "outputs": []
    },
    {
     "cell_type": "markdown",
     "metadata": {},
     "source": [
      "Obviously, we want the data points with smaller errors to \"count\" more than data points with big errors.  The easiest way to accomplish this is to use the uncertainties on the measurements to \"weight\" the points when we calculate the averages.  Weighting by one over the square of the uncertainties, $w_i = 1/{\\sigma_y}_i^2$, is the standard method of weighting.  \n",
      "\n",
      "Leaving out the derivation details, the equations to solve for our slope and intercept parameters can be compactly written\n",
      "\n",
      "$$m = \\frac{\\sum w\\sum wxy - \\sum wx\\sum wy}{\\sum w\\sum wx^2 - (\\sum wx)^2}, \\hspace{1cm} b = \\frac{\\sum wx^2\\sum wy - \\sum wx\\sum wxy}{\\sum w \\sum wx^2 - (\\sum wx)^2}$$"
     ]
    },
    {
     "cell_type": "markdown",
     "metadata": {},
     "source": [
      "If the uncertainties on all of the fitted data are the same, the weights can all be set to 1.  In this case, the fit parameters from the weighted linear least squares method are identical to the results from the non-weighted case.  \n",
      "\n"
     ]
    },
    {
     "cell_type": "markdown",
     "metadata": {},
     "source": [
      "The same cannot be said of the uncertainties on the fitted parameters.  The expressions for the weighted linear least square (WLSQ) uncertainties are\n",
      "\n",
      "$$\\sigma_m = \\sqrt{\\frac{\\sum w}{\\sum w\\sum wx^2 - (\\sum wx)^2}}, \\hspace{1cm} \\sigma_b = \\sqrt{\\frac{\\sum wx^2}{\\sum w\\sum wx^2 - (\\sum wx)^2}}.$$\n"
     ]
    },
    {
     "cell_type": "markdown",
     "metadata": {},
     "source": [
      "which do not reduce to the results from the unweighted linear least squares, even when the weights = 1, because of the $(n-2)$ factor."
     ]
    },
    {
     "cell_type": "markdown",
     "metadata": {},
     "source": [
      "In the accompanying exercises you will code a weighted linear least squares fitter using these equations and compare its results to the non-weighted case."
     ]
    },
    {
     "cell_type": "markdown",
     "metadata": {},
     "source": [
      "---"
     ]
    },
    {
     "cell_type": "heading",
     "level": 2,
     "metadata": {},
     "source": [
      "Linearizing Equations"
     ]
    },
    {
     "cell_type": "markdown",
     "metadata": {},
     "source": [
      "So now we know how to use linear regression to fit data that lies along a straight line to determine the \"best fit\" slope and intercept parameters.  But the equations we used only work for *linear* data, and there are lots of examples of functions that are *nonlinear* that we might wish to fit, e.g.\n",
      "\n",
      "$y = Ae^{Bx}$\n",
      "\n",
      "How do we fit such curves to data to determine the best fit parameters $(A,B)$ ?\n",
      "\n",
      "There are two possibilities.  First, if the function we are trying to fit to our data can be *linearized*, then we can make that transformation and use the `LinearLSqFit` function we already created.\n",
      "\n",
      "For this example, just take the natural logarithm of both sides to obtain an equation that has the same form as $y = mx +b$:\n",
      "\n",
      "$$\\ln y = \\ln A + B x$$\n",
      "\n",
      "Here, $\\ln A$ is the y-intercept and the slope of the line is given by the power $B$.  To use this equation with the `LinearLSqFit` function you would need to take the natural log of your $y$ data array (but not $x$).  Then convert your returned parameters from slope and intrercept back into the equation parameters."
     ]
    },
    {
     "cell_type": "markdown",
     "metadata": {},
     "source": [
      "Download the linked file [`radioactivedecay.dat`](radioactivedecay.dat) that contains time-series data for the radioactive decay of an isotope of Uranium and read in the data with `loadtxt`.  We will linearize the data and fit it with our `LinearLSqFit` function."
     ]
    },
    {
     "cell_type": "code",
     "collapsed": false,
     "input": [
      "!cat radioactivedecay.dat"
     ],
     "language": "python",
     "metadata": {},
     "outputs": []
    },
    {
     "cell_type": "code",
     "collapsed": false,
     "input": [
      "data = np.loadtxt('radioactivedecay.dat')\n",
      "t = data[:,0]\n",
      "num = data[:,1]"
     ],
     "language": "python",
     "metadata": {},
     "outputs": []
    },
    {
     "cell_type": "markdown",
     "metadata": {},
     "source": [
      "First plot the data as is:"
     ]
    },
    {
     "cell_type": "code",
     "collapsed": false,
     "input": [
      "plt.plot(t,num,\"b*\")\n",
      "plt.xlabel(\"time (s)\",fontsize=20)\n",
      "plt.ylabel(\"N (remaining isotopes)\",fontsize=20)\n",
      "\n",
      "plt.show()"
     ],
     "language": "python",
     "metadata": {},
     "outputs": []
    },
    {
     "cell_type": "markdown",
     "metadata": {},
     "source": [
      "Now let's linearize it:"
     ]
    },
    {
     "cell_type": "code",
     "collapsed": false,
     "input": [
      "#numpy's natural logarithm is np.log()\n",
      "plt.plot(t,np.log(num),\"b*\")\n",
      "plt.xlabel(\"time (s)\",fontsize=20)\n",
      "plt.ylabel(\"log($N_{remaining}$)\",fontsize=20)\n",
      "\n",
      "plt.show()"
     ],
     "language": "python",
     "metadata": {},
     "outputs": []
    },
    {
     "cell_type": "markdown",
     "metadata": {},
     "source": [
      "Now let's fit that linear data with our `LinearLSqFit` function and report the fit parameters, $\\ln A$ and $B$, and the derived parameter $A = e^{\\ln A}$."
     ]
    },
    {
     "cell_type": "code",
     "collapsed": false,
     "input": [
      "B,lnA,Berr,lnAerr = linear_lsq_fit(t,np.log(num))\n",
      "A = np.exp(lnA)\n",
      "Aerr = lnA*np.exp(lnA)*lnAerr #propagation of errors\n",
      "\n",
      "print \"B = %.4f +/- %.4f\" % (B, Berr)\n",
      "print \"lnA = %.4f +/- %.4f\" % (lnA, lnAerr)\n",
      "print \"A = %.4f +/- %.4f\" % (A, Aerr)"
     ],
     "language": "python",
     "metadata": {},
     "outputs": []
    },
    {
     "cell_type": "markdown",
     "metadata": {},
     "source": [
      "Now plot the fit function on top of the linearized data:"
     ]
    },
    {
     "cell_type": "code",
     "collapsed": false,
     "input": [
      "plt.plot(t,np.log(num),\"b*\",label=\"data\")\n",
      "plt.xlabel(\"time (s)\",fontsize=20)\n",
      "plt.ylabel(\"log($N_{remaining}$)\",fontsize=20)\n",
      "\n",
      "plt.plot(t,f(t,B,lnA),label=\"linear fit\")\n",
      "plt.legend()\n",
      "\n",
      "plt.show()"
     ],
     "language": "python",
     "metadata": {},
     "outputs": []
    },
    {
     "cell_type": "markdown",
     "metadata": {},
     "source": [
      "And show it with the exponential function on linear scale for the y-axis:"
     ]
    },
    {
     "cell_type": "code",
     "collapsed": false,
     "input": [
      "f2 = lambda x, B, A: A*np.exp(B*x)\n",
      "\n",
      "plt.plot(t,num,\"b*\",label=\"data\")\n",
      "plt.xlabel(\"time (s)\",fontsize=20)\n",
      "plt.ylabel(\"$N_{remaining}$\",fontsize=20)\n",
      "\n",
      "plt.plot(t,f2(t,B,A),label=\"fit\")\n",
      "plt.legend()\n",
      "\n",
      "plt.show()"
     ],
     "language": "python",
     "metadata": {},
     "outputs": []
    },
    {
     "cell_type": "markdown",
     "metadata": {},
     "source": [
      "---"
     ]
    },
    {
     "cell_type": "heading",
     "level": 2,
     "metadata": {},
     "source": [
      "Generic Curve Fitting"
     ]
    },
    {
     "cell_type": "markdown",
     "metadata": {},
     "source": [
      "Suppose that you want to fit a set data points $(x_i,y_i)$, where $i=1,2,...,N$  , to a function that cannot be linearized. For example, the function could be a second-order polynomial, \n",
      "\n",
      "$$f(x,a,b,c)=ax^2 +bx+c .$$ \n",
      "\n",
      "There isn\u2019t an analytical expression for finding the best-fit parameters $(a, b, c)$ as there is for linear regression. \n",
      "\n",
      "The usual approach is to optimize the parameters to minimize the sum of the squares of the differences between the data and the function. If the uncertainty in $y_i$ is $\\sigma_i$, then the quantity minimized is\n",
      "\n",
      "$$\\chi^2 = \\sum\\limits_{i=1}^{N}\\left[\\frac{y_i - f(x_i,a,b,...)}{\\sigma_i}\\right]^2$$\n"
     ]
    },
    {
     "cell_type": "markdown",
     "metadata": {},
     "source": [
      "The `scipy` library for Python contains numerous functions for scientific computing and data analysis. It includes the function `curve_fit`, which performs a least squares fit of a function to data.  \n",
      "\n",
      "For advanced applications, one usually wants more than just the uncertainties on the fit parameters.  One also wants to know how they are correlated, so Python returns the full *covariance matrix* with the best fit parameters.  If all you want are the uncorrelated uncertainties, you have to extract them from the covariance matrix.  These are just the square roots of the diagonal elements of the matrix.\n",
      "\n",
      "Making an initial guess at the parameters of the function is optional. Otherwise, the parameters will all be one initially. It is useful to plot the data beforehand to help make reasonable guesses at the parameters. It is also optional to send a list of uncertainties as weights into the fit.  If no weights are given, then they are assumed to be one.\n"
     ]
    },
    {
     "cell_type": "heading",
     "level": 3,
     "metadata": {},
     "source": [
      "Curve fitting example"
     ]
    },
    {
     "cell_type": "code",
     "collapsed": false,
     "input": [
      "#Import the curve fitter from the scipy optimize package\n",
      "from scipy.optimize import curve_fit"
     ],
     "language": "python",
     "metadata": {},
     "outputs": []
    },
    {
     "cell_type": "code",
     "collapsed": false,
     "input": [
      "# Define some data (including uncertainties)\n",
      "x = np.array([0.0, 1.0, 2.0, 3.0, 4.0, 5.0])\n",
      "y = np.array([-1.78, 4.09, 8.85, 17.9, 26.1, 35.2])\n",
      "yerr = np.array([0.460, 0.658, 0.528, 1.34, 1.09, 0.786])"
     ],
     "language": "python",
     "metadata": {},
     "outputs": []
    },
    {
     "cell_type": "code",
     "collapsed": false,
     "input": [
      "#plot the data to estimate the shape and parameters\n",
      "plt.errorbar(x,y,yerr,fmt=\"bo\")\n",
      "plt.xlim(-0.2,7)\n",
      "plt.ylim(-3.,40.)\n",
      "\n",
      "plt.show()"
     ],
     "language": "python",
     "metadata": {},
     "outputs": []
    },
    {
     "cell_type": "markdown",
     "metadata": {},
     "source": [
      "Hmmm... It looks kind of linear, but maybe also a bit curvy.  Let's try using our `LinearLSqFit` function on this data and see what the result looks like."
     ]
    },
    {
     "cell_type": "code",
     "collapsed": false,
     "input": [
      "m,b,merr,berr = linear_lsq_fit(x,y)\n",
      "\n",
      "plt.errorbar(x,y,yerr,fmt=\"bo\",label=\"data\")\n",
      "plt.plot(x,f(x,m,b),\"r-\",label=\"linear fit\")\n",
      "\n",
      "plt.xlim(-0.2,7)\n",
      "plt.ylim(-3.,40.)\n",
      "\n",
      "plt.show()"
     ],
     "language": "python",
     "metadata": {},
     "outputs": []
    },
    {
     "cell_type": "markdown",
     "metadata": {},
     "source": [
      "What do you think?  Does this data look linear?  Let's try a different model.  How about\n",
      "\n",
      "$$y = ax^2+bx+c$$\n",
      "\n",
      "This can't be linearized, so let's use `curve_fit` to fit the data."
     ]
    },
    {
     "cell_type": "code",
     "collapsed": false,
     "input": [
      "#Define the fit function\n",
      "def func(x, a, b, c):\n",
      "    return (a*x**2 + b*x + c)"
     ],
     "language": "python",
     "metadata": {},
     "outputs": []
    },
    {
     "cell_type": "code",
     "collapsed": false,
     "input": [
      "# Make initial guess at parameters\n",
      "p0 = [1.0, 3.0, -2.0]  \n",
      "     \n",
      "#Call the curve fitter and have it return the optimized parameters (popt) and covariance matrix (pcov)\n",
      "popt, pcov = curve_fit(func, x, y, p0, yerr)"
     ],
     "language": "python",
     "metadata": {},
     "outputs": []
    },
    {
     "cell_type": "code",
     "collapsed": false,
     "input": [
      "#Compute the parameter uncertainties from the covariance matrix\n",
      "punc = zeros(len(popt))\n",
      "for i in arange(0,len(popt)):\n",
      "    punc[i] = sqrt(pcov[i,i])\n",
      "\n",
      "#Print the result\n",
      "print \"optimal parameters: \", popt\n",
      "print \"uncertainties of parameters: \", punc"
     ],
     "language": "python",
     "metadata": {},
     "outputs": []
    },
    {
     "cell_type": "markdown",
     "metadata": {},
     "source": [
      "Plotting data with error bars and a best-fit function together gives some idea of whether or not the fit is good. If the curve passes within most of the error bars, the fit is probably reasonably good."
     ]
    },
    {
     "cell_type": "code",
     "collapsed": false,
     "input": [
      "#plot the fit result with the data\n",
      "fitresult = func(x,popt[0],popt[1],popt[2])\n",
      "\n",
      "plt.errorbar(x,y,yerr,fmt=\"b*\",label=\"data\")\n",
      "plt.plot(x,fitresult,'b-',label=\"quadratic fit\")\n",
      "plt.plot(x,f(x,m,b),'r-',label=\"linear fit\")\n",
      "\n",
      "plt.xlim(-0.2,7)\n",
      "plt.ylim(-3.,40.)\n",
      "\n",
      "plt.legend(loc=\"best\")\n",
      "plt.show()"
     ],
     "language": "python",
     "metadata": {},
     "outputs": []
    },
    {
     "cell_type": "markdown",
     "metadata": {},
     "source": [
      "The quadratic fit is better because it passes within the error bars of all data points, whereas the linear fit does not.  However, judging by eye is probably not the best way to evaluate the fits.  Usually, if the theoretical expectation for the data is known, one uses that function to fit the data.  In cases where it is not, one uses a quantitative measure like the reduced chi squared and the number of degrees of freedom to ascertain which fit function better describes the data.  This can help decide which of two competing theoretical models is \"right\" by determining which one best fits the experimental data.  We'll leave that exploration for another course, such as PHYS 340."
     ]
    },
    {
     "cell_type": "heading",
     "level": 3,
     "metadata": {},
     "source": [
      "A final example"
     ]
    },
    {
     "cell_type": "markdown",
     "metadata": {},
     "source": [
      "The file named [`waveform_1.npy`](waveform_1.npy) is a binary data file that numpy understands (hence the file extension \"`.npy`\").  You can download it by right-clicking on the link and selecting \"Save Link As\".  If you try to open the file with `nano` or use `!cat` or `!head` it will look like garbage.  However, you can read them in using the `load` function in `numpy`."
     ]
    },
    {
     "cell_type": "code",
     "collapsed": false,
     "input": [
      "!cat waveform_1.npy"
     ],
     "language": "python",
     "metadata": {},
     "outputs": []
    },
    {
     "cell_type": "code",
     "collapsed": false,
     "input": [
      "waveform = np.load('waveform_1.npy')\n",
      "t = np.arange(len(waveform))"
     ],
     "language": "python",
     "metadata": {},
     "outputs": []
    },
    {
     "cell_type": "code",
     "collapsed": false,
     "input": [
      "plt.plot(t, waveform)\n",
      "plt.xlabel(\"Time (ns)\",fontsize=20)\n",
      "plt.ylabel(\"Intensity (bins)\",fontsize=20)\n",
      "\n",
      "plt.show()"
     ],
     "language": "python",
     "metadata": {},
     "outputs": []
    },
    {
     "cell_type": "markdown",
     "metadata": {},
     "source": [
      "The signal is very simple and can be modeled as a single Gaussian function and an offset corresponding to the background noise. To fit the signal with the function, we must define the model, propose an initial solution and call the `curve_fit` routine."
     ]
    },
    {
     "cell_type": "markdown",
     "metadata": {},
     "source": [
      "Let the data be modeled by the function\n",
      "\n",
      "$$B + A \\exp { \\left[ -\\left( \\frac{t-\\mu}{\\sigma}\\right) ^2 \\right] }$$\n",
      "\n",
      "where $B$ represents the random noise floor, $A$ is the amplitude of the Gaussian curve, $\\mu$ is the location of the mean of the Gaussian and $\\sigma$ is the width."
     ]
    },
    {
     "cell_type": "code",
     "collapsed": false,
     "input": [
      "#Gaussian plus offset\n",
      "def model(t, B, A, mu, sigma):\n",
      "    return B + A * exp( - ((t-mu)/sigma)**2 )"
     ],
     "language": "python",
     "metadata": {},
     "outputs": []
    },
    {
     "cell_type": "markdown",
     "metadata": {},
     "source": [
      "By inspecting the graph, you can choose a decent initial guess for each of the parameters and create an array with those guesses:"
     ]
    },
    {
     "cell_type": "code",
     "collapsed": false,
     "input": [
      "x0 = array([3.,30.,15.,1.])"
     ],
     "language": "python",
     "metadata": {},
     "outputs": []
    },
    {
     "cell_type": "markdown",
     "metadata": {},
     "source": [
      "Then call the curve fitting routine, passing it the function, the data and our initial guesses:"
     ]
    },
    {
     "cell_type": "code",
     "collapsed": false,
     "input": [
      "popt,pcov = curve_fit(model,t,waveform,x0)\n",
      "\n",
      "plt.plot(t, waveform,label=\"data\")\n",
      "plt.plot(t, model(t, popt[0],popt[1],popt[2],popt[3]),\"r-\",label=\"fit\",linewidth=2)\n",
      "plt.legend(loc=\"best\")\n",
      "\n",
      "plt.xlabel(\"Time (ns)\",fontsize=20)\n",
      "plt.ylabel(\"Intensity (bins)\",fontsize=20)\n",
      "\n",
      "plt.show()"
     ],
     "language": "python",
     "metadata": {},
     "outputs": []
    },
    {
     "cell_type": "code",
     "collapsed": false,
     "input": [
      "#Compute the parameter uncertainties from the covariance matrix\n",
      "punc = zeros(len(popt))\n",
      "for i in arange(0,len(popt)):\n",
      "    punc[i] = sqrt(pcov[i,i])\n",
      "\n",
      "#Print the result\n",
      "print \"optimal parameters: \", popt\n",
      "print \"uncertainties of parameters: \", punc"
     ],
     "language": "python",
     "metadata": {},
     "outputs": []
    },
    {
     "cell_type": "markdown",
     "metadata": {},
     "source": [
      "Not too bad.  You can also pass the uncertainties on the data to the `curve_fit` routine as an optional last argument.  These are used as weights in the fit.  If no uncertainties are provided, the weights used are ones.  Look at the help on `curve_fit` for more information."
     ]
    },
    {
     "cell_type": "markdown",
     "metadata": {},
     "source": [
      "---"
     ]
    },
    {
     "cell_type": "markdown",
     "metadata": {},
     "source": [
      "<img src=\"../../C4PLogo.png\" width=200 style=\"display: inline;\"> All content is under a modified MIT License, and can be freely used and adapted.  See the full license text [here](../../LICENSE)."
     ]
    }
   ],
   "metadata": {}
  }
 ]
}