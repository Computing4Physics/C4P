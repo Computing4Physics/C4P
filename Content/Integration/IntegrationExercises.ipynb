{
 "metadata": {
  "name": "",
  "signature": "sha256:7f1f857f90d964f58ca7ec94ed4dc8c83ae6ca8ffd2a6d80cf54446d62acbc35"
 },
 "nbformat": 3,
 "nbformat_minor": 0,
 "worksheets": [
  {
   "cells": [
    {
     "cell_type": "heading",
     "level": 1,
     "metadata": {},
     "source": [
      "<img src=\"../../C4PLogo.png\" width=300 style=\"display: inline;\"> Integration Exercises"
     ]
    },
    {
     "cell_type": "markdown",
     "metadata": {},
     "source": [
      "---"
     ]
    },
    {
     "cell_type": "markdown",
     "metadata": {},
     "source": [
      "**Instructions:** Create a new notebook called `IntegrationExercises` in your `Integration` directory and solve the following problems inside it. Be sure to include the problem statements in a markdown cell above your solution. You don't need to put the \"helper\" code in the markdown cell, just implement the helper code in your code cell with your solution."
     ]
    },
    {
     "cell_type": "markdown",
     "metadata": {},
     "source": [
      "**Preliminaries:** At the top of your notebook, include a \"Heading 1\" cell with the title **Integration Exercises**.  Then include the inline functions and libraries by adding a code cell that invokes the `%pylab inline` magic and imports the needed packages."
     ]
    },
    {
     "cell_type": "markdown",
     "metadata": {},
     "source": [
      "---"
     ]
    },
    {
     "cell_type": "heading",
     "level": 2,
     "metadata": {},
     "source": [
      "Question 1"
     ]
    },
    {
     "cell_type": "markdown",
     "metadata": {},
     "source": [
      "**(a)** Write two functions `trapz(func,a,b,N)` and `simps(func,a,b,N)` to compute the integral of the function `func` over the variable `x` using the trapezoidal rule and Simpson's rule to a file called `Integrators.py`.  Do not use the `scipy.integrate` built-in functions.  Include docstrings with each function that describe what they do.  Then import the module and use the functions to answer the following questions.  To avoid namespace conflicts, import your module as `myint` and then call the functions from that namespace.  i.e.\n",
      "\n",
      "```python\n",
      "    import Integrators as myint\n",
      "    #...your code...here\n",
      "    I = myint.trapz(func,a,b,N)\n",
      "```\n",
      "\n",
      "Also, be sure that you import any needed modules inside your `Integrators.py` file."
     ]
    },
    {
     "cell_type": "code",
     "collapsed": false,
     "input": [
      "#Copy the exercise statement to a markdown cell in your notebook and then implement a solution in a code cell"
     ],
     "language": "python",
     "metadata": {},
     "outputs": []
    },
    {
     "cell_type": "markdown",
     "metadata": {},
     "source": [
      "**(b)** Use your `myint.trapz` and `myint.simps` functions from part (a) to calculate the integral of $x^4 - 2x + 1$ from $x$ = 0 to $x$ = 2 with $N$ = 10, $N$ = 100, and $N$ = 1000.  Then compare your result to the known correct value of 4.4.  What is the percent error in each case?  "
     ]
    },
    {
     "cell_type": "code",
     "collapsed": false,
     "input": [
      "#Copy the exercise statement to a markdown cell in your notebook and then implement a solution in a code cell"
     ],
     "language": "python",
     "metadata": {},
     "outputs": []
    },
    {
     "cell_type": "markdown",
     "metadata": {},
     "source": [
      "---"
     ]
    },
    {
     "cell_type": "heading",
     "level": 2,
     "metadata": {},
     "source": [
      "Question 2"
     ]
    },
    {
     "cell_type": "markdown",
     "metadata": {},
     "source": [
      "Consider the integral\n",
      "\n",
      "$$\n",
      "E(x) = \\int_0^x e^{-t^2} dt\n",
      "$$\n",
      "\n",
      "This is the [error function](http://en.wikipedia.org/wiki/Error_function), commonly seen in probability and statistics. There is no known way to perform this particular integral analytically, although the integrand can be expanded in a Taylor series and terms computed to arbitrary order.  For most applications, numerical approaches are the only way forward.\n",
      "\n",
      "\n",
      "**(a)** Use `scipy.integrate.cumtrapz` to calculate $E(x)$ for values of $x$ from 0 to 3 in steps of 0.1.  Print the result."
     ]
    },
    {
     "cell_type": "code",
     "collapsed": false,
     "input": [
      "#Copy the exercise statement to a markdown cell in your notebook and then implement a solution in a code cell"
     ],
     "language": "python",
     "metadata": {},
     "outputs": []
    },
    {
     "cell_type": "markdown",
     "metadata": {},
     "source": [
      "**(b)** Plot the integrand as a function of $t$ (which is just $x$) and $E(x)$ as a function of $x$ ranging from 0 to 3 on the same graph."
     ]
    },
    {
     "cell_type": "code",
     "collapsed": false,
     "input": [
      "#Copy the exercise statement to a markdown cell in your notebook and then implement a solution in a code cell"
     ],
     "language": "python",
     "metadata": {},
     "outputs": []
    },
    {
     "cell_type": "markdown",
     "metadata": {},
     "source": [
      "---"
     ]
    },
    {
     "cell_type": "heading",
     "level": 2,
     "metadata": {},
     "source": [
      "Question 3"
     ]
    },
    {
     "cell_type": "markdown",
     "metadata": {},
     "source": [
      "Consider a particle in a one-dimensional box of width $L$. The probability of finding the particle between $a$ and $b$ is given by\n",
      "\n",
      "$$P(a,b) = \\displaystyle \\int _a^b|\\psi(x)|^2dx $$\n",
      "\n",
      "where \n",
      "\n",
      "$$\\psi(x) = \\sqrt{ \\frac{2}{L} } \\sin\\left(\\frac{n \\pi x}{L}\\right) $$\n",
      "\n",
      "is the wavefunction.\n",
      "\n",
      "**(a)** What is the probability of finding the particle between $L/3$ and $L/2$ for the ground state ($n$ = 1) and for the first excited state ($n$ = 2)? Let $L$ = 1. Perform the integral using both `scipy.integrate.trapz` and `scipy.integrate.quad` with an accuracy of 6 sig figs. How many slices did you need to use for `scipy.integrate.trapz`?"
     ]
    },
    {
     "cell_type": "code",
     "collapsed": false,
     "input": [
      "#Copy the exercise statement to a markdown cell in your notebook and then implement a solution in a code cell"
     ],
     "language": "python",
     "metadata": {},
     "outputs": []
    },
    {
     "cell_type": "markdown",
     "metadata": {},
     "source": [
      "**(b)** Make a plot of $|\\psi(x)|^2$ vs. $x$ for the first two excited states with $L$=1."
     ]
    },
    {
     "cell_type": "code",
     "collapsed": false,
     "input": [
      "#Copy the exercise statement to a markdown cell in your notebook and then implement a solution in a code cell"
     ],
     "language": "python",
     "metadata": {},
     "outputs": []
    },
    {
     "cell_type": "markdown",
     "metadata": {},
     "source": [
      "---"
     ]
    },
    {
     "cell_type": "heading",
     "level": 2,
     "metadata": {},
     "source": [
      "Question 4"
     ]
    },
    {
     "cell_type": "markdown",
     "metadata": {},
     "source": [
      "Integrals of mass density lead to three interesting quantities:\n",
      "\n",
      "$$ \n",
      "M = \\int \\rho dV \\\\\n",
      "\\vec{r}_{cm} = (x_{cm},y_{cm},z_{cm}) = \\frac{1}{M}\\int \\vec{r} \\rho dV \\\\\n",
      "I_{cm} = \\int (r-r_{cm})^2 \\rho dV\n",
      "$$\n",
      "\n",
      "where $M$ is the total mass (a scalar), $\\vec{r}_{cm}$ is the center of mass position (a vector of 3 components), $I_{cm}$ are the moments of inertia about the center of mass (diagonals of a 3x3 matrix), and the mass density, $\\rho$, may be a function of the spatial variables. \n",
      "\n",
      "Consider a rectangular box: length (in $x$) = 0.2 m, width (in $y$) = 0.2 m, and height (in $z$) = 1.0 m centered on the origin, (0,0,0) and with a mass density, $\\rho(x, y, z)$ = (100 kg/m$^4$) ($y$ + 0.1) + (100 kg/m$^5$) $z^2$ for $x$, $y$, and $z$ in meters.\n",
      "\n",
      "<img src=\"MassBlock.png\" width=200>"
     ]
    },
    {
     "cell_type": "markdown",
     "metadata": {},
     "source": [
      "**(a)** Use numerical integration to find $M$, $\\vec{r}_{cm}$, and $I_{cm}$.  Note that you need $M$ to compute $\\vec{r}_{cm}$ and $\\vec{r}_{cm}$ to compute $I_{cm}$.  The moments of inertia $I_{cm}$ are $I_{xx}$, $I_{yy}$, and $I_{zz}$, where e.g. $I_{xx} = \\int ((y-y_{cm})^2 + (z-z_{cm})^2 )\\rho dV$, etc. "
     ]
    },
    {
     "cell_type": "code",
     "collapsed": false,
     "input": [
      "#Copy the exercise statement to a markdown cell in your notebook and then implement a solution in a code cell"
     ],
     "language": "python",
     "metadata": {},
     "outputs": []
    },
    {
     "cell_type": "markdown",
     "metadata": {},
     "source": [
      "**(b)** The mass, center of mass, and moments of inertia can be easily computed analytically for a rectangular box of uniform density ($\\rho$ = constant). (Compute them yourself or [look them up](http://en.wikipedia.org/wiki/List_of_moments_of_inertia)).  Verify your algorithm from part (a) works by having it compute $M$, $\\vec{r}_{cm}$ and $I_{cm}$ for this test case.  How accurate (how many sig figs?) are the numerical results?"
     ]
    },
    {
     "cell_type": "code",
     "collapsed": false,
     "input": [
      "#Copy the exercise statement to a markdown cell in your notebook and then implement a solution in a code cell"
     ],
     "language": "python",
     "metadata": {},
     "outputs": []
    },
    {
     "cell_type": "markdown",
     "metadata": {},
     "source": [
      "**(c)** Finally, change the density function to something of your choosing (different from that used in parts (a) and (b)) and recompute $M$, $\\vec{r}_{cm}$ and $I_{cm}$ for that case."
     ]
    },
    {
     "cell_type": "code",
     "collapsed": false,
     "input": [
      "#Copy the exercise statement to a markdown cell in your notebook and then implement a solution in a code cell"
     ],
     "language": "python",
     "metadata": {},
     "outputs": [],
     "prompt_number": 1
    },
    {
     "cell_type": "markdown",
     "metadata": {},
     "source": [
      "---"
     ]
    },
    {
     "cell_type": "markdown",
     "metadata": {},
     "source": [
      "<img src=\"../../C4PLogo.png\" width=200 style=\"display: inline;\"> All content is under a modified MIT License, and can be freely used and adapted.  See the full license text [here](../../LICENSE)."
     ]
    }
   ],
   "metadata": {}
  }
 ]
}