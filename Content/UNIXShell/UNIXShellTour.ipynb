{
 "metadata": {
  "name": "",
  "signature": "sha256:44cd4862e7002f0085f70d2c5d792ed70171732d221f9eb7fffe2e1fe3cea79d"
 },
 "nbformat": 3,
 "nbformat_minor": 0,
 "worksheets": [
  {
   "cells": [
    {
     "cell_type": "heading",
     "level": 1,
     "metadata": {},
     "source": [
      "<img src=\"../../C4PLogo.png\" width=300 style=\"display: inline;\"> The UNIX Shell"
     ]
    },
    {
     "cell_type": "markdown",
     "metadata": {},
     "source": [
      "This lesson is adapted from the one of the same name from [Software Carpentry](http://software-carpentry.org/v4/shell/index.html)"
     ]
    },
    {
     "cell_type": "markdown",
     "metadata": {},
     "source": [
      "---"
     ]
    },
    {
     "cell_type": "markdown",
     "metadata": {},
     "source": [
      "This lesson can be done interactively with the students and this notebook distributed for reference.\n"
     ]
    },
    {
     "cell_type": "markdown",
     "metadata": {},
     "source": [
      "---"
     ]
    },
    {
     "cell_type": "markdown",
     "metadata": {},
     "source": [
      "The Unix shell is older than most of the people who use it. It has survived so long because it is one of the most productive programming environments ever created\u2014maybe even the most productive. Its syntax may be cryptic, but people who have mastered it can experiment with different commands interactively, then use what they have learned to automate their work."
     ]
    },
    {
     "cell_type": "markdown",
     "metadata": {},
     "source": [
      "* The shell is an interactive interpreter: it reads commands, finds the corresponding programs, runs them, and displays output.\n",
      "\n",
      "* Output can be redirected using `>` and `<`.\n",
      "\n",
      "* Commands can be combined using pipelines.\n",
      "\n",
      "* The `history` command can be used to view and repeat previous operations, while tab completion can be used to save re-typing.\n",
      "\n",
      "* Directories (or folders) are nested to organize information hierarchically.\n",
      "\n",
      "* Use `grep` to find things in files, and `find` to find files themselves.\n",
      "\n",
      "* Programs can be paused, run in the background, or run on remote machines.\n",
      "\n",
      "* The shell has variables like any other program, and these can be used to control how it behaves."
     ]
    },
    {
     "cell_type": "markdown",
     "metadata": {},
     "source": [
      "---"
     ]
    },
    {
     "cell_type": "heading",
     "level": 2,
     "metadata": {},
     "source": [
      "Introduction"
     ]
    },
    {
     "cell_type": "markdown",
     "metadata": {},
     "source": [
      "* The shell has been an important interface for 40 years (born in 1975).\n",
      "* Today, shells are used to interact with servers or with programs that have a command line interface.\n",
      "* Shells also allow users to quickly combine several tools to minimize programming effort."
     ]
    },
    {
     "cell_type": "markdown",
     "metadata": {},
     "source": [
      "At a high level, computers really do four things:\n",
      "\n",
      "* Run programs\n",
      "* Store data\n",
      "* Communicate with each other\n",
      "* Interact with us"
     ]
    },
    {
     "cell_type": "markdown",
     "metadata": {},
     "source": [
      "How we interact with the computer is varied and evolving (mouse, keyboard, touchscreen, etc.).  The oldest method of interaction is called **CLUI**, or *command-line user interface*, to distinguish it from the **GUIs**, or *graphical user interfaces*, that most of us are now used to."
     ]
    },
    {
     "cell_type": "markdown",
     "metadata": {},
     "source": [
      "Workflow at the command line:\n",
      "    \n",
      "* User logs in\n",
      "* User types a command\n",
      "* Computer executes the command \n",
      "  * and prints its output\n",
      "* User types another command\n",
      "* Computer executes the command \n",
      "  * and prints its output\n",
      "* \u2026and so on until the user logs off"
     ]
    },
    {
     "cell_type": "markdown",
     "metadata": {},
     "source": [
      "In between the user and the computer is another program called the *command shell*"
     ]
    },
    {
     "cell_type": "markdown",
     "metadata": {},
     "source": [
      "What the user types goes into the shell, which figures out what commands to run and orders the computer to execute them. The computer then sends the output of those programs back to the shell, which takes care of displaying things to the user."
     ]
    },
    {
     "cell_type": "markdown",
     "metadata": {},
     "source": [
      "A shell is just a program like any other; the only thing that's different about it is that its job is to run other programs, rather than to do calculations itself."
     ]
    },
    {
     "cell_type": "markdown",
     "metadata": {},
     "source": [
      "The most popular Unix shell is `bash`, the Bourne again shell. (It's called that because it's derived from a shell written by Stephen Bourne. This is what passes for wit among programmers.) `Bash` is the default shell on most modern implementations of Unix\u2026"
     ]
    },
    {
     "cell_type": "markdown",
     "metadata": {},
     "source": [
      "Using it, or any other shell, feels a lot more like programming than like using windows and mice."
     ]
    },
    {
     "cell_type": "markdown",
     "metadata": {},
     "source": [
      "Commands are terse\u2014often only a couple of characters long\u2014and their names are often cryptic."
     ]
    },
    {
     "cell_type": "heading",
     "level": 3,
     "metadata": {},
     "source": [
      "So why should you use it? There are two good reasons."
     ]
    },
    {
     "cell_type": "markdown",
     "metadata": {},
     "source": [
      "1. First, many tools only have command-line interfaces, or are easiest to use\u2014particularly on remote machines\u2014through the command line.\n",
      "2. Second, the shell allows you to combine existing tools in powerful ways to create new tools of your own with little or no programming.  This lets you do a lot of work with just a few keystrokes\u2014once you have paid the up-front cost of learning how the shell works and what its basic commands are."
     ]
    },
    {
     "cell_type": "markdown",
     "metadata": {},
     "source": [
      "---"
     ]
    },
    {
     "cell_type": "heading",
     "level": 2,
     "metadata": {},
     "source": [
      "Files and Directories"
     ]
    },
    {
     "cell_type": "markdown",
     "metadata": {},
     "source": [
      "* Logging in to the shell and running basic utilities.\n",
      "* Investigating the file and directory structure from the command line using the commands `pwd`, `ls`, and `cd`."
     ]
    },
    {
     "cell_type": "markdown",
     "metadata": {},
     "source": [
      "Some of the commands we will use most often are ones related to storing data on disk."
     ]
    },
    {
     "cell_type": "markdown",
     "metadata": {},
     "source": [
      "The subsystem reponsible for this is called the *file system*."
     ]
    },
    {
     "cell_type": "markdown",
     "metadata": {},
     "source": [
      "It organizes our data into files, which hold information\u2026\n",
      "\u2026and directories, which hold files or other directories."
     ]
    },
    {
     "cell_type": "markdown",
     "metadata": {},
     "source": [
      "How can we use the shell to run other programs that will show us what's in the file system?"
     ]
    },
    {
     "cell_type": "markdown",
     "metadata": {},
     "source": [
      "1. Start by logging in to the computer.\n",
      "2. On the dock near the bottom of your screen you should see an icon like this: <img src=\"terminal.jpeg\">\n",
      "3. Click on that and it should bring up a window that looks something like this: <img src=\"terminalview.png\">\n",
      "4. You can customize its look by setting the preferences."
     ]
    },
    {
     "cell_type": "markdown",
     "metadata": {},
     "source": [
      "Once we have logged in, we'll see a shell prompt, which is usually just a dollar sign (but which may show extra information, like our user ID)."
     ]
    },
    {
     "cell_type": "markdown",
     "metadata": {},
     "source": [
      "The shell prompt signals that the shell is waiting for us to type something in."
     ]
    },
    {
     "cell_type": "markdown",
     "metadata": {},
     "source": [
      "Type \"`whoami`\", followed by \"`enter`\". This command prints out the ID of the current user, i.e., shows us who the shell thinks we are."
     ]
    },
    {
     "cell_type": "markdown",
     "metadata": {},
     "source": [
      "When we enter it, the shell finds a program called `whoami`\u2026"
     ]
    },
    {
     "cell_type": "markdown",
     "metadata": {},
     "source": [
      "...runs it..."
     ]
    },
    {
     "cell_type": "markdown",
     "metadata": {},
     "source": [
      "\u2026displays its output\u2026"
     ]
    },
    {
     "cell_type": "markdown",
     "metadata": {},
     "source": [
      "\u2026and then displays a new prompt, telling us that it's ready for more commands."
     ]
    },
    {
     "cell_type": "markdown",
     "metadata": {},
     "source": [
      "Now that we know who we are, we can find out where we are using `pwd`, which stands for \"print working directory\"."
     ]
    },
    {
     "cell_type": "markdown",
     "metadata": {},
     "source": [
      "This is our current default directory, i.e., the directory the computer assumes we want to use unless we specify something else explicitly."
     ]
    },
    {
     "cell_type": "markdown",
     "metadata": {},
     "source": [
      "The computer's response is `/Users/jklay`. To understand what this means, let's have a look at how the file system as a whole is organized."
     ]
    },
    {
     "cell_type": "markdown",
     "metadata": {},
     "source": [
      "Tour of filesystem:"
     ]
    },
    {
     "cell_type": "markdown",
     "metadata": {},
     "source": [
      "At the very top of the file system is a directory called the root directory that holds everything else the computer is storing.\n",
      "\n",
      "    /"
     ]
    },
    {
     "cell_type": "markdown",
     "metadata": {},
     "source": [
      "Inside that directory (or underneath it, if you're drawing a tree) are several other directories, such as `bin` (which is where some built-in programs are stored), `data`, `users`, `tmp`, and so on."
     ]
    },
    {
     "cell_type": "markdown",
     "metadata": {},
     "source": [
      "We know that our current working directory, `/Users/jklay`, is stored inside `/Users` because `/Users` is the first part of its name. Similarly, we know that `/Users` is stored inside the root directory / because its name begins with /."
     ]
    },
    {
     "cell_type": "markdown",
     "metadata": {},
     "source": [
      "Underneath `/Users`, we find one directory for each user with an account on this machine."
     ]
    },
    {
     "cell_type": "markdown",
     "metadata": {},
     "source": [
      "Notice, by the way, that there are two meanings for the / character. When it appears at the front of a file or directory name, it refers to the root directory. When it appears inside a name, it's just a separator."
     ]
    },
    {
     "cell_type": "markdown",
     "metadata": {},
     "source": [
      "```\n",
      "$ ls\n",
      "```\n",
      "stands for listing, prints the names of all the files and directories in the current directory in alphabetical order, arranged neatly into columns."
     ]
    },
    {
     "cell_type": "markdown",
     "metadata": {},
     "source": [
      "To make its output more comprehensible, we can give it the argument, or flag, \n",
      "\n",
      "```\n",
      "$ ls -F\n",
      "```\n",
      "\n",
      "This tells ls to add a trailing / to the names of directories."
     ]
    },
    {
     "cell_type": "markdown",
     "metadata": {},
     "source": [
      "By convention, the second part of a filename, called the filename extension, indicates what type of data the file holds."
     ]
    },
    {
     "cell_type": "markdown",
     "metadata": {},
     "source": [
      "`.txt` signals a plain text file, `.pdf` indicates a PDF document, `.cfg` is a configuration file full of parameters for some program or other, and so on.  However, this is only a convention, and not a guarantee. Files contain bytes, nothing more; it's up to us and our programs to interpret those bytes according to the rules for PDF documents, images, and so on."
     ]
    },
    {
     "cell_type": "markdown",
     "metadata": {},
     "source": [
      "**Relative paths vs Absolute paths**"
     ]
    },
    {
     "cell_type": "markdown",
     "metadata": {},
     "source": [
      "We can use `cd` followed by a directory name to change our working directory."
     ]
    },
    {
     "cell_type": "markdown",
     "metadata": {},
     "source": [
      "```\n",
      "$ cd\n",
      "``` \n",
      "\n",
      "stands for \"change directory\"\u2026\u2026which is a bit misleading: the command doesn't change the directory\u2026\u2026it changes the shell's idea of what directory we are in."
     ]
    },
    {
     "cell_type": "markdown",
     "metadata": {},
     "source": [
      "`cd` doesn't print anything, but if we run `pwd` after it, we can see that we are now \"in\" a new directory"
     ]
    },
    {
     "cell_type": "markdown",
     "metadata": {},
     "source": [
      "If we run `ls` again it will show us the listing of files and directories where we are now."
     ]
    },
    {
     "cell_type": "markdown",
     "metadata": {},
     "source": [
      "To go up in the directory tree, use\n",
      "\n",
      "```\n",
      "$ cd ..\n",
      "```"
     ]
    },
    {
     "cell_type": "markdown",
     "metadata": {},
     "source": [
      "`..` is a special directory name meaning \"the directory containing this one\".  Or more succinctly, the parent of the current directory."
     ]
    },
    {
     "cell_type": "markdown",
     "metadata": {},
     "source": [
      "The special directory `..` doesn't usually show up when we run `ls`."
     ]
    },
    {
     "cell_type": "markdown",
     "metadata": {},
     "source": [
      "```\n",
      "$ ls -a\n",
      "```\n",
      "shows all, including `..` and also another special directory that's just called `.`, which is the directory we're currently in. It may seem redundant to have a name for where we are, but we'll see some uses for it later."
     ]
    },
    {
     "cell_type": "markdown",
     "metadata": {},
     "source": [
      "---"
     ]
    },
    {
     "cell_type": "heading",
     "level": 2,
     "metadata": {},
     "source": [
      "Creating and Deleting"
     ]
    },
    {
     "cell_type": "markdown",
     "metadata": {},
     "source": [
      "* Creating directories and files using `mkdir` and a simple editor called `nano`.\n",
      "* Moving and copying files.\n",
      "* Deleting files and directories."
     ]
    },
    {
     "cell_type": "markdown",
     "metadata": {},
     "source": [
      "When we type in commands like `ls` or `pwd`, the shell finds the corresponding programs, runs them on our behalf, and shows us their output.  But how do we create files and directories for it to show us?"
     ]
    },
    {
     "cell_type": "markdown",
     "metadata": {},
     "source": [
      "Let's create a new directory called `tmp` with the command `mkdir tmp`."
     ]
    },
    {
     "cell_type": "markdown",
     "metadata": {},
     "source": [
      "```\n",
      "$ mkdir tmp\n",
      "```"
     ]
    },
    {
     "cell_type": "markdown",
     "metadata": {},
     "source": [
      "As you might guess from its name, `mkdir` means \"make directory\"."
     ]
    },
    {
     "cell_type": "markdown",
     "metadata": {},
     "source": [
      "Since `tmp` is a relative path (without a leading slash), the new directory is made below the current one."
     ]
    },
    {
     "cell_type": "markdown",
     "metadata": {},
     "source": [
      "If you run `ls` again you will see it in the list.  However, there's nothing below it yet: `tmp` is empty, which we can tell if we try to list its contents:"
     ]
    },
    {
     "cell_type": "markdown",
     "metadata": {},
     "source": [
      "```\n",
      "$ ls tmp\n",
      "```"
     ]
    },
    {
     "cell_type": "markdown",
     "metadata": {},
     "source": [
      "The command doesn't print any output, indicating that `tmp` is empty.  If we use `ls -a tmp` to show directories whose names start with '`.`', though, we see that `.` and `..` are there, as they always are."
     ]
    },
    {
     "cell_type": "markdown",
     "metadata": {},
     "source": [
      "Let's change our working directory to `tmp` using `cd`, then run the command `nano junk`."
     ]
    },
    {
     "cell_type": "markdown",
     "metadata": {},
     "source": [
      "```\n",
      "$ cd tmp\n",
      "$ nano junk\n",
      "```"
     ]
    },
    {
     "cell_type": "markdown",
     "metadata": {},
     "source": [
      "`nano` is a simple text editor.  It can only work with plain character data, not tables, images, or any other human-friendly media."
     ]
    },
    {
     "cell_type": "markdown",
     "metadata": {},
     "source": [
      "You can start typing and your text will appear in the window starting at the cursor location."
     ]
    },
    {
     "cell_type": "markdown",
     "metadata": {},
     "source": [
      "When you are done typing, you can save the file to disk by holding down the \"control\" button and the `o` button at the same time.  By convention, Unix uses the caret `^` followed by a letter to mean \"control plus that letter\"."
     ]
    },
    {
     "cell_type": "markdown",
     "metadata": {},
     "source": [
      "Once our quotation is saved, we can use Control-X to quit the editor and return to the shell."
     ]
    },
    {
     "cell_type": "markdown",
     "metadata": {},
     "source": [
      "`nano` doesn't leave any output on the screen after it exits, but `ls` now shows that we have created a file called `junk`."
     ]
    },
    {
     "cell_type": "markdown",
     "metadata": {},
     "source": [
      "Let's tidy up by running `rm junk`. \"`rm`\" stands for \"remove\"\u2014this command deletes files."
     ]
    },
    {
     "cell_type": "markdown",
     "metadata": {},
     "source": [
      "It's important to remember that there is no undelete. Unix doesn't move things to a trash bin: it unhooks them from the file system so that their storage space on disk can be recycled. Tools for finding and recovering deleted files do exist, but there's no guarantee they'll work in any particular situation, since the computer may reclaim the file's disk space right away."
     ]
    },
    {
     "cell_type": "markdown",
     "metadata": {},
     "source": [
      "If we now run `ls`, its output is empty once again, which tells us that our file is gone."
     ]
    },
    {
     "cell_type": "markdown",
     "metadata": {},
     "source": [
      "Now recreate the file by opening `nano` again with `nano junk`, then `cd` up one directory."
     ]
    },
    {
     "cell_type": "markdown",
     "metadata": {},
     "source": [
      "```bash\n",
      "$ nano junk\n",
      "$ cd ../\n",
      "```"
     ]
    },
    {
     "cell_type": "markdown",
     "metadata": {},
     "source": [
      "If we try to remove the `tmp` directory using `rm tmp`, we get an error message: `rm` only works on files, not directories."
     ]
    },
    {
     "cell_type": "markdown",
     "metadata": {},
     "source": [
      "```bash\n",
      "$ rm tmp\n",
      "rm: cannot remove `tmp': Is a directory\n",
      "```"
     ]
    },
    {
     "cell_type": "markdown",
     "metadata": {},
     "source": [
      "The right command is `rmdir`, which stands for \"remove directory\"."
     ]
    },
    {
     "cell_type": "markdown",
     "metadata": {},
     "source": [
      "```bash\n",
      "$ rmdir tmp\n",
      "rmdir: failed to remove `tmp': Directory not empty\n",
      "```"
     ]
    },
    {
     "cell_type": "markdown",
     "metadata": {},
     "source": [
      "It doesn't work yet either, though, because the directory we're trying to remove isn't empty."
     ]
    },
    {
     "cell_type": "markdown",
     "metadata": {},
     "source": [
      "If we want to get rid of `tmp` we must first delete the file `junk`."
     ]
    },
    {
     "cell_type": "markdown",
     "metadata": {},
     "source": [
      "```    \n",
      "$ rm tmp/junk\n",
      "$ rmdir tmp\n",
      "```"
     ]
    },
    {
     "cell_type": "markdown",
     "metadata": {},
     "source": [
      "The directory is now empty, so `rmdir` deletes it."
     ]
    },
    {
     "cell_type": "markdown",
     "metadata": {},
     "source": [
      "Create that directory and file one more time."
     ]
    },
    {
     "cell_type": "markdown",
     "metadata": {},
     "source": [
      "```bash  \n",
      "$ mkdir tmp\n",
      "$ nano tmp/junk\n",
      "$ ls tmp\n",
      "junk\n",
      "$\n",
      "```"
     ]
    },
    {
     "cell_type": "markdown",
     "metadata": {},
     "source": [
      "`junk` isn't a particularly informative name, so let's change the file's name using `mv`."
     ]
    },
    {
     "cell_type": "markdown",
     "metadata": {},
     "source": [
      "```bash\n",
      "$ mv tmp/junk tmp/quotes.txt\n",
      "```"
     ]
    },
    {
     "cell_type": "markdown",
     "metadata": {},
     "source": [
      "`mv` is short for \"move\": we use it to move a file from one place to another."
     ]
    },
    {
     "cell_type": "markdown",
     "metadata": {},
     "source": [
      "It also works on directories: there is no separate `mvdir` command."
     ]
    },
    {
     "cell_type": "markdown",
     "metadata": {},
     "source": [
      "The first argument tells `mv` what we're moving.  The second tells it where to move it to."
     ]
    },
    {
     "cell_type": "markdown",
     "metadata": {},
     "source": [
      "The general form of the command is\n",
      "\n",
      "```\n",
      "$ mv <source> <destination>\n",
      "```"
     ]
    },
    {
     "cell_type": "markdown",
     "metadata": {},
     "source": [
      "where the source can be a file or a directory and the same for the destination."
     ]
    },
    {
     "cell_type": "markdown",
     "metadata": {},
     "source": [
      "In this case, we're moving `tmp/junk` to `tmp/quotes.txt`, which has the same effect as renaming the file."
     ]
    },
    {
     "cell_type": "markdown",
     "metadata": {},
     "source": [
      "Sure enough, `ls` shows us that `tmp` now contains one file called `quotes.txt`."
     ]
    },
    {
     "cell_type": "markdown",
     "metadata": {},
     "source": [
      "```\n",
      "$ ls tmp\n",
      "quotes.txt\n",
      "```"
     ]
    },
    {
     "cell_type": "markdown",
     "metadata": {},
     "source": [
      "We can bring that file into the current working directory by using the `mv` command, but this time the second argument is a directory."
     ]
    },
    {
     "cell_type": "markdown",
     "metadata": {},
     "source": [
      "```\n",
      "$ mv tmp/quotes.txt .\n",
      "```"
     ]
    },
    {
     "cell_type": "markdown",
     "metadata": {},
     "source": [
      "The effect is to move the file from the directory it was in to a different directory.  You can use `ls` to see that `tmp` is now empty and the file has been moved to the current working directory."
     ]
    },
    {
     "cell_type": "markdown",
     "metadata": {},
     "source": [
      "The `cp` command works very much like `mv`, except it copies a file instead of moving it."
     ]
    },
    {
     "cell_type": "markdown",
     "metadata": {},
     "source": [
      "```\n",
      "$ cp <source> <destination>\n",
      "```"
     ]
    },
    {
     "cell_type": "markdown",
     "metadata": {},
     "source": [
      "where the source must be a file but the destination can be either a file or a directory."
     ]
    },
    {
     "cell_type": "markdown",
     "metadata": {},
     "source": [
      "To summarize, here are the commands we've seen so far, along with the two special directory names.  "
     ]
    },
    {
     "cell_type": "markdown",
     "metadata": {},
     "source": [
      "<table>\n",
      "<tr>\n",
      "<td>`pwd`</td>\n",
      "<td>print working directory</td>\n",
      "</tr>\n",
      "<tr>\n",
      "<td>`cd`</td>\n",
      "<td>change working directory</td>\n",
      "</tr>\n",
      "<tr>\n",
      "<td>`ls`</td>\n",
      "<td>listing</td>\n",
      "</tr>\n",
      "<tr>\n",
      "<td>`.`</td>\n",
      "<td>current directory</td>\n",
      "</tr>\n",
      "<tr>\n",
      "<td>`..`</td>\n",
      "<td>parent directory</td>\n",
      "</tr>\n",
      "<tr>\n",
      "<td>`mkdir`</td>\n",
      "<td>make a directory</td>\n",
      "</tr>\n",
      "<tr>\n",
      "<td>`nano`</td>\n",
      "<td>text editor</td>\n",
      "</tr>\n",
      "<tr>\n",
      "<td>`rm`</td>\n",
      "<td>remove (delete) a file</td>\n",
      "</tr>\n",
      "<tr>\n",
      "<td>`rmdir`</td>\n",
      "<td>remove (delete) a directory</td>\n",
      "</tr>\n",
      "<tr>\n",
      "<td>`mv`</td>\n",
      "<td>move (rename) a file or directory</td>\n",
      "</tr>\n",
      "<tr>\n",
      "<td>`cp`</td>\n",
      "<td>copy a file</td>\n",
      "</tr>\n",
      "</table>"
     ]
    },
    {
     "cell_type": "markdown",
     "metadata": {},
     "source": [
      "With this information you will be able to do most of the things we will need to do at the command line in the terminal.  As you get more comfortable working with the command line, we'll learn new commands to expand your ability to work with the filesystem."
     ]
    },
    {
     "cell_type": "markdown",
     "metadata": {},
     "source": [
      "---"
     ]
    },
    {
     "cell_type": "markdown",
     "metadata": {},
     "source": [
      "<img src=\"../../C4PLogo.png\" width=200 style=\"display: inline;\"> All content is under a modified MIT License, and can be freely used and adapted.  See the full license text [here](../../LICENSE)."
     ]
    }
   ],
   "metadata": {}
  }
 ]
}