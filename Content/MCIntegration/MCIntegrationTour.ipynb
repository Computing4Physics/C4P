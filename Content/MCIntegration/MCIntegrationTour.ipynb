{
 "metadata": {
  "name": "",
  "signature": "sha256:7cda68f854ab49f31f3e7af3c678d84ed3898ea045d4a90bf2f8ac1b20b01ef5"
 },
 "nbformat": 3,
 "nbformat_minor": 0,
 "worksheets": [
  {
   "cells": [
    {
     "cell_type": "heading",
     "level": 1,
     "metadata": {},
     "source": [
      "<img src=\"../../C4PLogo.png\" width=300 style=\"display: inline;\"> Monte Carlo Integration"
     ]
    },
    {
     "cell_type": "markdown",
     "metadata": {},
     "source": [
      "This lesson was developed using materials from the [Computational Physics](http://www-personal.umich.edu/~mejn/cp/) book by Mark Newman at University of Michigan and material adapted from the [numerical methods course](http://mathfaculty.fullerton.edu/mathews/n2003/NumericalUndergradMod.html) by John Matthews at CSU Fullerton."
     ]
    },
    {
     "cell_type": "markdown",
     "metadata": {},
     "source": [
      "---\n",
      "\n",
      "**Instructions:** Create a new directory called `MCIntegration` with a notebook called `MCIntegrationTour`.  Give it a heading 1 cell title **Monte Carlo Integration**.  Read this page, typing in the code in the code cells and executing them as you go."
     ]
    },
    {
     "cell_type": "markdown",
     "metadata": {},
     "source": [
      "\n",
      "<font color=\"red\"><b>Do not copy/paste</b>.  \n",
      "\n",
      "Type the commands yourself to get the practice doing it.  This will also slow you down so you can think about the commands and what they are doing as you type them.</font>\n",
      "\n",
      "Save your notebook when you are done, then try the accompanying exercises."
     ]
    },
    {
     "cell_type": "markdown",
     "metadata": {},
     "source": [
      "---"
     ]
    },
    {
     "cell_type": "code",
     "collapsed": false,
     "input": [
      "%pylab inline\n",
      "import numpy as np\n",
      "import matplotlib.pyplot as plt"
     ],
     "language": "python",
     "metadata": {},
     "outputs": []
    },
    {
     "cell_type": "heading",
     "level": 2,
     "metadata": {},
     "source": [
      "Introduction"
     ]
    },
    {
     "cell_type": "markdown",
     "metadata": {},
     "source": [
      "In a previous lesson we explored numerical integration by choosing points along the function and calculating/summing areas.  In this lesson we will explore an entirely different technique, one that is very useful because it easily extends to intgrating functions in any number of dimensions.  There are many areas of physics where we need to evaluate multi-dimensional integrals.  For example, to find the electric field due to a surface or volume of charge.\n",
      "\n",
      "Monte Carlo methods are a class of algorithms that use random number sampling to obtain numerical results.  They were pioneered by scientists working on the Manhattan Project to simulate the interactions of neutrons with matter during the development of the first atomic weapons.  \"Monte Carlo\" was the code name used to disguise the work of Stanislaw Ulam and John von Neumann as they developed the first algorithms using random number sampling.  The choice of that particular codename comes from the fact that the technique resembles the games of chance played in the casinos of Monte Carlo in the principality of Monaco. (Las Vegas was not yet as well known as a center of gambling.)  \n",
      "\n",
      "The first application of Monte Carlo methods that we will explore is for integrating functions.  In another lesson we will look at using random number sampling to simulate physical phenomena."
     ]
    },
    {
     "cell_type": "heading",
     "level": 2,
     "metadata": {},
     "source": [
      "Monte Carlo Integration"
     ]
    },
    {
     "cell_type": "markdown",
     "metadata": {},
     "source": [
      "At its essence, Monte Carlo (MC) integration uses a random sampling of points within a domain where our function is defined to estimate the area bounded by the function.  It is actually easier to explain with an analogy in 2 dimensions, even though it will work in any number (1, 2, 3, ..., $n$) of dimensions.  That's one of the reasons it is so powerful.  It is also easily converted to an algorithm that a computer can execute.  Another bonus.\n",
      "\n",
      "Consider the example shown here: \n",
      "\n",
      "<img src=\"Darts.png\" width=800>\n",
      "\n",
      "I want to know the area of the circular dartboard.  If I throw $N$ darts randomly at the board (I'm not a very good dart player), the area of the circle can be approximated as the ratio of the number of darts within the circle, $N_{in}$ to the total number of darts thrown, $N = N_{in} + N_{out}$, times the area of the rectangular board:\n",
      "\n",
      "$$\n",
      "A_{circ} \\simeq \\frac{N_{in}}{N}A_{board}\n",
      "$$"
     ]
    },
    {
     "cell_type": "markdown",
     "metadata": {},
     "source": [
      "In this case, count all the dots and you find that there are 40 of them, with 15 inside the dartboard and 25 in the white area of the rectangular board.  The board has sides of length 4, and the radius of the circle is 1.375.  Thus we can compare the exact value for the area with our approximate value:\n",
      "\n",
      "$A_{board} = l \\times w$\n",
      "\n",
      "$A_{exact} = \\pi r^2$"
     ]
    },
    {
     "cell_type": "code",
     "collapsed": false,
     "input": [
      "l = w = 4.\n",
      "r = 1.375\n",
      "Nin = 15 \n",
      "N = 40\n",
      "Aboard = l*w\n",
      "Aexact = pi*r**2\n",
      "Acirc = (Nin/float(N))*Aboard #since we calc a ratio, make sure they are floats!\n",
      "print \"Aboard =\",Aboard\n",
      "print \"Aexact =\",Aexact\n",
      "print \"Acirc  =\",Acirc\n",
      "print \"Error  =\",(100.*(Acirc-Aexact)/Aexact),\"%\""
     ],
     "language": "python",
     "metadata": {},
     "outputs": []
    },
    {
     "cell_type": "markdown",
     "metadata": {},
     "source": [
      "So good to about 1%.  If we want to make it an even better approximation, we increase the number of darts.  To improve the speed/efficiency, we can shrink the size of the rectangular board so it is just big enough for our circular dartboard to fit inside.  This minimizes the number of \"wrong\" darts that get thrown.  \n",
      "\n",
      "The darts were thrown \"randomly\" in this case because I am not a good dart player, but it turns out that we can also improve our efficiency by being \"selectively random\".  For example, we can try to target our dart throws such that we don't get overlapping hits.  We could also try to ensure that we uniformly fill the space in the box with dart throws using as few darts as possible so that we don't accidentally get too many regions with more samples in them than others.  Choosing how to sample the region of interest is an interesting but complicated topic in and of itself.  We won't go into detail in this course, but you can read more about it by googling \"importance sampling\"."
     ]
    },
    {
     "cell_type": "markdown",
     "metadata": {},
     "source": [
      "For this example, we did some of the work ourselves - throwing the darts randomly and counting the number of darts inside/outside the boundary we care about.  Generally, we want to let the computer do all of the work.  This method of Monte Carlo integration is known as the \"Hit or Miss\" or \"Rejection Sampling\" method.  Let's outline the steps we need to implement it:"
     ]
    },
    {
     "cell_type": "heading",
     "level": 3,
     "metadata": {},
     "source": [
      "Hit or Miss MC Integration"
     ]
    },
    {
     "cell_type": "markdown",
     "metadata": {},
     "source": [
      "1. Define the function we want to integrate (it could also be an array of points)\n",
      "2. Create the bounding box around our function within which to work\n",
      "3. Randomly (or selectively randomly) sample points within that region\n",
      "4. Calculate the fraction of points that fall within the function boundary.\n",
      "5. The integral is then the point fraction times the area of the bounding box."
     ]
    },
    {
     "cell_type": "markdown",
     "metadata": {},
     "source": [
      "We'll start with a simple 1-dimensional example and implement the most basic hit or miss method using truly random samples within our domain. Let's try to write the code for the series of steps described above.\n",
      "\n",
      "Here is the function we'll work with:\n",
      "\n",
      "$f(x) = x^{1/2} + \\sin(x)$\n",
      "\n",
      "Let's define it and plot it so we have an idea of what we are looking at (Step 1)."
     ]
    },
    {
     "cell_type": "code",
     "collapsed": false,
     "input": [
      "f = lambda x: x**(0.5) + np.sin(x)"
     ],
     "language": "python",
     "metadata": {},
     "outputs": []
    },
    {
     "cell_type": "code",
     "collapsed": false,
     "input": [
      "x = np.arange(0.,15.,0.001)"
     ],
     "language": "python",
     "metadata": {},
     "outputs": []
    },
    {
     "cell_type": "code",
     "collapsed": false,
     "input": [
      "plt.plot(x,f(x),lw=3)\n",
      "plt.ylabel(r'$x^{1/2} + \\sin(x)$',fontsize=20)\n",
      "plt.xlabel(r'$x$', fontsize = 20)\n",
      "plt.xlim(0.,15.)\n",
      "\n",
      "plt.show()"
     ],
     "language": "python",
     "metadata": {},
     "outputs": []
    },
    {
     "cell_type": "markdown",
     "metadata": {},
     "source": [
      "Suppose we want to integrate this function between the limits $(1.7,12.4)$.  We can create the bounding box (Step 2) for our random sampling from the these limits and the maximum value of the function within that range.\n",
      "\n",
      "We want to create a mask that will select only values within our limits of integration and then find the maximum value of the function in that range to set the box."
     ]
    },
    {
     "cell_type": "code",
     "collapsed": false,
     "input": [
      "xmin = 1.7\n",
      "xmax = 12.4\n",
      "\n",
      "#find the maximum value of f within the boundary to set ymax\n",
      "subx = x[logical_and((x > xmin),(x < xmax))]\n",
      "ymax = f(subx).max()*1.05\n",
      "ymin = 0."
     ],
     "language": "python",
     "metadata": {},
     "outputs": []
    },
    {
     "cell_type": "markdown",
     "metadata": {},
     "source": [
      "Note the use of the `logical_and` function to be able to set the mask with two constraints, rather than just one."
     ]
    },
    {
     "cell_type": "code",
     "collapsed": false,
     "input": [
      "#Replot the function\n",
      "plt.plot(x,f(x),lw=3)\n",
      "plt.ylabel(r'$x^{1/2} + \\sin(x)$',fontsize=20)\n",
      "plt.xlabel(r'$x$', fontsize = 20)\n",
      "plt.xlim(0.,15.)\n",
      "\n",
      "\n",
      "#plot the box\n",
      "plt.plot([xmin, xmin], [ymin, ymax], color='k', linestyle='--') #vertical left\n",
      "plt.plot([xmax, xmax], [ymin, ymax], color='k', linestyle='--') #vertical right\n",
      "plt.plot([xmin, xmax], [ymax, ymax], color='k', linestyle='--') #horizontal top\n",
      "\n",
      "plt.show()"
     ],
     "language": "python",
     "metadata": {},
     "outputs": []
    },
    {
     "cell_type": "markdown",
     "metadata": {},
     "source": [
      "(Step 3) is to create random sample points within our boundary.  You should investigate the `random` library in `numpy`.  Let's create a set of sample points along the x and y axes.  The `random_sample()` function returns random numbers within the bounds [0.,1.).  The ) means it generates numbers *up to* the end of the range but not equal to it.  In other words, for a random sample between 0. and 1. you will sometimes get 0. but never 1., only numbers very close to it, i.e. 0.9999, etc.  "
     ]
    },
    {
     "cell_type": "code",
     "collapsed": false,
     "input": [
      "help(random_sample)"
     ],
     "language": "python",
     "metadata": {},
     "outputs": []
    },
    {
     "cell_type": "markdown",
     "metadata": {},
     "source": [
      "To get the values within our limits, we need to *scale* and *translate* the values into our range, as suggested in the help:"
     ]
    },
    {
     "cell_type": "code",
     "collapsed": false,
     "input": [
      "N=10000\n",
      "samples_x = xmin + (xmax-xmin)*np.random.random_sample(N);\n",
      "samples_y = ymin + (ymax-ymin)*np.random.random_sample(N);"
     ],
     "language": "python",
     "metadata": {},
     "outputs": []
    },
    {
     "cell_type": "code",
     "collapsed": false,
     "input": [
      "#Replot the function\n",
      "plt.plot(x,f(x),lw=3)\n",
      "plt.ylabel(r'$x^{1/2} + \\sin(x)$',fontsize=20)\n",
      "plt.xlabel(r'$x$', fontsize = 20)\n",
      "plt.xlim(0.,15.)\n",
      "\n",
      "#Plotting all of them is not recommended\n",
      "#plt.plot(samples_x,samples_y,'g.')\n",
      "\n",
      "#Just show the first 500 points or it gets hard to see\n",
      "plt.plot(samples_x[1:500],samples_y[1:500],'g.')\n",
      "\n",
      "\n",
      "#plot the box\n",
      "plt.plot([xmin, xmin], [ymin, ymax], color='k', linestyle='--') #vertical left\n",
      "plt.plot([xmax, xmax], [ymin, ymax], color='k', linestyle='--') #vertical right\n",
      "plt.plot([xmin, xmax], [ymax, ymax], color='k', linestyle='--') #horizontal top\n",
      "\n",
      "plt.show()"
     ],
     "language": "python",
     "metadata": {},
     "outputs": []
    },
    {
     "cell_type": "markdown",
     "metadata": {},
     "source": [
      "The fraction of points $(x_i,y_i)$ that satisfy the condition $y_i \\leq f(x_i)$ is an estimate of the ratio of the integral of $f(x)$ to the area of the rectangle."
     ]
    },
    {
     "cell_type": "markdown",
     "metadata": {},
     "source": [
      "Now we just have to keep track of those.  We can try a mask on `samples_y`"
     ]
    },
    {
     "cell_type": "code",
     "collapsed": false,
     "input": [
      "newmask = (samples_y < f(samples_x))"
     ],
     "language": "python",
     "metadata": {},
     "outputs": []
    },
    {
     "cell_type": "code",
     "collapsed": false,
     "input": [
      "newmask.sum()"
     ],
     "language": "python",
     "metadata": {},
     "outputs": []
    },
    {
     "cell_type": "markdown",
     "metadata": {},
     "source": [
      "And replot the points that lie below the function for proof:"
     ]
    },
    {
     "cell_type": "code",
     "collapsed": false,
     "input": [
      "#Replot the function\n",
      "plt.plot(x,f(x),lw=3)\n",
      "plt.ylabel(r'$x^{1/2} + \\sin(x)$',fontsize=20)\n",
      "plt.xlabel(r'$x$', fontsize = 20)\n",
      "plt.xlim(0.,15.)\n",
      "\n",
      "#Just show the first 500 points or it gets hard to see\n",
      "plt.plot(samples_x[1:500],samples_y[1:500],'.')\n",
      "\n",
      "#Use the mask to show the ones below the function in red\n",
      "plt.plot(samples_x[newmask[:500]],samples_y[newmask[:500]],'r.')\n",
      "\n",
      "#plot the box\n",
      "plt.plot([xmin, xmin], [ymin, ymax], color='k', linestyle='--') #vertical left\n",
      "plt.plot([xmax, xmax], [ymin, ymax], color='k', linestyle='--') #vertical right\n",
      "plt.plot([xmin, xmax], [ymax, ymax], color='k', linestyle='--') #horizontal top\n",
      "\n",
      "#plt.savefig(\"MCIntegration.png\")\n",
      "plt.show()"
     ],
     "language": "python",
     "metadata": {},
     "outputs": []
    },
    {
     "cell_type": "markdown",
     "metadata": {},
     "source": [
      "Now we can compute our integral from (Step 5): the area of the rectangle times the ratio of the number of red and green dots."
     ]
    },
    {
     "cell_type": "code",
     "collapsed": false,
     "input": [
      "I = (xmax-xmin)*(ymax-ymin)*newmask.sum()/newmask.size\n",
      "print I"
     ],
     "language": "python",
     "metadata": {},
     "outputs": []
    },
    {
     "cell_type": "heading",
     "level": 3,
     "metadata": {},
     "source": [
      "Comparing to the exact solution"
     ]
    },
    {
     "cell_type": "markdown",
     "metadata": {},
     "source": [
      "How well did we do?  Let's evaluate our exact function between the two endpoints."
     ]
    },
    {
     "cell_type": "markdown",
     "metadata": {},
     "source": [
      "The exact (indefinite) analytical solution to our integral is\n",
      "\n",
      "$$\n",
      "\\int f(x)dx = \\int x^{1/2} dx + \\int sin(x) dx = \\frac{2}{3}x^{3/2} - \\cos(x)\n",
      "$$\n",
      "\n",
      "We can evaluate this at the two endpoints to obtain the exact solution:"
     ]
    },
    {
     "cell_type": "code",
     "collapsed": false,
     "input": [
      "Iana = lambda x: (2./3.)*x**(3./2.) - np.cos(x)\n",
      "Iexact = Iana(xmax)-Iana(xmin)\n",
      "Ierr = 100*np.abs(Iexact-I)/Iexact\n",
      "\n",
      "print \"I_exact =\",Iexact\n",
      "print \"I_hitormiss =\",I\n",
      "print \"Error on I =\",Ierr,\"%\""
     ],
     "language": "python",
     "metadata": {},
     "outputs": []
    },
    {
     "cell_type": "markdown",
     "metadata": {},
     "source": [
      "Not too bad, but how many points would it take to reduce the error below 0.001%?  Let's put our work into an `interact` object and explore the result as a function of $N$."
     ]
    },
    {
     "cell_type": "code",
     "collapsed": false,
     "input": [
      "from IPython.html.widgets import interact, interactive\n",
      "from IPython.html import widgets\n",
      "from IPython.utils.traitlets import link"
     ],
     "language": "python",
     "metadata": {},
     "outputs": []
    },
    {
     "cell_type": "code",
     "collapsed": false,
     "input": [
      "def hit_or_miss(N=10000,xmin=1.7,xmax=12.4):\n",
      "\n",
      "    #Set up the function\n",
      "    f = lambda x: x**(0.5) + np.sin(x)\n",
      "    x = np.arange(0.,15.,0.001)\n",
      "    Iana = lambda x: (2./3.)*x**(3./2.) - np.cos(x)\n",
      "    Iexact = Iana(xmax)-Iana(xmin)\n",
      "\n",
      "    #find the maximum value of f within the boundary to set ymax\n",
      "    subx = x[logical_and((x > xmin),(x < xmax))]\n",
      "    ymin = 0.\n",
      "    if (subx.size > 0):\n",
      "        ymax = f(subx).max()*1.05\n",
      "    else:\n",
      "        ymax = 0.\n",
      "\n",
      "    ##########################################################\n",
      "    #Here's the integration part:\n",
      "    samples_x = xmin + (xmax-xmin)*np.random.random_sample(N);\n",
      "    samples_y = ymin + (ymax-ymin)*np.random.random_sample(N);\n",
      "    \n",
      "    newmask = (samples_y < f(samples_x))\n",
      "    I = (xmax-xmin)*(ymax-ymin)*newmask.sum()/newmask.size\n",
      "    Ierr = 100*np.abs(Iexact-I)/Iexact\n",
      "    ##########################################################\n",
      "\n",
      "    #Print our results:  \n",
      "    print \"I_exact =\",Iexact\n",
      "    print \"I_hitormiss =\",I\n",
      "    print \"Error on I =\",Ierr,\"%\"\n",
      "    \n",
      "    #Plot our function\n",
      "    plt.plot(x,f(x),lw=3)\n",
      "    plt.ylabel(r'$x^{1/2} + \\sin(x)$',fontsize=20)\n",
      "    plt.xlabel(r'$x$', fontsize = 20)\n",
      "    plt.xlim(0.,15.)\n",
      "\n",
      "    #Just show the first 500 points or it gets hard to see\n",
      "    plt.plot(samples_x[1:500],samples_y[1:500],'g.')\n",
      "\n",
      "    #Use the mask to show the ones below the function in red\n",
      "    plt.plot(samples_x[newmask[:500]],samples_y[newmask[:500]],'r.')\n",
      "\n",
      "    #plot the box\n",
      "    plt.plot([xmin, xmin], [ymin, ymax], color='k', linestyle='--') #vertical left\n",
      "    plt.plot([xmax, xmax], [ymin, ymax], color='k', linestyle='--') #vertical right\n",
      "    plt.plot([xmin, xmax], [ymax, ymax], color='k', linestyle='--') #horizontal top\n",
      "\n",
      "    plt.show()"
     ],
     "language": "python",
     "metadata": {},
     "outputs": []
    },
    {
     "cell_type": "code",
     "collapsed": false,
     "input": [
      "v = interact(hit_or_miss,N=(1000,100000,100),xmin=(0.,15.),xmax=(0.,15.))"
     ],
     "language": "python",
     "metadata": {},
     "outputs": []
    },
    {
     "cell_type": "markdown",
     "metadata": {},
     "source": [
      "What do you observe when you vary the number of samples?\n",
      "\n",
      "It turns out that the uncertainty in the Monte Carlo integration result depends only in part on the number of samples.  It also depends on the variance in the function.  For functions with rapidly changing values (and hence, higher variance), increasing the random samples, well, \"randomly\", doesn't really help.  To improve the results we would have to be selective about our random numbers.  (Importance sampling would be a useful technique here.)"
     ]
    },
    {
     "cell_type": "heading",
     "level": 3,
     "metadata": {},
     "source": [
      "Sample Mean Method"
     ]
    },
    {
     "cell_type": "markdown",
     "metadata": {},
     "source": [
      "The hit or miss method is not the only (nor the most efficient) way to perform Monte Carlo integration.  There is another method, based on the mean-value or central-limit theorem of calculus, which states that the definite integral over an interval $(a,b)$ is determined by the average value of the integrand $f(x)$ in the range $a \\leq x \\leq b$."
     ]
    },
    {
     "cell_type": "markdown",
     "metadata": {},
     "source": [
      "To determine this average, we sample the $x_i$ at random (instead of at regular intervals) and compute the values of $f(x_i)$. For the one-dimensional integral $\\int f(x) dx$, the estimate of the integral in the sample mean method is given by\n",
      "\n",
      "$$\n",
      "I_N = (b-a)\\langle f \\rangle\n",
      "$$\n",
      "\n",
      "with $\\langle f \\rangle$ the usual definition of the mean:\n",
      "\n",
      "$$\n",
      "\\langle f \\rangle = \\frac{1}{N}\\sum\\limits_{i=1}^N f(x_i)\n",
      "$$\n",
      "\n",
      "The $x_i$ are random numbers distributed uniformly in the interval $a \\leq x_i \\leq b$, and $N$ is the number of trials.  This is formally identical to the rectangular approximation using regular, evenly spaced samples $x_i$ except that the $N$ points are chosen with random spacing. "
     ]
    },
    {
     "cell_type": "markdown",
     "metadata": {},
     "source": [
      "We can estimate the uncertainty in our numerical result using\n",
      "\n",
      "$$\n",
      "\\mathrm{unc}_N = (b-a) \\sqrt{\\frac{\\langle f^2 \\rangle - \\langle f \\rangle^2}{N}}\n",
      "$$\n",
      "\n",
      "which is related to the standard deviation of the randomly distributed values of $f(x_i)$.  The fact that the uncertainty depends on $1\\sqrt{N}$ means we would have to increase our number of samples by a factor of 100 to improve the accuracy of the result by a factor of 10.  \n",
      "\n",
      "Since the computation time will scale with the number of samples, if higher accuracy is desired, other techniques such as importance sampling are needed.  Nevertheless, for higher dimensional integrals this random sampling method does a better job than the rectangular approximation, is more efficient, and easier to implement."
     ]
    },
    {
     "cell_type": "markdown",
     "metadata": {},
     "source": [
      "To calculate the integral using the sample mean method, just take the randomly sampled $x_i$ values and compute the function at all of those points $f(x_i)$, take the average $\\langle f \\rangle$, and multiply by the interval $(b-a)$ .  This approximates the area under the curve reasonably well."
     ]
    },
    {
     "cell_type": "markdown",
     "metadata": {},
     "source": [
      "Let's write some code to compute the integral of the function $f(x) = x^{1/2} + \\sin(x)$ and its uncertainty using the sample mean method for $N$=10000.  "
     ]
    },
    {
     "cell_type": "code",
     "collapsed": false,
     "input": [
      "def sample_mean(N=10000,xmin=1.7,xmax=12.4):\n",
      "\n",
      "    #Set up the function\n",
      "    f = lambda x: x**(0.5) + np.sin(x)\n",
      "    x = np.arange(0.,15.,0.001)\n",
      "    Iana = lambda x: (2./3.)*x**(3./2.) - np.cos(x)\n",
      "    Iexact = Iana(xmax)-Iana(xmin)\n",
      "\n",
      "    ##########################################################\n",
      "    #Here's the integration part:\n",
      "    samples_x = xmin + (xmax-xmin)*np.random.random_sample(N);\n",
      "    \n",
      "    approx = f(samples_x)\n",
      "    I = approx.mean()*(xmax-xmin)\n",
      "\n",
      "    #Numerical uncertainty\n",
      "    Iunc = (xmax-xmin)*np.sqrt( ((approx**2).mean()-(approx.mean())**2)/N )\n",
      "\n",
      "    #Comparison with exact result\n",
      "    Ierr = 100*np.abs(Iexact-I)/Iexact\n",
      "    ##########################################################\n",
      "\n",
      "    #find the maximum value of f within the boundary to set ymax\n",
      "    ymax = approx.max()\n",
      "    ymin = 0.\n",
      "    \n",
      "    #Print our results\n",
      "    print \"I_exact =\", Iexact\n",
      "    print \"I_samplemean =\", I, \" +/- \",Iunc\n",
      "    print \"Error on I =\", Ierr, \"%\"\n",
      "\n",
      "    #Plot our function\n",
      "    plt.plot(x,f(x),lw=3)\n",
      "    plt.ylabel(r'$x^{1/2} + \\sin(x)$',fontsize=20)\n",
      "    plt.xlabel(r'$x$', fontsize = 20)\n",
      "    plt.xlim(0.,15.)\n",
      "\n",
      "    #plot the box\n",
      "    plt.plot([xmin, xmin], [ymin, ymax], color='k', linestyle='--') #vertical left\n",
      "    plt.plot([xmax, xmax], [ymin, ymax], color='k', linestyle='--') #vertical right\n",
      "    plt.plot([xmin, xmax], [ymax, ymax], color='k', linestyle='--') #horizontal top\n",
      "\n",
      "    #Plot the average value of the function from the samples on the same graph for comparison:\n",
      "    plt.plot((xmin,xmax),(approx.mean(),approx.mean()),'r-',label=\"Average value of function at sample points\")\n",
      "    plt.legend(loc=\"upper left\")\n",
      "    \n",
      "    plt.show()\n",
      "    \n",
      "v2 = interact(sample_mean,N=(1000,100000,100),xmin=(0.,15.,0.001),xmax=(0.,15.,0.001))"
     ],
     "language": "python",
     "metadata": {},
     "outputs": []
    },
    {
     "cell_type": "markdown",
     "metadata": {},
     "source": [
      "The area under the average is approximately equal to the area under the curve.  The uncertainty is still controlled by the variance of the function, but notice that we now have to sample half as many numbers to get a result that is nearly equivalent, if not a little better than our \"hit-or-miss\" method.  This makes the sample mean method much more advantageous.  Play with the `xmin` and `xmax` sliders to see how the function average and the boundary box change.  For example, let `xmin` = ~7 and `xmax` = ~9.  How do the estimated uncertainty and percent error compare when the function has smaller variance?"
     ]
    },
    {
     "cell_type": "heading",
     "level": 2,
     "metadata": {},
     "source": [
      "Multi-dimensional integrals"
     ]
    },
    {
     "cell_type": "markdown",
     "metadata": {},
     "source": [
      "Many problems in physics involve averaging over many variables. For example, suppose we know the position and velocity dependence of the total energy of ten interacting particles. In three dimensions each particle has three velocity components and three position components. Hence the total energy is a function of 60 variables, and a calculation of the average energy per particle involves computing a $d$ = 60 dimensional integral. (More accurately, the total energy is a function of 60 \u2212 6 = 54 variables if we use center of mass and relative coordinates.) If we divide each coordinate into $p$ intervals, there would be $p^{60}$ points to sum. Clearly, standard numerical methods such as Simpson\u2019s rule would be impractical for this example.\n",
      "\n",
      "Because the computational time is roughly proportional to $N$ in both the classical and Monte Carlo methods, for low dimensions, the classical numerical methods such as Simpson\u2019s rule are preferable to Monte Carlo methods unless the domain of integration is very complicated. However, the error in the conventional numerical methods increases with dimension, so Monte Carlo methods are essential for higher dimensional integrals."
     ]
    },
    {
     "cell_type": "markdown",
     "metadata": {},
     "source": [
      "The general method for evaluating multidimensional integrals such as\n",
      "\n",
      "$$\n",
      "I = \\int\\int\\int f(x,y,z) dx dy dz\n",
      "$$\n",
      "\n",
      "is the same as before.  Form a volume that encloses the region of interest and randomly sample space points within the volume.  Compute the average value of the function at each of those points and multiply by the total volume to get the estimate of the integral."
     ]
    },
    {
     "cell_type": "markdown",
     "metadata": {},
     "source": [
      "For example, in 3 dimensions, we can solve\n",
      "\n",
      "$$\\int_0^{9/10}\\int_0^1\\int_0^{11/10} (4 - x^2 - y^2 - z^2)dxdydz$$\n",
      "\n",
      "which has exact solution 14817/5000=2.9634.\n",
      "\n",
      "Let's look at the evolution of the uncertainty as we increase the number of samples."
     ]
    },
    {
     "cell_type": "code",
     "collapsed": false,
     "input": [
      "fxyz =  lambda x,y,z: 4. - x**2 - y**2 - z**2\n",
      "xa = 0.; xb = 9./10.\n",
      "ya = 0.; yb = 1.\n",
      "za = 0.; zb = 11./10.\n",
      "\n",
      "i = (10,100,1000,10000,100000,1000000)\n",
      "for N in i:\n",
      "    x = (xb-xa)*np.random.random_sample(N)\n",
      "    y = (yb-ya)*np.random.random_sample(N)\n",
      "    z = (zb-za)*np.random.random_sample(N)\n",
      "\n",
      "    I = (xb-xa)*(yb-ya)*(zb-za)*fxyz(x,y,z).mean()\n",
      "    err = (xb-xa)*(yb-ya)*(zb-za)*np.sqrt(((fxyz(x,y,z)**2).mean() - (fxyz(x,y,z).mean())**2)/N)\n",
      "    exact = 14817./5000\n",
      "    \n",
      "    print \"Exact =\",exact,\"I=\",I,\" +/-\",err,\"percentErr =\",100.*np.abs(I-exact)/exact"
     ],
     "language": "python",
     "metadata": {},
     "outputs": []
    },
    {
     "cell_type": "markdown",
     "metadata": {},
     "source": [
      "The advantages for this method of integration are \n",
      "\n",
      "1. The N-dependent part of the error stays the same (~$1/\\sqrt{N}$) no matter how many dimensions you integrate over.\n",
      "2. It is highly efficient because we only need to compute the mean and variance once for the whole function, instead of for each dimension individually."
     ]
    },
    {
     "cell_type": "markdown",
     "metadata": {},
     "source": [
      "Let's try one in even higher dimensions.  We'll need more symbols to represent our growing number of coordinates so let's use the standard subscript notation $\\vec{x} = (x_i)$ for $i = 1,2,...,n$.\n",
      "\n",
      "\n",
      "$$ \\int_0^{7/10}\\int_0^{4/5}\\int_0^{9/10}\\int_0^{1}\\int_0^{11/10}(6-x_1^2-x_2^2-x_3^2-x_4^2-x_5^2)dx_1dx_2dx_3dx_4dx_5$$\n",
      "\n",
      "which has the exact solution 63987/25000=2.55948."
     ]
    },
    {
     "cell_type": "code",
     "collapsed": false,
     "input": [
      "func5D =  lambda x1,x2,x3,x4,x5: 6 - x1**2 - x2**2 - x3**2 - x4**2 - x5**2\n",
      "\n",
      "L = 7./10; W = 4./5; H = 9./10; P = 1.; Q = 11./10\n",
      "\n",
      "exact = 63987./25000\n",
      "\n",
      "for N in (10,100,1000,10000,100000,1000000):\n",
      "    x1 = L*np.random.random_sample(N)\n",
      "    x2 = W*np.random.random_sample(N)\n",
      "    x3 = H*np.random.random_sample(N)\n",
      "    x4 = P*np.random.random_sample(N)\n",
      "    x5 = Q*np.random.random_sample(N)\n",
      "\n",
      "    I = (L*W*H*P*Q)*func5D(x1,x2,x3,x4,x5).mean()\n",
      "    unc = L*W*H*P*Q*np.sqrt((func5D(x1,x2,x3,x4,x5)**2).mean() - (func5D(x1,x2,x3,x4,x5).mean())**2)\n",
      "    err = 100*np.abs(I - exact)/exact\n",
      "    \n",
      "    print \"Integral=%.5f, +/- %.6f, percent err = %.3f, N = %d\"%(I,unc,err,N)"
     ],
     "language": "python",
     "metadata": {},
     "outputs": []
    },
    {
     "cell_type": "markdown",
     "metadata": {},
     "source": [
      "And finally for a function with no exact solution:\n",
      "\n",
      "$$ \\int_0^{7/10}\\int_0^{4/5}\\int_0^{9/10}\\int_0^{1}\\int_0^{11/10}\\sqrt{6-x_1^2-x_2^2-x_3^2-x_4^2-x_5^2}dx_1dx_2dx_3dx_4dx_5$$"
     ]
    },
    {
     "cell_type": "code",
     "collapsed": false,
     "input": [
      "func5D =  lambda x1,x2,x3,x4,x5: np.sqrt(6 - x1**2 - x2**2 - x3**2 - x4**2 - x5**2)\n",
      "\n",
      "L = 7./10; W = 4./5; H = 9./10; P = 1.; Q = 11./10\n",
      "\n",
      "for N in (10,100,1000,10000,100000,1000000):\n",
      "    x1 = L*np.random.random_sample(N)\n",
      "    x2 = W*np.random.random_sample(N)\n",
      "    x3 = H*np.random.random_sample(N)\n",
      "    x4 = P*np.random.random_sample(N)\n",
      "    x5 = Q*np.random.random_sample(N)\n",
      "\n",
      "    I = (L*W*H*P*Q)*func5D(x1,x2,x3,x4,x5).mean()\n",
      "    unc = L*W*H*P*Q*np.sqrt((func5D(x1,x2,x3,x4,x5)**2).mean() - (func5D(x1,x2,x3,x4,x5).mean())**2)\n",
      "    \n",
      "    print \"Integral=%.5f, +/- %.6f, N = %d\"%(I,unc,N)"
     ],
     "language": "python",
     "metadata": {},
     "outputs": []
    },
    {
     "cell_type": "markdown",
     "metadata": {},
     "source": [
      "The solution converges more quickly, suggesting that in this case the smoothness of the function dominates the uncertainty rather than the sample size."
     ]
    },
    {
     "cell_type": "markdown",
     "metadata": {},
     "source": [
      "---"
     ]
    },
    {
     "cell_type": "markdown",
     "metadata": {},
     "source": [
      "<img src=\"../../C4PLogo.png\" width=200 style=\"display: inline;\"> All content is under a modified MIT License, and can be freely used and adapted.  See the full license text [here](../../LICENSE)."
     ]
    }
   ],
   "metadata": {}
  }
 ]
}