{
 "metadata": {
  "name": "",
  "signature": "sha256:3a7cb16a8030039cd4fe2d7e864ae12cf7d8eb502349e3cbaf964325087de13b"
 },
 "nbformat": 3,
 "nbformat_minor": 0,
 "worksheets": [
  {
   "cells": [
    {
     "cell_type": "heading",
     "level": 1,
     "metadata": {},
     "source": [
      "<img src=\"../../C4PLogo.png\" width=300 style=\"display: inline;\"> Monte Carlo Integration Exercises"
     ]
    },
    {
     "cell_type": "markdown",
     "metadata": {},
     "source": [
      "---"
     ]
    },
    {
     "cell_type": "markdown",
     "metadata": {},
     "source": [
      "**Instructions:** Create a new notebook called `MCIntegrationExercises` in your `MCIntegration` directory and solve the following problems inside it. Be sure to include the problem statements in a markdown cell above your solution. You don't need to put the \"helper\" code in the markdown cell, just implement the helper code in your code cell with your solution."
     ]
    },
    {
     "cell_type": "markdown",
     "metadata": {},
     "source": [
      "**Preliminaries:** At the top of your notebook, include a \"Heading 1\" cell with the title **Monte Carlo Integration Exercises**.  Then include the inline functions and libraries by adding a code cell that invokes the `%pylab inline` magic and imports the needed packages."
     ]
    },
    {
     "cell_type": "markdown",
     "metadata": {},
     "source": [
      "---"
     ]
    },
    {
     "cell_type": "heading",
     "level": 2,
     "metadata": {},
     "source": [
      "Question 1"
     ]
    },
    {
     "cell_type": "markdown",
     "metadata": {},
     "source": [
      "Let\u2019s compute the electric potential from a plane of charge as shown in the figure using Monte Carlo integration.  \n",
      "\n",
      "<img src =\"SurfaceCharge.png\" width=500>\n",
      "\n",
      "\\begin{equation}\n",
      "V = \\int_0^2\\int_{-1}^1 \\frac{K\\sigma dx dy}{\\sqrt{x^2+y^2}}\n",
      "\\end{equation}\n",
      "\n",
      "The integral comes from summing all the potentials from the chunks of \u201cpoint\u201d charges.  Just as we summed two charges for a dipole, now we\u2019ll sum many charges.  The important part is to understand how $dQ$, modeled as a point charge, is related to $\\sigma dA$, where $\\sigma$ is the surface charge density = charge/area ($\\sigma = Q/A$ )  Review your notes from your introductory physics class if you need a refresher.  \n",
      "\n",
      "We want to use our previously defined `point_potential()` function from `Electrostatics.py`, so we have to import it. Since it was created as part of the Interpolation Tour, we need to add the path to that directory in our Python search path so the module can be found: \n"
     ]
    },
    {
     "cell_type": "code",
     "collapsed": false,
     "input": [
      "#import our point potential function\n",
      "import sys\n",
      "sys.path.append(\"../Interpolation/\")\n",
      "from Electrostatics import *\n",
      "help(point_potential)"
     ],
     "language": "python",
     "metadata": {},
     "outputs": [],
     "prompt_number": 2
    },
    {
     "cell_type": "markdown",
     "metadata": {},
     "source": [
      "**(a)** Use the sample mean method with `point_potential` to compute the potential at point $P(2,3)$ due to the disk of charge for different numbers of samples $N = (10^1, 10^2, 10^3, 10^4, 10^5, 10^6)$.  Report the value and its statistical uncertainty for each sample size.  How does the result depend on N?"
     ]
    },
    {
     "cell_type": "code",
     "collapsed": false,
     "input": [
      "#Copy the exercise statement to a markdown cell in your notebook and then implement a solution in a code cell"
     ],
     "language": "python",
     "metadata": {},
     "outputs": []
    },
    {
     "cell_type": "markdown",
     "metadata": {},
     "source": [
      "**(b)** Now use the same method to compute the electric potential, $V$, at point $P$(2,3), from a disk centered on the origin with radius, $R$=1.2 m, and charge density, $\\sigma$ = 2 nC/m$^2$ .\n",
      "\n",
      "<img src=\"ChargedDisk.png\" width=500>\n",
      "\n",
      "The integral is\n",
      "\n",
      "$$\n",
      "V = {\\int_0^{2\\pi}\\int_0^{1.2} \\frac{K\\sigma}{|r-r_0|}} rd\\theta dr\n",
      "$$\n",
      "\n",
      "You'll need to think about how to set this one up for use with the `point_potential` function, since that uses Cartesian coordinates and this integral is in polar coordinates."
     ]
    },
    {
     "cell_type": "code",
     "collapsed": false,
     "input": [
      "#Copy the exercise statement to a markdown cell in your notebook and then implement a solution in a code cell"
     ],
     "language": "python",
     "metadata": {},
     "outputs": []
    },
    {
     "cell_type": "markdown",
     "metadata": {},
     "source": [
      "---"
     ]
    },
    {
     "cell_type": "heading",
     "level": 2,
     "metadata": {},
     "source": [
      "Question 2"
     ]
    },
    {
     "cell_type": "markdown",
     "metadata": {},
     "source": [
      "Use the sample mean method to compute the volume of a sphere with radius 1 using spherical coordinates:\n",
      "\n",
      "$$\n",
      "V = \\int_0^1\\int_0^{\\pi}\\int_0^{2\\pi} r^2\\sin(\\theta)drd\\theta d\\phi\n",
      "$$\n",
      "\n",
      "for $N = (10^1,10^2,10^3,10^4,10^5,10^6)$.  Report the value and statistical uncertainty for each sample size.  How does the result depend on $N$?"
     ]
    },
    {
     "cell_type": "code",
     "collapsed": false,
     "input": [
      "#Copy the exercise statement to a markdown cell in your notebook and then implement a solution in a code cell"
     ],
     "language": "python",
     "metadata": {},
     "outputs": []
    },
    {
     "cell_type": "markdown",
     "metadata": {},
     "source": [
      "---"
     ]
    },
    {
     "cell_type": "heading",
     "level": 2,
     "metadata": {},
     "source": [
      "Question 3"
     ]
    },
    {
     "cell_type": "markdown",
     "metadata": {},
     "source": [
      "**(a)** Use the hit or miss Monte Carlo method to estimate the integral of $f(x) = 4\\sqrt{1-x^2}$ in the interval $0\\leq x \\leq 1$ as a function of $N$, the number of samples.  Let $N$ range from 10$^1$ to 10$^6$ and use at least 100 different values for $N$.  \n",
      "\n",
      "(`np.logspace` might be useful here to get evenly spaced values for $N$.)  "
     ]
    },
    {
     "cell_type": "code",
     "collapsed": false,
     "input": [
      "#Copy the exercise statement to a markdown cell in your notebook and then implement a solution in a code cell"
     ],
     "language": "python",
     "metadata": {},
     "outputs": []
    },
    {
     "cell_type": "markdown",
     "metadata": {},
     "source": [
      "**(b)** Calculate the percent error for the $N$ values from part (a) using the exact result $\\pi$.  Make a log-log plot of the error as a function of $N$.  \n",
      "\n",
      "What is the approximate functional dependence of the error on $N$ for large $N$, for example $N \\geq 10^4$?"
     ]
    },
    {
     "cell_type": "code",
     "collapsed": false,
     "input": [
      "#Copy the exercise statement to a markdown cell in your notebook and then implement a solution in a code cell"
     ],
     "language": "python",
     "metadata": {},
     "outputs": []
    },
    {
     "cell_type": "markdown",
     "metadata": {},
     "source": [
      "**(c)** Estimate the same integral using the sample mean method and compute the statistical uncertainty and error as a function of the number of samples $N$ for $N \\geq 10^4$.  Use at least 100 different values for $N$.\n",
      "\n",
      "Make a log-log plot of both the statistical uncertainty and the error as a function of $N$.  \n",
      "\n",
      "How many samples are needed to determine the result to two decimal places?  What is the approximate functional dependence of the error on $N$ for large $N$?"
     ]
    },
    {
     "cell_type": "code",
     "collapsed": false,
     "input": [
      "#Copy the exercise statement to a markdown cell in your notebook and then implement a solution in a code cell"
     ],
     "language": "python",
     "metadata": {},
     "outputs": []
    },
    {
     "cell_type": "markdown",
     "metadata": {},
     "source": [
      "---"
     ]
    },
    {
     "cell_type": "markdown",
     "metadata": {},
     "source": [
      "<img src=\"../../C4PLogo.png\" width=200 style=\"display: inline;\"> All content is under a modified MIT License, and can be freely used and adapted.  See the full license text [here](../../LICENSE)."
     ]
    }
   ],
   "metadata": {}
  }
 ]
}